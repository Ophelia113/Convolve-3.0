{
 "cells": [
  {
   "cell_type": "markdown",
   "id": "8669b732-5355-49be-b7b4-c61c0cea9c94",
   "metadata": {
    "id": "8669b732-5355-49be-b7b4-c61c0cea9c94"
   },
   "source": [
    "# <span><h1 style = \"font-family: garamond; font-size: 40px; font-style: normal; letter-spcaing: 3px; background-color: #f6f5f5; color :#fe346e; border-radius: 100px 100px; text-align:center\">CONVOLVE 3.0 Round 2 </h1></span>"
   ]
  },
  {
   "cell_type": "markdown",
   "id": "09c45825-6edc-4a5b-9e41-2ed3daa29ae4",
   "metadata": {
    "id": "09c45825-6edc-4a5b-9e41-2ed3daa29ae4",
    "jp-MarkdownHeadingCollapsed": true
   },
   "source": [
    "# Importing Important Libraries"
   ]
  },
  {
   "cell_type": "code",
   "execution_count": null,
   "id": "88cf169c-8ac4-43fc-86cf-c9ad44dc7155",
   "metadata": {
    "id": "88cf169c-8ac4-43fc-86cf-c9ad44dc7155"
   },
   "outputs": [],
   "source": [
    "import pandas as pd\n",
    "import numpy as np\n",
    "#=====================#\n",
    "from sklearn.preprocessing import LabelEncoder\n",
    "from sklearn.preprocessing import StandardScaler\n",
    "from sklearn.model_selection import train_test_split\n",
    "import xgboost as xgb\n",
    "from sklearn.model_selection import cross_val_score, train_test_split\n",
    "from sklearn.metrics import accuracy_score\n",
    "from sklearn.utils.class_weight import compute_class_weight\n",
    "import warnings\n",
    "warnings.filterwarnings(\"ignore\")\n"
   ]
  },
  {
   "cell_type": "markdown",
   "id": "01df0bd3-3545-4fb3-a12f-6131eee88c5d",
   "metadata": {
    "id": "01df0bd3-3545-4fb3-a12f-6131eee88c5d",
    "jp-MarkdownHeadingCollapsed": true
   },
   "source": [
    "# EXPLORATORY DATA ANALYSIS AND CREATING TARGET COLUMN USING train_action_history"
   ]
  },
  {
   "cell_type": "code",
   "execution_count": null,
   "id": "9378f492-cc3c-4adf-949d-65450aa25878",
   "metadata": {
    "id": "9378f492-cc3c-4adf-949d-65450aa25878"
   },
   "outputs": [],
   "source": [
    "train_history=pd.read_csv(\"train_action_history.csv\")\n",
    "print(train_history.shape)\n",
    "train_history.head()"
   ]
  },
  {
   "cell_type": "code",
   "execution_count": null,
   "id": "7a92f3a3-faf3-446c-b676-49d835f2cd3c",
   "metadata": {
    "id": "7a92f3a3-faf3-446c-b676-49d835f2cd3c"
   },
   "outputs": [],
   "source": [
    "train_history.columns"
   ]
  },
  {
   "cell_type": "code",
   "execution_count": null,
   "id": "c0b92078-6af3-4c73-b0b8-6d9fc809c6c9",
   "metadata": {
    "id": "c0b92078-6af3-4c73-b0b8-6d9fc809c6c9"
   },
   "outputs": [],
   "source": [
    "train_cdna=pd.read_csv(\"train_cdna_data.csv\")\n",
    "print(train_cdna.shape)\n",
    "train_cdna.head()"
   ]
  },
  {
   "cell_type": "code",
   "execution_count": null,
   "id": "c48496ce-0c98-413a-9707-a621e193751a",
   "metadata": {
    "id": "c48496ce-0c98-413a-9707-a621e193751a"
   },
   "outputs": [],
   "source": [
    "for x in train_cdna.columns:\n",
    "    print(x)"
   ]
  },
  {
   "cell_type": "code",
   "execution_count": null,
   "id": "92ea9bf9-280b-4af4-be93-097484e3d3e7",
   "metadata": {
    "id": "92ea9bf9-280b-4af4-be93-097484e3d3e7"
   },
   "outputs": [],
   "source": [
    "train_history['customer_code'].nunique()"
   ]
  },
  {
   "cell_type": "code",
   "execution_count": null,
   "id": "e94e8bd8-98f4-4f5c-aee5-517cc9ea79d2",
   "metadata": {
    "id": "e94e8bd8-98f4-4f5c-aee5-517cc9ea79d2"
   },
   "outputs": [],
   "source": [
    "train_cdna['CUSTOMER_CODE'].nunique()"
   ]
  },
  {
   "cell_type": "code",
   "execution_count": null,
   "id": "d19ca8b6-e95d-42a7-b0a1-8d50cac13658",
   "metadata": {
    "id": "d19ca8b6-e95d-42a7-b0a1-8d50cac13658"
   },
   "outputs": [],
   "source": [
    "train_cdna['batch_date'].unique()"
   ]
  },
  {
   "cell_type": "code",
   "execution_count": null,
   "id": "2fed79c5-0dc0-425d-b208-e8003f80fe57",
   "metadata": {
    "id": "2fed79c5-0dc0-425d-b208-e8003f80fe57"
   },
   "outputs": [],
   "source": [
    "print(train_history['send_timestamp'].min())\n",
    "print(train_history['send_timestamp'].max())"
   ]
  },
  {
   "cell_type": "code",
   "execution_count": null,
   "id": "b54a87b3-52c7-4d47-bcd2-fd3410f76d82",
   "metadata": {
    "id": "b54a87b3-52c7-4d47-bcd2-fd3410f76d82"
   },
   "outputs": [],
   "source": [
    "customer_data=train_cdna['CUSTOMER_CODE'].value_counts()\n",
    "for customer,value in customer_data.items():\n",
    "    print(customer,value)"
   ]
  },
  {
   "cell_type": "markdown",
   "id": "6404c970-5206-4187-838f-9020136d6696",
   "metadata": {
    "id": "6404c970-5206-4187-838f-9020136d6696",
    "jp-MarkdownHeadingCollapsed": true
   },
   "source": [
    "### Removing customers which donot have data in train_cdna"
   ]
  },
  {
   "cell_type": "code",
   "execution_count": null,
   "id": "9e3e9a58-4a33-4265-a931-6098a33ac309",
   "metadata": {
    "id": "9e3e9a58-4a33-4265-a931-6098a33ac309"
   },
   "outputs": [],
   "source": [
    "filtered_train_history = train_history[train_history['customer_code'].isin(train_cdna['CUSTOMER_CODE'])]"
   ]
  },
  {
   "cell_type": "code",
   "execution_count": null,
   "id": "8b535e96-f881-4c5d-9c1d-9345d8b4d024",
   "metadata": {
    "id": "8b535e96-f881-4c5d-9c1d-9345d8b4d024"
   },
   "outputs": [],
   "source": [
    "filtered_train_history['customer_code'].nunique()"
   ]
  },
  {
   "cell_type": "code",
   "execution_count": null,
   "id": "58b0ddd5-be50-47c7-859b-c3ec799c61c0",
   "metadata": {
    "id": "58b0ddd5-be50-47c7-859b-c3ec799c61c0"
   },
   "outputs": [],
   "source": [
    "filtered_train_history.shape"
   ]
  },
  {
   "cell_type": "code",
   "execution_count": null,
   "id": "a4d64ec5-59f8-405f-88a7-4d61942e647a",
   "metadata": {
    "id": "a4d64ec5-59f8-405f-88a7-4d61942e647a"
   },
   "outputs": [],
   "source": [
    "print(set(filtered_train_history['customer_code']) - set(train_cdna['CUSTOMER_CODE']))"
   ]
  },
  {
   "cell_type": "markdown",
   "id": "3448258e-d7b3-4ff5-a6ef-c3b3981f2c49",
   "metadata": {
    "id": "3448258e-d7b3-4ff5-a6ef-c3b3981f2c49",
    "jp-MarkdownHeadingCollapsed": true
   },
   "source": [
    "### Mapping the Slots to values between 1 to 28 with 0 indicating not opened"
   ]
  },
  {
   "cell_type": "code",
   "execution_count": null,
   "id": "2e36dd03-ce19-479c-9e8f-6b7ab5f3d0ff",
   "metadata": {
    "id": "2e36dd03-ce19-479c-9e8f-6b7ab5f3d0ff"
   },
   "outputs": [],
   "source": [
    "filtered_train_history.loc[:, 'send_timestamp'] = pd.to_datetime(filtered_train_history['send_timestamp'])\n",
    "filtered_train_history.loc[:, 'open_timestamp'] = pd.to_datetime(filtered_train_history['open_timestamp'])"
   ]
  },
  {
   "cell_type": "code",
   "execution_count": null,
   "id": "89e11172-dbe6-4048-bdc2-2e6f6ff57206",
   "metadata": {
    "id": "89e11172-dbe6-4048-bdc2-2e6f6ff57206"
   },
   "outputs": [],
   "source": [
    "filtered_trained_history_time = filtered_train_history[(filtered_train_history['open_timestamp'].isna()) | (filtered_train_history['open_timestamp'] > filtered_train_history['send_timestamp'])]"
   ]
  },
  {
   "cell_type": "code",
   "execution_count": null,
   "id": "6f9917d1-57f8-47dc-bc12-60e49e2c9715",
   "metadata": {
    "id": "6f9917d1-57f8-47dc-bc12-60e49e2c9715"
   },
   "outputs": [],
   "source": [
    "filtered_train_history.head()"
   ]
  },
  {
   "cell_type": "code",
   "execution_count": null,
   "id": "8b6b6b47-80ba-435a-8428-3a8f58d58dc0",
   "metadata": {
    "id": "8b6b6b47-80ba-435a-8428-3a8f58d58dc0"
   },
   "outputs": [],
   "source": [
    "# Define function to map timestamp to time slot\n",
    "def map_to_slot(timestamp):\n",
    "    if pd.isna(timestamp):\n",
    "        return 0  # NaT gets slot 0\n",
    "    # Extract the day of the week (0=Monday, 6=Sunday) and hour\n",
    "    day_of_week = timestamp.weekday()  # Monday = 0, Sunday = 6\n",
    "    hour = timestamp.hour\n",
    "\n",
    "    # Determine the time slot based on the hour\n",
    "    if 9 <= hour < 12:\n",
    "        slot_in_day = 1\n",
    "    elif 12 <= hour < 15:\n",
    "        slot_in_day = 2\n",
    "    elif 15 <= hour < 18:\n",
    "        slot_in_day = 3\n",
    "    elif 18 <= hour < 21:\n",
    "        slot_in_day = 4\n",
    "    else:\n",
    "        return 0  # Time outside defined slots\n",
    "\n",
    "    # Calculate the overall slot number\n",
    "    return day_of_week * 4 + slot_in_day\n",
    "\n",
    "filtered_train_history = filtered_train_history.copy()\n",
    "filtered_train_history['time_slot'] = filtered_train_history['open_timestamp'].apply(map_to_slot)\n"
   ]
  },
  {
   "cell_type": "code",
   "execution_count": null,
   "id": "dbff30bb-3684-4859-89ec-7a03ecd285d3",
   "metadata": {
    "id": "dbff30bb-3684-4859-89ec-7a03ecd285d3"
   },
   "outputs": [],
   "source": [
    "filtered_train_history['sent_time_slot']=filtered_train_history['send_timestamp'].apply(map_to_slot)\n",
    "filtered_train_history"
   ]
  },
  {
   "cell_type": "markdown",
   "id": "6362b1e8-a4ff-405b-9e5f-cd2639c63263",
   "metadata": {
    "id": "6362b1e8-a4ff-405b-9e5f-cd2639c63263",
    "jp-MarkdownHeadingCollapsed": true
   },
   "source": [
    "### Creating a batch_date_history column so that it can be joined with the corresponding batch_dates of the train_cdna"
   ]
  },
  {
   "cell_type": "code",
   "execution_count": null,
   "id": "2b6d04e0-5b9b-49bb-b71e-988915954dec",
   "metadata": {
    "id": "2b6d04e0-5b9b-49bb-b71e-988915954dec"
   },
   "outputs": [],
   "source": [
    "# Convert send_timestamp to datetime\n",
    "filtered_train_history['date_send'] = pd.to_datetime(filtered_train_history['send_timestamp'])\n",
    "\n",
    "# Vectorized assignment of batch_date_history\n",
    "conditions = [\n",
    "    filtered_train_history['date_send'] < '2024-06-28',\n",
    "    filtered_train_history['date_send'] < '2024-07-26',\n",
    "    filtered_train_history['date_send'] < '2024-08-30',\n",
    "    filtered_train_history['date_send'] < '2024-09-27',\n",
    "    filtered_train_history['date_send'] < '2024-10-25'\n",
    "]\n",
    "choices = [\n",
    "    pd.Timestamp('2024-05-31').date(),\n",
    "    pd.Timestamp('2024-06-28').date(),\n",
    "    pd.Timestamp('2024-07-26').date(),\n",
    "    pd.Timestamp('2024-08-30').date(),\n",
    "    pd.Timestamp('2024-09-27').date()\n",
    "]\n",
    "\n",
    "filtered_train_history['batch_date_history'] = np.select(\n",
    "    conditions,\n",
    "    choices,\n",
    "    default=pd.Timestamp('2024-10-25').date()  # Default value for remaining rows\n",
    ")\n"
   ]
  },
  {
   "cell_type": "markdown",
   "id": "a037c1e9-55f9-47a0-920e-fcb0b4fb9794",
   "metadata": {
    "id": "a037c1e9-55f9-47a0-920e-fcb0b4fb9794",
    "jp-MarkdownHeadingCollapsed": true
   },
   "source": [
    "### Creation of Target Column"
   ]
  },
  {
   "cell_type": "code",
   "execution_count": null,
   "id": "61752aa8-f503-484e-9bde-13f05429bf59",
   "metadata": {
    "id": "61752aa8-f503-484e-9bde-13f05429bf59"
   },
   "outputs": [],
   "source": [
    "# Filter rows where time_slot > 0\n",
    "filtered_train_history_notzero = filtered_train_history[filtered_train_history['time_slot'] > 0]\n",
    "\n",
    "# Group and aggregate to get counts for each time_slot\n",
    "grouped = (\n",
    "    filtered_train_history_notzero.groupby(['batch_date_history', 'customer_code', 'time_slot'])\n",
    "    .size()\n",
    "    .reset_index(name='count')\n",
    ")\n",
    "\n",
    "# For each batch_date_history and customer_code, handle ties by taking the median time_slot\n",
    "def resolve_ties(group):\n",
    "    max_count = group['count'].max()                 # Find the maximum count\n",
    "    max_slots = group[group['count'] == max_count]  # Filter rows with the maximum count\n",
    "    median_slot = max_slots['time_slot'].median()   # Compute the median of the time_slot\n",
    "    return pd.Series({\n",
    "        'target_slot': median_slot\n",
    "    })\n",
    "\n",
    "# Apply the function to resolve ties and create the target column\n",
    "target_dataset = grouped.groupby(['batch_date_history', 'customer_code']).apply(resolve_ties).reset_index()"
   ]
  },
  {
   "cell_type": "code",
   "execution_count": null,
   "id": "fa9c9c75-f33a-445a-8aad-ef6946d11d95",
   "metadata": {
    "id": "fa9c9c75-f33a-445a-8aad-ef6946d11d95"
   },
   "outputs": [],
   "source": [
    "filtered_row2 = target_dataset[target_dataset['customer_code'] == '0000b844339117db33d8dcc6ca4e97a8c989a918c8cf0183e1b4b6f1e149a2d9']\n",
    "filtered_row2"
   ]
  },
  {
   "cell_type": "code",
   "execution_count": null,
   "id": "474f5cb9-9bae-4ee3-90b2-5d96f7f7a79b",
   "metadata": {
    "id": "474f5cb9-9bae-4ee3-90b2-5d96f7f7a79b"
   },
   "outputs": [],
   "source": [
    "filtered_row = grouped[grouped['customer_code'] == '0000b844339117db33d8dcc6ca4e97a8c989a918c8cf0183e1b4b6f1e149a2d9']\n",
    "filtered_row"
   ]
  },
  {
   "cell_type": "code",
   "execution_count": null,
   "id": "c5755f29-903c-43c8-8c4a-bfc7c9625d9e",
   "metadata": {
    "id": "c5755f29-903c-43c8-8c4a-bfc7c9625d9e"
   },
   "outputs": [],
   "source": [
    "target_dataset.to_csv(\"target_median.csv\", index=False)"
   ]
  },
  {
   "cell_type": "markdown",
   "id": "ab6e3057-f2da-430f-acc3-fde1c7336caf",
   "metadata": {
    "id": "ab6e3057-f2da-430f-acc3-fde1c7336caf",
    "jp-MarkdownHeadingCollapsed": true
   },
   "source": [
    "# EXPLORATORY DATA ANALYSIS AND PREPROCESSING OF train_cdna_data"
   ]
  },
  {
   "cell_type": "code",
   "execution_count": null,
   "id": "51f0b54e-c790-45f8-bf3c-1ae754c87016",
   "metadata": {
    "id": "51f0b54e-c790-45f8-bf3c-1ae754c87016"
   },
   "outputs": [],
   "source": [
    "file_path = \"train_cdna_data.csv\"\n",
    "cdna_df = pd.read_csv(file_path)"
   ]
  },
  {
   "cell_type": "code",
   "execution_count": null,
   "id": "cc16bd47-f40d-4286-910b-206cbfbd414f",
   "metadata": {
    "id": "cc16bd47-f40d-4286-910b-206cbfbd414f",
    "outputId": "cd0599a4-ec23-4aee-eaf1-802baad1cc99"
   },
   "outputs": [
    {
     "name": "stdout",
     "output_type": "stream",
     "text": [
      "Initial Dataset Overview:\n",
      "                                       CUSTOMER_CODE     v2  v3  v4   v5  \\\n",
      "0  ab617a6a0a8582f4aaa1aeda38fd73377cb911e6096a98...  50-54 NaN NaN   99   \n",
      "1  6e8e3227297409f3f33578400302825263cadc2ed0d1a0...  35-39 NaN NaN   ZZ   \n",
      "2  1b42f270aba756b64d7ae4e2409313097b0c91f7c2f2c7...  20-24 NaN NaN   99   \n",
      "3  06a4aae9b531a518260c7d0d88811cc202fd0d3e46d9ea...  20-24 NaN NaN  NaN   \n",
      "4  0e4fa92b7a41dc019c9f40457e180e94ca60d0b5c7128e...  30-34 NaN NaN  NaN   \n",
      "\n",
      "            v6     v7   v8     v9  v10  ... v294  v295 v296 v297 v298 v299  \\\n",
      "0        THANE  99999  NaN  INDIA   IN  ...  187    44  204  150   73  271   \n",
      "1         Pune     ZZ  NaN  INDIA  411  ...  187    44  204  150   73  271   \n",
      "2      BHIWANI  95013  NaN  INDIA   IN  ...  187    44  204  150   73  271   \n",
      "3  CHIKMAGALUR    NaN  NaN  INDIA  NaN  ...  187    44  204  150   73  271   \n",
      "4        NASIK    NaN  NaN  INDIA  NaN  ...  187    44  204  150   73  271   \n",
      "\n",
      "  v300 v301 v302  batch_date  \n",
      "0  164  170  246  2024-09-27  \n",
      "1  164  170  246  2024-09-27  \n",
      "2  164  170  246  2024-09-27  \n",
      "3  164  170  246  2024-09-27  \n",
      "4  164  170  246  2024-09-27  \n",
      "\n",
      "[5 rows x 303 columns]\n",
      "\n",
      "Dataset Info:\n",
      "<class 'pandas.core.frame.DataFrame'>\n",
      "RangeIndex: 1285402 entries, 0 to 1285401\n",
      "Columns: 303 entries, CUSTOMER_CODE to batch_date\n",
      "dtypes: bool(9), float64(181), int64(35), object(78)\n",
      "memory usage: 2.8+ GB\n",
      "None\n"
     ]
    }
   ],
   "source": [
    "# Display initial overview\n",
    "print(\"Initial Dataset Overview:\")\n",
    "print(cdna_df.head())\n",
    "print(\"\\nDataset Info:\")\n",
    "print(cdna_df.info())"
   ]
  },
  {
   "cell_type": "markdown",
   "id": "40ce07c5-7756-4e9d-a1fc-96024d7e0b3e",
   "metadata": {
    "id": "40ce07c5-7756-4e9d-a1fc-96024d7e0b3e"
   },
   "source": [
    "### Handle Age Range(Mean)"
   ]
  },
  {
   "cell_type": "markdown",
   "id": "9SPdL1vgBppV",
   "metadata": {
    "id": "9SPdL1vgBppV"
   },
   "source": [
    "Column v2 :  Contains age range. Replaced range with mean."
   ]
  },
  {
   "cell_type": "code",
   "execution_count": null,
   "id": "0bb5515d-c9ef-446c-b4d5-fa9fc814ed94",
   "metadata": {
    "id": "0bb5515d-c9ef-446c-b4d5-fa9fc814ed94",
    "outputId": "eb4bf2c3-1d18-4962-b5b6-513c7ab233ba"
   },
   "outputs": [
    {
     "name": "stdout",
     "output_type": "stream",
     "text": [
      "\n",
      "Processed Age Range into Mean:\n",
      "   age_mean\n",
      "0      52.0\n",
      "1      37.0\n",
      "2      22.0\n",
      "3      22.0\n",
      "4      32.0\n"
     ]
    }
   ],
   "source": [
    "# Example: Assume column `v2` contains age ranges like '50-54'\n",
    "if 'v2' in cdna_df.columns:\n",
    "    cdna_df['age_mean'] = cdna_df['v2'].str.split('-').apply(lambda x: (int(x[0]) + int(x[1])) / 2 if isinstance(x, list) else np.nan)\n",
    "    cdna_df.drop('v2', axis=1, inplace=True)\n",
    "    print(\"\\nProcessed Age Range into Mean:\")\n",
    "    print(cdna_df[['age_mean']].head())\n"
   ]
  },
  {
   "cell_type": "markdown",
   "id": "e96ee727-04b1-482a-b944-ac90deaabed1",
   "metadata": {
    "id": "e96ee727-04b1-482a-b944-ac90deaabed1"
   },
   "source": [
    "### Drop Columns with Significant NaN Values"
   ]
  },
  {
   "cell_type": "markdown",
   "id": "1OvjZKC1B1Zs",
   "metadata": {
    "id": "1OvjZKC1B1Zs"
   },
   "source": [
    "To address missing values in the dataset, we identified and removed columns between 60-90% missing values and those over 95% missing values."
   ]
  },
  {
   "cell_type": "code",
   "execution_count": null,
   "id": "2ce42c85-0a36-49c1-934e-b028986e6bb3",
   "metadata": {
    "id": "2ce42c85-0a36-49c1-934e-b028986e6bb3",
    "outputId": "b6348c24-ed95-4681-c6e3-1adfea1685e6"
   },
   "outputs": [
    {
     "data": {
      "text/html": [
       "<div>\n",
       "<style scoped>\n",
       "    .dataframe tbody tr th:only-of-type {\n",
       "        vertical-align: middle;\n",
       "    }\n",
       "\n",
       "    .dataframe tbody tr th {\n",
       "        vertical-align: top;\n",
       "    }\n",
       "\n",
       "    .dataframe thead th {\n",
       "        text-align: right;\n",
       "    }\n",
       "</style>\n",
       "<table border=\"1\" class=\"dataframe\">\n",
       "  <thead>\n",
       "    <tr style=\"text-align: right;\">\n",
       "      <th></th>\n",
       "      <th>count</th>\n",
       "    </tr>\n",
       "  </thead>\n",
       "  <tbody>\n",
       "    <tr>\n",
       "      <th>CUSTOMER_CODE</th>\n",
       "      <td>0</td>\n",
       "    </tr>\n",
       "    <tr>\n",
       "      <th>v3</th>\n",
       "      <td>1285402</td>\n",
       "    </tr>\n",
       "    <tr>\n",
       "      <th>v4</th>\n",
       "      <td>1285402</td>\n",
       "    </tr>\n",
       "    <tr>\n",
       "      <th>v5</th>\n",
       "      <td>441673</td>\n",
       "    </tr>\n",
       "    <tr>\n",
       "      <th>v6</th>\n",
       "      <td>3907</td>\n",
       "    </tr>\n",
       "    <tr>\n",
       "      <th>...</th>\n",
       "      <td>...</td>\n",
       "    </tr>\n",
       "    <tr>\n",
       "      <th>v300</th>\n",
       "      <td>0</td>\n",
       "    </tr>\n",
       "    <tr>\n",
       "      <th>v301</th>\n",
       "      <td>0</td>\n",
       "    </tr>\n",
       "    <tr>\n",
       "      <th>v302</th>\n",
       "      <td>0</td>\n",
       "    </tr>\n",
       "    <tr>\n",
       "      <th>batch_date</th>\n",
       "      <td>0</td>\n",
       "    </tr>\n",
       "    <tr>\n",
       "      <th>age_mean</th>\n",
       "      <td>45223</td>\n",
       "    </tr>\n",
       "  </tbody>\n",
       "</table>\n",
       "<p>303 rows × 1 columns</p>\n",
       "</div>"
      ],
      "text/plain": [
       "                 count\n",
       "CUSTOMER_CODE        0\n",
       "v3             1285402\n",
       "v4             1285402\n",
       "v5              441673\n",
       "v6                3907\n",
       "...                ...\n",
       "v300                 0\n",
       "v301                 0\n",
       "v302                 0\n",
       "batch_date           0\n",
       "age_mean         45223\n",
       "\n",
       "[303 rows x 1 columns]"
      ]
     },
     "execution_count": 81,
     "metadata": {},
     "output_type": "execute_result"
    }
   ],
   "source": [
    "null_count=pd.DataFrame(cdna_df.isnull().sum())\n",
    "null_count.columns=['count']\n",
    "null_count"
   ]
  },
  {
   "cell_type": "code",
   "execution_count": null,
   "id": "c31a5cb2-f697-45a6-a0bb-1f5813e9bc29",
   "metadata": {
    "id": "c31a5cb2-f697-45a6-a0bb-1f5813e9bc29",
    "outputId": "79ba1621-e253-4b77-95f4-299e92ddc9fc",
    "scrolled": true
   },
   "outputs": [
    {
     "name": "stdout",
     "output_type": "stream",
     "text": [
      "v3 1285402\n",
      "v4 1285402\n",
      "v5 441673\n",
      "v6 3907\n",
      "v7 392784\n",
      "v8 1285391\n",
      "v9 21028\n",
      "v10 181687\n",
      "v11 12\n",
      "v12 1285390\n",
      "v13 1285385\n",
      "v14 1285385\n",
      "v15 688538\n",
      "v16 1285151\n",
      "v17 1284237\n",
      "v18 1285057\n",
      "v19 1284857\n",
      "v20 1284934\n",
      "v21 1285402\n",
      "v22 1285402\n",
      "v23 1285402\n",
      "v24 404144\n",
      "v25 1285402\n",
      "v26 1285402\n",
      "v27 60259\n",
      "v28 1285385\n",
      "v29 234294\n",
      "v30 66857\n",
      "v31 50456\n",
      "v32 541819\n",
      "v33 210781\n",
      "v34 195766\n",
      "v35 262859\n",
      "v37 5885\n",
      "v38 1280876\n",
      "v42 587777\n",
      "v43 61223\n",
      "v44 615507\n",
      "v46 1285276\n",
      "v47 1285330\n",
      "v48 1285276\n",
      "v54 45203\n",
      "v55 766354\n",
      "v56 21152\n",
      "v57 1285372\n",
      "v58 1064980\n",
      "v59 1284736\n",
      "v60 411490\n",
      "v61 1084480\n",
      "v62 1279864\n",
      "v63 749668\n",
      "v64 1085902\n",
      "v65 749668\n",
      "v66 753484\n",
      "v67 1269454\n",
      "v68 753484\n",
      "v69 753484\n",
      "v70 1285396\n",
      "v71 753484\n",
      "v72 1284994\n",
      "v73 121870\n",
      "v74 753484\n",
      "v75 1285396\n",
      "v76 1285402\n",
      "v77 749668\n",
      "v78 1285402\n",
      "v79 760659\n",
      "v80 45240\n",
      "v81 150\n",
      "v84 760659\n",
      "v85 1113196\n",
      "v99 650317\n",
      "v101 34374\n",
      "v102 237706\n",
      "v103 742352\n",
      "v107 1169030\n",
      "v108 1169030\n",
      "v109 1169030\n",
      "v110 941227\n",
      "v111 941227\n",
      "v112 941227\n",
      "v113 1126304\n",
      "v114 1126304\n",
      "v115 1126304\n",
      "v116 880427\n",
      "v117 880427\n",
      "v118 880427\n",
      "v119 1095923\n",
      "v120 1095923\n",
      "v121 1095923\n",
      "v122 834614\n",
      "v123 834614\n",
      "v124 834614\n",
      "v125 1043271\n",
      "v126 1043271\n",
      "v127 1043271\n",
      "v128 759363\n",
      "v129 759363\n",
      "v130 759363\n",
      "v131 1203605\n",
      "v132 1203605\n",
      "v133 1203605\n",
      "v134 1086662\n",
      "v135 1086662\n",
      "v136 1086662\n",
      "v137 1170369\n",
      "v138 1170369\n",
      "v139 1170369\n",
      "v140 963579\n",
      "v141 963579\n",
      "v142 963580\n",
      "v143 1164210\n",
      "v144 1164210\n",
      "v145 1164210\n",
      "v146 948567\n",
      "v147 948567\n",
      "v148 948567\n",
      "v149 1285402\n",
      "v150 1285402\n",
      "v151 1285402\n",
      "v152 1285402\n",
      "v153 1285402\n",
      "v154 1285402\n",
      "v155 1257893\n",
      "v156 1257893\n",
      "v157 1240400\n",
      "v158 1240400\n",
      "v159 1225628\n",
      "v160 1225628\n",
      "v161 1191038\n",
      "v162 1191038\n",
      "v163 1284046\n",
      "v164 1284046\n",
      "v165 1283248\n",
      "v166 1283248\n",
      "v167 1282491\n",
      "v168 1282491\n",
      "v169 1280942\n",
      "v170 1280942\n",
      "v171 1021998\n",
      "v172 1021998\n",
      "v173 985020\n",
      "v174 985020\n",
      "v175 947865\n",
      "v176 947865\n",
      "v177 895445\n",
      "v178 895445\n",
      "v179 1243631\n",
      "v180 1243631\n",
      "v181 1226551\n",
      "v182 1226551\n",
      "v183 1213800\n",
      "v184 1213800\n",
      "v185 1191228\n",
      "v186 1191228\n",
      "v187 1264111\n",
      "v188 1264111\n",
      "v189 1256485\n",
      "v190 1256485\n",
      "v191 1250697\n",
      "v192 1250697\n",
      "v193 1239021\n",
      "v194 1239021\n",
      "v195 1279771\n",
      "v196 1279771\n",
      "v197 1277717\n",
      "v198 1277717\n",
      "v199 1276010\n",
      "v200 1276010\n",
      "v201 1272540\n",
      "v202 1272540\n",
      "v203 692323\n",
      "v204 692323\n",
      "v205 692323\n",
      "v206 692323\n",
      "v207 692323\n",
      "v208 692323\n",
      "v209 692323\n",
      "v210 801792\n",
      "v211 801792\n",
      "v212 801792\n",
      "v213 801792\n",
      "v214 1285402\n",
      "v215 801792\n",
      "v216 801792\n",
      "v217 1258615\n",
      "v218 1258615\n",
      "v219 1258615\n",
      "v220 1258615\n",
      "v221 1285402\n",
      "v222 1258615\n",
      "v223 1258615\n",
      "v224 350398\n",
      "v225 350398\n",
      "v226 350398\n",
      "v227 350398\n",
      "v228 692323\n",
      "v229 350398\n",
      "v230 350398\n",
      "v231 1160163\n",
      "v232 1160163\n",
      "v233 1160163\n",
      "v234 1160163\n",
      "v235 1160164\n",
      "v236 1160163\n",
      "v237 1160163\n",
      "v238 736713\n",
      "v239 736713\n",
      "v240 736713\n",
      "v241 736713\n",
      "v242 1285402\n",
      "v243 736713\n",
      "v244 736713\n",
      "v245 1285402\n",
      "v246 1285402\n",
      "v247 1285402\n",
      "v248 1285402\n",
      "v249 1285402\n",
      "v250 1285402\n",
      "v251 1285402\n",
      "v252 643810\n",
      "v253 643810\n",
      "v254 643810\n",
      "v255 643810\n",
      "v256 1160164\n",
      "v257 643810\n",
      "v258 643810\n",
      "v259 480591\n",
      "v260 480591\n",
      "v261 480591\n",
      "v262 480591\n",
      "v263 480591\n",
      "v264 480591\n",
      "v265 480591\n",
      "v266 480591\n",
      "v267 480591\n",
      "v268 480591\n",
      "v269 480591\n",
      "v270 480591\n",
      "v271 480591\n",
      "v272 480591\n",
      "v273 480591\n",
      "v274 480591\n",
      "v275 480591\n",
      "v276 480591\n",
      "v277 480591\n",
      "v278 480591\n",
      "v279 480591\n",
      "v280 480591\n",
      "v281 480591\n",
      "v282 480591\n",
      "v283 480591\n",
      "v284 480591\n",
      "v285 480591\n",
      "v286 480591\n",
      "age_mean 45223\n"
     ]
    }
   ],
   "source": [
    "for index, row in null_count.iterrows():\n",
    "    for col_name in null_count.columns:\n",
    "        if (row[col_name]!=0):\n",
    "            print(index,row[col_name])"
   ]
  },
  {
   "cell_type": "code",
   "execution_count": null,
   "id": "a5811a01-d9b2-4a5c-bd5c-09c6578f0c3e",
   "metadata": {
    "id": "a5811a01-d9b2-4a5c-bd5c-09c6578f0c3e",
    "outputId": "9f1ec170-d7a8-45b1-8b5d-c41cc5203193"
   },
   "outputs": [
    {
     "name": "stdout",
     "output_type": "stream",
     "text": [
      "\n",
      "Columns with 60% to 90% missing values: ['v58', 'v61', 'v64', 'v85', 'v110', 'v111', 'v112', 'v113', 'v114', 'v115', 'v116', 'v117', 'v118', 'v119', 'v120', 'v121', 'v122', 'v123', 'v124', 'v125', 'v126', 'v127', 'v134', 'v135', 'v136', 'v140', 'v141', 'v142', 'v146', 'v147', 'v148', 'v171', 'v172', 'v173', 'v174', 'v175', 'v176', 'v177', 'v178', 'v210', 'v211', 'v212', 'v213', 'v215', 'v216']\n",
      "\n",
      "Shape of Dataset with Columns to Drop:\n",
      "(1285402, 45)\n",
      "\n",
      "Shape of Cleaned Dataset After Dropping Columns:\n",
      "(1285402, 258)\n"
     ]
    }
   ],
   "source": [
    "# Calculate the percentage of missing values per column\n",
    "missing_percentage = cdna_df.isnull().mean() * 100\n",
    "\n",
    "# Identify columns with missing values between 60% and 90%\n",
    "cols_to_drop = missing_percentage[(missing_percentage >= 60) & (missing_percentage <= 90)].index\n",
    "\n",
    "print(f\"\\nColumns with 60% to 90% missing values: {cols_to_drop.tolist()}\")\n",
    "\n",
    "# Save columns with 60% to 90% missing values in a separate dataset\n",
    "cdna_df_dropped = cdna_df[cols_to_drop]\n",
    "\n",
    "# Drop those columns from the original dataset\n",
    "cdna_df_cleaned = cdna_df.drop(columns=cols_to_drop)\n",
    "\n",
    "print(\"\\nShape of Dataset with Columns to Drop:\")\n",
    "print(cdna_df_dropped.shape)\n",
    "\n",
    "print(\"\\nShape of Cleaned Dataset After Dropping Columns:\")\n",
    "print(cdna_df_cleaned.shape)\n"
   ]
  },
  {
   "cell_type": "markdown",
   "id": "89377eb5-02bc-4c1b-8d4a-842f79199fd4",
   "metadata": {
    "id": "89377eb5-02bc-4c1b-8d4a-842f79199fd4"
   },
   "source": [
    "#### Columns with More Than 90% Missing Values"
   ]
  },
  {
   "cell_type": "markdown",
   "id": "guiNX_AkB_DN",
   "metadata": {
    "id": "guiNX_AkB_DN"
   },
   "source": [
    "Deducting that the missing values may also hold some significance, we encoded the columns having 90-95% missing data replacing NaNs with 0 and any other value with 1."
   ]
  },
  {
   "cell_type": "code",
   "execution_count": null,
   "id": "5e3e24f6-311c-4043-9436-64e019fb4701",
   "metadata": {
    "id": "5e3e24f6-311c-4043-9436-64e019fb4701",
    "outputId": "0972e09d-6bf9-4eeb-850b-716514897fca"
   },
   "outputs": [
    {
     "name": "stdout",
     "output_type": "stream",
     "text": [
      "\n",
      "Columns with 95-100% missing values dropped: ['v3', 'v4', 'v8', 'v12', 'v13', 'v14', 'v16', 'v17', 'v18', 'v19', 'v20', 'v21', 'v22', 'v23', 'v25', 'v26', 'v28', 'v38', 'v46', 'v47', 'v48', 'v57', 'v59', 'v62', 'v67', 'v70', 'v72', 'v75', 'v76', 'v78', 'v149', 'v150', 'v151', 'v152', 'v153', 'v154', 'v155', 'v156', 'v157', 'v158', 'v159', 'v160', 'v163', 'v164', 'v165', 'v166', 'v167', 'v168', 'v169', 'v170', 'v179', 'v180', 'v181', 'v182', 'v187', 'v188', 'v189', 'v190', 'v191', 'v192', 'v193', 'v194', 'v195', 'v196', 'v197', 'v198', 'v199', 'v200', 'v201', 'v202', 'v214', 'v217', 'v218', 'v219', 'v220', 'v221', 'v222', 'v223', 'v242', 'v245', 'v246', 'v247', 'v248', 'v249', 'v250', 'v251']\n"
     ]
    }
   ],
   "source": [
    "# Calculate the percentage of missing values per column\n",
    "missing_percentage = cdna_df_cleaned.isnull().mean() * 100\n",
    "\n",
    "# Identify columns with missing values between 95% and 100%\n",
    "cols_to_drop_95_100 = missing_percentage[(missing_percentage >= 95) & (missing_percentage <= 100)].index\n",
    "\n",
    "# Drop the columns with 95-100% missing values\n",
    "cdna_df_cleaned_2 = cdna_df_cleaned.drop(columns=cols_to_drop_95_100)\n",
    "\n",
    "print(f\"\\nColumns with 95-100% missing values dropped: {cols_to_drop_95_100.tolist()}\")\n"
   ]
  },
  {
   "cell_type": "code",
   "execution_count": null,
   "id": "b34c2c91-13d5-45f6-b8d2-c41961c315df",
   "metadata": {
    "id": "b34c2c91-13d5-45f6-b8d2-c41961c315df",
    "outputId": "c6f340f7-1aaa-4304-820d-d693373cb379"
   },
   "outputs": [
    {
     "name": "stdout",
     "output_type": "stream",
     "text": [
      "\n",
      "NaN values in columns with 90-95% missing replaced with 0, other values replaced with 1.\n"
     ]
    }
   ],
   "source": [
    "# Identify columns with missing values between 90% and 95%\n",
    "cols_90_95 = missing_percentage[(missing_percentage >= 90) & (missing_percentage < 95)].index\n",
    "\n",
    "# Replace NaN values with 0 and the rest with 1 for both numerical and categorical columns\n",
    "cdna_df_cleaned_2[cols_90_95] = cdna_df_cleaned_2[cols_90_95].apply(lambda x: x.fillna(0) if x.dtype in ['float64', 'int64'] else x.fillna('0'))\n",
    "cdna_df_cleaned_2[cols_90_95] = cdna_df_cleaned_2[cols_90_95].apply(lambda x: x.apply(lambda val: 1 if val != 0 else 0))\n",
    "\n",
    "print(\"\\nNaN values in columns with 90-95% missing replaced with 0, other values replaced with 1.\")\n"
   ]
  },
  {
   "cell_type": "code",
   "execution_count": null,
   "id": "aa69b5e2-7d75-45b1-8c0f-8840c6410460",
   "metadata": {
    "id": "aa69b5e2-7d75-45b1-8c0f-8840c6410460"
   },
   "outputs": [],
   "source": [
    "# Find categorical columns in the 90-95% missing value range\n",
    "categorical_cols_90_95 = cdna_df_cleaned_2[cols_90_95].select_dtypes(include=['object']).columns\n",
    "\n",
    "for col in categorical_cols_90_95:\n",
    "    # Create a new numerical column based on the categorical column\n",
    "    new_col = col + \"_num\"\n",
    "    cdna_df_cleaned_2[new_col] = cdna_df_cleaned_2[col].apply(lambda x: 1 if pd.notnull(x) else 0)\n",
    "\n",
    "    # Drop the original categorical column\n",
    "    cdna_df_cleaned_2 = cdna_df_cleaned_2.drop(columns=[col])\n",
    "\n",
    "    print(f\"Processed and dropped categorical column: {col}\")\n"
   ]
  },
  {
   "cell_type": "code",
   "execution_count": null,
   "id": "600e04aa-5d65-4e28-bd04-0771cf324ec7",
   "metadata": {
    "id": "600e04aa-5d65-4e28-bd04-0771cf324ec7",
    "outputId": "61c3b52d-224e-48ae-b1d9-4dbea17abb98"
   },
   "outputs": [
    {
     "data": {
      "text/html": [
       "<div>\n",
       "<style scoped>\n",
       "    .dataframe tbody tr th:only-of-type {\n",
       "        vertical-align: middle;\n",
       "    }\n",
       "\n",
       "    .dataframe tbody tr th {\n",
       "        vertical-align: top;\n",
       "    }\n",
       "\n",
       "    .dataframe thead th {\n",
       "        text-align: right;\n",
       "    }\n",
       "</style>\n",
       "<table border=\"1\" class=\"dataframe\">\n",
       "  <thead>\n",
       "    <tr style=\"text-align: right;\">\n",
       "      <th></th>\n",
       "      <th>CUSTOMER_CODE</th>\n",
       "      <th>v5</th>\n",
       "      <th>v6</th>\n",
       "      <th>v7</th>\n",
       "      <th>v9</th>\n",
       "      <th>v10</th>\n",
       "      <th>v11</th>\n",
       "      <th>v15</th>\n",
       "      <th>v24</th>\n",
       "      <th>v27</th>\n",
       "      <th>...</th>\n",
       "      <th>v295</th>\n",
       "      <th>v296</th>\n",
       "      <th>v297</th>\n",
       "      <th>v298</th>\n",
       "      <th>v299</th>\n",
       "      <th>v300</th>\n",
       "      <th>v301</th>\n",
       "      <th>v302</th>\n",
       "      <th>batch_date</th>\n",
       "      <th>age_mean</th>\n",
       "    </tr>\n",
       "  </thead>\n",
       "  <tbody>\n",
       "    <tr>\n",
       "      <th>0</th>\n",
       "      <td>ab617a6a0a8582f4aaa1aeda38fd73377cb911e6096a98...</td>\n",
       "      <td>99</td>\n",
       "      <td>THANE</td>\n",
       "      <td>99999</td>\n",
       "      <td>INDIA</td>\n",
       "      <td>IN</td>\n",
       "      <td>2018-08-25T00:00:00.000Z</td>\n",
       "      <td>NaN</td>\n",
       "      <td>0.0</td>\n",
       "      <td>MARRIED</td>\n",
       "      <td>...</td>\n",
       "      <td>44</td>\n",
       "      <td>204</td>\n",
       "      <td>150</td>\n",
       "      <td>73</td>\n",
       "      <td>271</td>\n",
       "      <td>164</td>\n",
       "      <td>170</td>\n",
       "      <td>246</td>\n",
       "      <td>2024-09-27</td>\n",
       "      <td>52.0</td>\n",
       "    </tr>\n",
       "    <tr>\n",
       "      <th>1</th>\n",
       "      <td>6e8e3227297409f3f33578400302825263cadc2ed0d1a0...</td>\n",
       "      <td>ZZ</td>\n",
       "      <td>Pune</td>\n",
       "      <td>ZZ</td>\n",
       "      <td>INDIA</td>\n",
       "      <td>411</td>\n",
       "      <td>2018-08-03T14:12:16.000Z</td>\n",
       "      <td>Resident Individuals</td>\n",
       "      <td>NaN</td>\n",
       "      <td>Married</td>\n",
       "      <td>...</td>\n",
       "      <td>44</td>\n",
       "      <td>204</td>\n",
       "      <td>150</td>\n",
       "      <td>73</td>\n",
       "      <td>271</td>\n",
       "      <td>164</td>\n",
       "      <td>170</td>\n",
       "      <td>246</td>\n",
       "      <td>2024-09-27</td>\n",
       "      <td>37.0</td>\n",
       "    </tr>\n",
       "    <tr>\n",
       "      <th>2</th>\n",
       "      <td>1b42f270aba756b64d7ae4e2409313097b0c91f7c2f2c7...</td>\n",
       "      <td>99</td>\n",
       "      <td>BHIWANI</td>\n",
       "      <td>95013</td>\n",
       "      <td>INDIA</td>\n",
       "      <td>IN</td>\n",
       "      <td>2021-10-08T00:00:00.000Z</td>\n",
       "      <td>NaN</td>\n",
       "      <td>0.0</td>\n",
       "      <td>MARRIED</td>\n",
       "      <td>...</td>\n",
       "      <td>44</td>\n",
       "      <td>204</td>\n",
       "      <td>150</td>\n",
       "      <td>73</td>\n",
       "      <td>271</td>\n",
       "      <td>164</td>\n",
       "      <td>170</td>\n",
       "      <td>246</td>\n",
       "      <td>2024-09-27</td>\n",
       "      <td>22.0</td>\n",
       "    </tr>\n",
       "    <tr>\n",
       "      <th>3</th>\n",
       "      <td>06a4aae9b531a518260c7d0d88811cc202fd0d3e46d9ea...</td>\n",
       "      <td>NaN</td>\n",
       "      <td>CHIKMAGALUR</td>\n",
       "      <td>NaN</td>\n",
       "      <td>INDIA</td>\n",
       "      <td>NaN</td>\n",
       "      <td>2024-03-18T00:00:00.000Z</td>\n",
       "      <td>Resident Individuals</td>\n",
       "      <td>NaN</td>\n",
       "      <td>Unmarried</td>\n",
       "      <td>...</td>\n",
       "      <td>44</td>\n",
       "      <td>204</td>\n",
       "      <td>150</td>\n",
       "      <td>73</td>\n",
       "      <td>271</td>\n",
       "      <td>164</td>\n",
       "      <td>170</td>\n",
       "      <td>246</td>\n",
       "      <td>2024-09-27</td>\n",
       "      <td>22.0</td>\n",
       "    </tr>\n",
       "    <tr>\n",
       "      <th>4</th>\n",
       "      <td>0e4fa92b7a41dc019c9f40457e180e94ca60d0b5c7128e...</td>\n",
       "      <td>NaN</td>\n",
       "      <td>NASIK</td>\n",
       "      <td>NaN</td>\n",
       "      <td>INDIA</td>\n",
       "      <td>NaN</td>\n",
       "      <td>2024-02-26T00:00:00.000Z</td>\n",
       "      <td>Resident Individuals</td>\n",
       "      <td>NaN</td>\n",
       "      <td>Unmarried</td>\n",
       "      <td>...</td>\n",
       "      <td>44</td>\n",
       "      <td>204</td>\n",
       "      <td>150</td>\n",
       "      <td>73</td>\n",
       "      <td>271</td>\n",
       "      <td>164</td>\n",
       "      <td>170</td>\n",
       "      <td>246</td>\n",
       "      <td>2024-09-27</td>\n",
       "      <td>32.0</td>\n",
       "    </tr>\n",
       "  </tbody>\n",
       "</table>\n",
       "<p>5 rows × 172 columns</p>\n",
       "</div>"
      ],
      "text/plain": [
       "                                       CUSTOMER_CODE   v5           v6     v7  \\\n",
       "0  ab617a6a0a8582f4aaa1aeda38fd73377cb911e6096a98...   99        THANE  99999   \n",
       "1  6e8e3227297409f3f33578400302825263cadc2ed0d1a0...   ZZ         Pune     ZZ   \n",
       "2  1b42f270aba756b64d7ae4e2409313097b0c91f7c2f2c7...   99      BHIWANI  95013   \n",
       "3  06a4aae9b531a518260c7d0d88811cc202fd0d3e46d9ea...  NaN  CHIKMAGALUR    NaN   \n",
       "4  0e4fa92b7a41dc019c9f40457e180e94ca60d0b5c7128e...  NaN        NASIK    NaN   \n",
       "\n",
       "      v9  v10                       v11                   v15  v24        v27  \\\n",
       "0  INDIA   IN  2018-08-25T00:00:00.000Z                   NaN  0.0    MARRIED   \n",
       "1  INDIA  411  2018-08-03T14:12:16.000Z  Resident Individuals  NaN    Married   \n",
       "2  INDIA   IN  2021-10-08T00:00:00.000Z                   NaN  0.0    MARRIED   \n",
       "3  INDIA  NaN  2024-03-18T00:00:00.000Z  Resident Individuals  NaN  Unmarried   \n",
       "4  INDIA  NaN  2024-02-26T00:00:00.000Z  Resident Individuals  NaN  Unmarried   \n",
       "\n",
       "   ... v295 v296 v297  v298 v299 v300 v301 v302  batch_date  age_mean  \n",
       "0  ...   44  204  150    73  271  164  170  246  2024-09-27      52.0  \n",
       "1  ...   44  204  150    73  271  164  170  246  2024-09-27      37.0  \n",
       "2  ...   44  204  150    73  271  164  170  246  2024-09-27      22.0  \n",
       "3  ...   44  204  150    73  271  164  170  246  2024-09-27      22.0  \n",
       "4  ...   44  204  150    73  271  164  170  246  2024-09-27      32.0  \n",
       "\n",
       "[5 rows x 172 columns]"
      ]
     },
     "execution_count": 88,
     "metadata": {},
     "output_type": "execute_result"
    }
   ],
   "source": [
    "cdna_df_cleaned_2.head()\n"
   ]
  },
  {
   "cell_type": "code",
   "execution_count": null,
   "id": "e597223e-a1b7-408c-b21d-21d59cd6a87b",
   "metadata": {
    "id": "e597223e-a1b7-408c-b21d-21d59cd6a87b",
    "outputId": "7ea9a06a-9606-4c55-8f90-adad18442794"
   },
   "outputs": [
    {
     "name": "stdout",
     "output_type": "stream",
     "text": [
      "\n",
      "Remaining columns after all cleaning steps:\n",
      "['CUSTOMER_CODE', 'v5', 'v6', 'v7', 'v9', 'v10', 'v11', 'v15', 'v24', 'v27', 'v29', 'v30', 'v31', 'v32', 'v33', 'v34', 'v35', 'v36', 'v37', 'v39', 'v40', 'v41', 'v42', 'v43', 'v44', 'v45', 'v49', 'v50', 'v51', 'v52', 'v53', 'v54', 'v55', 'v56', 'v60', 'v63', 'v65', 'v66', 'v68', 'v69', 'v71', 'v73', 'v74', 'v77', 'v79', 'v80', 'v81', 'v82', 'v83', 'v84', 'v86', 'v87', 'v88', 'v89', 'v90', 'v91', 'v92', 'v93', 'v94', 'v95', 'v96', 'v97', 'v98', 'v99', 'v100', 'v101', 'v102', 'v103', 'v104', 'v105', 'v106', 'v107', 'v108', 'v109', 'v128', 'v129', 'v130', 'v131', 'v132', 'v133', 'v137', 'v138', 'v139', 'v143', 'v144', 'v145', 'v161', 'v162', 'v183', 'v184', 'v185', 'v186', 'v203', 'v204', 'v205', 'v206', 'v207', 'v208', 'v209', 'v224', 'v225', 'v226', 'v227', 'v228', 'v229', 'v230', 'v231', 'v232', 'v233', 'v234', 'v235', 'v236', 'v237', 'v238', 'v239', 'v240', 'v241', 'v243', 'v244', 'v252', 'v253', 'v254', 'v255', 'v256', 'v257', 'v258', 'v259', 'v260', 'v261', 'v262', 'v263', 'v264', 'v265', 'v266', 'v267', 'v268', 'v269', 'v270', 'v271', 'v272', 'v273', 'v274', 'v275', 'v276', 'v277', 'v278', 'v279', 'v280', 'v281', 'v282', 'v283', 'v284', 'v285', 'v286', 'v287', 'v288', 'v289', 'v290', 'v291', 'v292', 'v293', 'v294', 'v295', 'v296', 'v297', 'v298', 'v299', 'v300', 'v301', 'v302', 'batch_date', 'age_mean']\n",
      "\n",
      "Shape of the cleaned dataset: (1285402, 172)\n"
     ]
    }
   ],
   "source": [
    "# Print the remaining columns in the dataset\n",
    "print(\"\\nRemaining columns after all cleaning steps:\")\n",
    "print(cdna_df_cleaned_2.columns.tolist())\n",
    "\n",
    "# Print the shape of the new dataset\n",
    "print(f\"\\nShape of the cleaned dataset: {cdna_df_cleaned_2.shape}\")\n"
   ]
  },
  {
   "cell_type": "markdown",
   "id": "UaJozawJCKkZ",
   "metadata": {
    "id": "UaJozawJCKkZ"
   },
   "source": [
    "**Identifying columns with mixed data types & categorical columns that also had missing values**"
   ]
  },
  {
   "cell_type": "code",
   "execution_count": null,
   "id": "b57bd37d-5578-479e-aabb-b9ad718347ab",
   "metadata": {
    "id": "b57bd37d-5578-479e-aabb-b9ad718347ab",
    "outputId": "f5929103-6f9a-4172-c2b2-d4eafb08ba02"
   },
   "outputs": [
    {
     "name": "stdout",
     "output_type": "stream",
     "text": [
      "Columns with mixed data types (numerical + alphabetic + NaN values):\n",
      "['v5', 'v7', 'v9', 'v10', 'v15', 'v30', 'v31', 'v37', 'v63', 'v229', 'v230']\n",
      "\n",
      "Columns with categorical data types that have NaN values:\n",
      "['v5', 'v6', 'v7', 'v9', 'v10', 'v11', 'v15', 'v27', 'v29', 'v30', 'v31', 'v33', 'v34', 'v35', 'v37', 'v42', 'v43', 'v54', 'v55', 'v56', 'v60', 'v63', 'v66', 'v68', 'v69', 'v71', 'v73', 'v74', 'v81', 'v99', 'v101', 'v102', 'v103', 'v229', 'v230', 'v271', 'v272', 'v273', 'v274', 'v275', 'v276', 'v277', 'v278', 'v279', 'v280', 'v281', 'v282', 'v283', 'v284', 'v285', 'v286']\n"
     ]
    }
   ],
   "source": [
    "# Step 1: Identify columns with mixed data types (numerical + alphabetic + NaN)\n",
    "mixed_data_columns = []\n",
    "\n",
    "# Check each column for mixed data types\n",
    "for col in cdna_df_cleaned_2.columns:\n",
    "    if cdna_df_cleaned_2[col].dtype == 'object':  # Check only string columns\n",
    "        column_as_str = cdna_df_cleaned_2[col].astype(str)\n",
    "\n",
    "        # Check if the column contains numeric or alphabetic values (excluding NaN)\n",
    "        if column_as_str.str.isnumeric().any() and column_as_str.str.isalpha().any():\n",
    "            mixed_data_columns.append(col)\n",
    "\n",
    "# Step 2: Identify categorical columns with NaN values\n",
    "# Get columns that have 'object' type and check for NaN values\n",
    "categorical_cols_with_nan = cdna_df_cleaned_2.select_dtypes(include=['object']).columns\n",
    "categorical_cols_with_nan = categorical_cols_with_nan[cdna_df_cleaned_2[categorical_cols_with_nan].isna().any()].tolist()\n",
    "\n",
    "# Print the results\n",
    "print(\"Columns with mixed data types (numerical + alphabetic + NaN values):\")\n",
    "print(mixed_data_columns)\n",
    "\n",
    "print(\"\\nColumns with categorical data types that have NaN values:\")\n",
    "print(categorical_cols_with_nan)\n"
   ]
  },
  {
   "cell_type": "code",
   "execution_count": null,
   "id": "3dd3334e-a73d-43ba-9a07-6198df6e92d0",
   "metadata": {
    "id": "3dd3334e-a73d-43ba-9a07-6198df6e92d0",
    "outputId": "1f86309b-b5b8-4aa2-c7c0-2e3ec76598d3"
   },
   "outputs": [
    {
     "data": {
      "text/plain": [
       "11"
      ]
     },
     "execution_count": 16,
     "metadata": {},
     "output_type": "execute_result"
    }
   ],
   "source": [
    "len(mixed_data_columns)\n"
   ]
  },
  {
   "cell_type": "code",
   "execution_count": null,
   "id": "5478fbde-e365-4cde-a56c-0c9b49423815",
   "metadata": {
    "id": "5478fbde-e365-4cde-a56c-0c9b49423815",
    "outputId": "70b1f6bc-ea19-4913-d1de-b8e85bb3c536"
   },
   "outputs": [
    {
     "data": {
      "text/plain": [
       "51"
      ]
     },
     "execution_count": 17,
     "metadata": {},
     "output_type": "execute_result"
    }
   ],
   "source": [
    "len(categorical_cols_with_nan)"
   ]
  },
  {
   "cell_type": "markdown",
   "id": "5fae3515-2eba-4c53-979e-95ce232bb889",
   "metadata": {
    "id": "5fae3515-2eba-4c53-979e-95ce232bb889"
   },
   "source": [
    "**Handling columns with mixed data types**"
   ]
  },
  {
   "cell_type": "markdown",
   "id": "QKF991VTCU-5",
   "metadata": {
    "id": "QKF991VTCU-5"
   },
   "source": [
    "Column v5: 1279548 entries were 99.0 clearly being the most frequent entry. A few ‘ZZ’ entries were present. Replaced the NaN values and ‘ZZ’ entries with 99.0"
   ]
  },
  {
   "cell_type": "code",
   "execution_count": null,
   "id": "3fa3be37-23c6-4ed9-85fb-b888e9c3bc22",
   "metadata": {
    "id": "3fa3be37-23c6-4ed9-85fb-b888e9c3bc22",
    "outputId": "c6dbf09c-cd38-47e5-82b1-f593b104517f"
   },
   "outputs": [
    {
     "name": "stdout",
     "output_type": "stream",
     "text": [
      "99.0       1279548\n",
      "31.0       2599\n",
      "45.0       1223\n",
      "42.0       450\n",
      "5.0        434\n",
      "49.0       307\n",
      "32.0       275\n",
      "41.0       260\n",
      "11.0       79\n",
      "33.0       66\n",
      "2.0        36\n",
      "12.0       34\n",
      "39.0       17\n",
      "19.0       12\n",
      "51.0       12\n",
      "4.0        12\n",
      "6.0        12\n",
      "10.0       6\n",
      "1.0        6\n",
      "7.0        6\n",
      "3.0        6\n",
      "100.0      2\n",
      "Total      1285402\n"
     ]
    }
   ],
   "source": [
    "# Step 1: Convert numerical strings to integers where possible\n",
    "cdna_df_cleaned_2['v5'] = pd.to_numeric(cdna_df_cleaned_2['v5'], errors='coerce')\n",
    "\n",
    "# Step 2: Replace 'ZZ' and NaN with the median of the column\n",
    "median_v5 = cdna_df_cleaned_2['v5'].median()\n",
    "cdna_df_cleaned_2['v5'].fillna(median_v5, inplace=True)\n",
    "\n",
    "# Step 3: Print unique values and their counts in the specified format\n",
    "unique_values_counts = cdna_df_cleaned_2['v5'].value_counts()\n",
    "\n",
    "# Print the results\n",
    "for value, count in unique_values_counts.items():\n",
    "    print(f\"{value:<10} {count}\")\n",
    "\n",
    "# Print the total\n",
    "print(f\"{'Total':<10} {unique_values_counts.sum()}\")\n"
   ]
  },
  {
   "cell_type": "markdown",
   "id": "6K67XYj0Cak5",
   "metadata": {
    "id": "6K67XYj0Cak5"
   },
   "source": [
    "Column v7: Dropped v7 because it contained some alphanumeric values like 1159A, etc."
   ]
  },
  {
   "cell_type": "code",
   "execution_count": null,
   "id": "1fbe4338-7180-4a8d-ad97-d1bf2be82828",
   "metadata": {
    "id": "1fbe4338-7180-4a8d-ad97-d1bf2be82828",
    "outputId": "930d37f4-825f-44ef-bb2c-7adfe8da499d",
    "scrolled": true
   },
   "outputs": [
    {
     "name": "stdout",
     "output_type": "stream",
     "text": [
      "95013      435514\n",
      "ZZ         187674\n",
      "99999      150928\n",
      "95012      63783\n",
      "95019      32461\n",
      "01         5409\n",
      "95011      1758\n",
      "95003      1398\n",
      "52319      1122\n",
      "01101      796\n",
      "02         714\n",
      "52101      709\n",
      "01103      628\n",
      "60204      558\n",
      "93002      482\n",
      "52313      434\n",
      "95002      420\n",
      "01201      390\n",
      "95014      356\n",
      "51909      350\n",
      "04         331\n",
      "85102      294\n",
      "85101      280\n",
      "93001      267\n",
      "28901      258\n",
      "74101      246\n",
      "05         192\n",
      "06         186\n",
      "03         186\n",
      "51303      175\n",
      "52201      164\n",
      "52312      149\n",
      "51204      144\n",
      "60301      140\n",
      "60201      126\n",
      "91101      102\n",
      "15         102\n",
      "17209      89\n",
      "18101      88\n",
      "93109      84\n",
      "01202      78\n",
      "25201      78\n",
      "93003      77\n",
      "51302      76\n",
      "20101      72\n",
      "36101      72\n",
      "95009      72\n",
      "93101      69\n",
      "27101      65\n",
      "50002      60\n",
      "41001      54\n",
      "11         54\n",
      "41         49\n",
      "55201      48\n",
      "22101      48\n",
      "52311      47\n",
      "28101      46\n",
      "01209      42\n",
      "21003      42\n",
      "07         42\n",
      "01203      42\n",
      "51406      41\n",
      "27301      39\n",
      "29202      36\n",
      "51202      36\n",
      "17101      36\n",
      "24219      36\n",
      "65939      35\n",
      "51502      32\n",
      "15409      30\n",
      "15401      30\n",
      "70001      30\n",
      "80002      30\n",
      "29301      30\n",
      "63019      30\n",
      "80001      29\n",
      "55301      26\n",
      "74901      24\n",
      "85301      24\n",
      "15201      24\n",
      "50003      24\n",
      "27201      24\n",
      "52501      24\n",
      "51409      24\n",
      "0          24\n",
      "95018      23\n",
      "74201      23\n",
      "50001      22\n",
      "36909      18\n",
      "45005      18\n",
      "51201      18\n",
      "17105      18\n",
      "50005      18\n",
      "28101B     18\n",
      "15301      18\n",
      "35909      18\n",
      "15409B     18\n",
      "45001      18\n",
      "01108      18\n",
      "93102      18\n",
      "75001      18\n",
      "17201      18\n",
      "63001      18\n",
      "51405      18\n",
      "55101      18\n",
      "42         18\n",
      "33101      18\n",
      "52303      18\n",
      "17209B     18\n",
      "92109      18\n",
      "05001      18\n",
      "25102      18\n",
      "01119      16\n",
      "85201      16\n",
      "36901      12\n",
      "19202      12\n",
      "29101      12\n",
      "01157      12\n",
      "51203      12\n",
      "95001      12\n",
      "24203      12\n",
      "23201      12\n",
      "26101      12\n",
      "51404      12\n",
      "31901      12\n",
      "71301      12\n",
      "51901      12\n",
      "45013      12\n",
      "21001      12\n",
      "52301      12\n",
      "18201      10\n",
      "51301      6\n",
      "31101      6\n",
      "51902      6\n",
      "15303      6\n",
      "45012C     6\n",
      "74301      6\n",
      "24202      6\n",
      "24301      6\n",
      "17102      6\n",
      "26904      6\n",
      "51101      6\n",
      "1159A      6\n",
      "52401      6\n",
      "66002      6\n",
      "29203      6\n",
      "67104      6\n",
      "29207      6\n",
      "63012      6\n",
      "95004      6\n",
      "01151      6\n",
      "63011      6\n",
      "19201      6\n",
      "65929      6\n",
      "15404      6\n",
      "72201      6\n",
      "93106      6\n",
      "65921      6\n",
      "45003      6\n",
      "37001      6\n",
      "17103      6\n",
      "65109      6\n",
      "02001      6\n",
      "62001      6\n",
      "24212      6\n",
      "15403      6\n",
      "31301      6\n",
      "60101      6\n",
      "45019      6\n",
      "01109      6\n",
      "93105      6\n",
      "15104      6\n",
      "01181      6\n",
      "29206      6\n",
      "51401      6\n",
      "72101      6\n",
      "90001      6\n",
      "24101      6\n",
      "93104      6\n",
      "31501      6\n",
      "40101B     6\n",
      "40101O     6\n",
      "28101A     6\n",
      "24204      6\n",
      "51501      6\n",
      "29109      6\n",
      "63013      6\n",
      "40101      6\n",
      "01152      6\n",
      "17204      6\n",
      "45002      6\n",
      "21101      6\n",
      "65101      6\n",
      "26905      6\n",
      "32101      6\n",
      "34301      6\n",
      "16003      6\n",
      "72209      6\n",
      "26902      6\n",
      "19102      6\n",
      "25202      6\n",
      "65102      5\n",
      "71201      5\n",
      "15102      4\n",
      "01159      4\n",
      "17101B     4\n",
      "45012D     3\n",
      "23101      1\n",
      "\n",
      "Total\n",
      "Total      892618\n"
     ]
    }
   ],
   "source": [
    "# Count the unique values in column 'v7'\n",
    "unique_values_counts_v7 = cdna_df_cleaned_2['v7'].value_counts()\n",
    "\n",
    "# Print unique values and their counts in the specified format\n",
    "for value, count in unique_values_counts_v7.items():\n",
    "    print(f\"{value:<10} {count}\")\n",
    "\n",
    "# Print the total\n",
    "print(\"\\nTotal\")\n",
    "print(f\"{'Total':<10} {unique_values_counts_v7.sum()}\")\n"
   ]
  },
  {
   "cell_type": "code",
   "execution_count": null,
   "id": "62c58399-5b58-461b-a2b6-bd064ee8b91b",
   "metadata": {
    "id": "62c58399-5b58-461b-a2b6-bd064ee8b91b",
    "outputId": "81fc647b-c60a-44c6-9024-269929cdbee9"
   },
   "outputs": [
    {
     "data": {
      "text/plain": [
       "(1285402, 171)"
      ]
     },
     "execution_count": 20,
     "metadata": {},
     "output_type": "execute_result"
    }
   ],
   "source": [
    "# Drop column 'v7' from the dataset\n",
    "cdna_df_cleaned_2 = cdna_df_cleaned_2.drop(columns=['v7'], errors='ignore')\n",
    "\n",
    "# Display the updated shape of the dataset\n",
    "cdna_df_cleaned_2.shape\n"
   ]
  },
  {
   "cell_type": "markdown",
   "id": "NTf1r5-2Cih0",
   "metadata": {
    "id": "NTf1r5-2Cih0"
   },
   "source": [
    "Columns v9, v10, v15, v30, v31, v37, 229, 230 : Dropped due to presence of too many categories. One hot encoding would not be helpful in this case."
   ]
  },
  {
   "cell_type": "code",
   "execution_count": null,
   "id": "dc1ad757-7e9c-4a39-aa48-ec6a3eeded4f",
   "metadata": {
    "id": "dc1ad757-7e9c-4a39-aa48-ec6a3eeded4f",
    "outputId": "e98a70eb-c390-4107-ae45-fb67f09aa790"
   },
   "outputs": [
    {
     "name": "stdout",
     "output_type": "stream",
     "text": [
      "INDIA      1113178\n",
      "IN         124878\n",
      "India      10996\n",
      "UNITED STATES 2855\n",
      "UNITED ARAB EMIRATES 1916\n",
      "UNITED KINGDOM 1307\n",
      "AUSTRALIA  994\n",
      "CANADA     978\n",
      "SINGAPORE  903\n",
      "SAUDI ARABIA 845\n",
      "KUWAIT     627\n",
      "QATAR      608\n",
      "GERMANY    378\n",
      "OMAN       310\n",
      "NIGERIA    268\n",
      "HONG KONG  265\n",
      "1          241\n",
      "MALAYSIA   185\n",
      "NEW ZEALAND 172\n",
      "IRELAND    171\n",
      "NETHERLANDS 166\n",
      "BAHRAIN    164\n",
      "JAPAN      114\n",
      "THAILAND   81\n",
      "SWEDEN     77\n",
      "BELGIUM    76\n",
      "ITALY      61\n",
      "Marshall Islands 54\n",
      "DENMARK    54\n",
      "INDONESIA  54\n",
      "KENYA      49\n",
      "UGANDA     48\n",
      "CHINA      47\n",
      "ZAMBIA     47\n",
      "POLAND     46\n",
      "FRANCE     45\n",
      "SPAIN      43\n",
      "REPUBLIC OF KOREA 42\n",
      "CYPRUS     42\n",
      "RUSSIAN FEDERATION 37\n",
      "SWITZERLAND 36\n",
      "Philippines 36\n",
      "VIETNAM    36\n",
      "FINLAND    35\n",
      "Democratic Republic Congo 32\n",
      "TURKEY     31\n",
      "SOUTH AFRICA 30\n",
      "PORTUGAL   29\n",
      "MALTA      26\n",
      "ISRAEL     25\n",
      "ANGOLA     25\n",
      "MOZAMBIQUE 24\n",
      "IRAQ       24\n",
      "GREECE     24\n",
      "NORWAY     23\n",
      "TANZANIA UNITED REPUBLIC 21\n",
      "LIBERIA    18\n",
      "LATVIA     18\n",
      "MEXICO     18\n",
      "SRILANKA   18\n",
      "MALDIVES   18\n",
      "GABON      18\n",
      "TAIWAN (REPUBLIC OF CHINA) 18\n",
      "BERMUDA    18\n",
      "CAYMAN ISLANDS 18\n",
      "LUXEMBOURG 18\n",
      "JORDAN     16\n",
      "AZERBAIJAN 14\n",
      "COTE DIVOIRE 12\n",
      "HUNGARY    12\n",
      "SIERRA LEONE 12\n",
      "KAZAKHSTAN 12\n",
      "AUSTRIA    12\n",
      "TOGO       12\n",
      "BURKINA FASO 12\n",
      "BANGLADESH 12\n",
      "MONACO     12\n",
      "CROATIA    12\n",
      "CZECH REPUBLIC 12\n",
      "MADAGASCAR 12\n",
      "JAMAICA    9\n",
      "GHANA      8\n",
      "BOTSWANA   8\n",
      "ZIMBABWE   7\n",
      "SEYCHELLES 7\n",
      "CHILE      7\n",
      "BRUNEI     6\n",
      "PANAMA     6\n",
      "CAMBODIA   6\n",
      "ISLE OF MAN 6\n",
      "UZBEKISTAN 6\n",
      "ST VINCENT & GRENADINES 6\n",
      "BENIN      6\n",
      "LAOS PEOPLES DEM REP 6\n",
      "GJ         6\n",
      "MACAU      6\n",
      "CENTRAL AFRICAN REPUBLIC 6\n",
      "LEBANON    6\n",
      "EGYPT      6\n",
      "BAHAMAS    6\n",
      "CURACAO    4\n",
      "CAMEROON REPUBLIC 2\n",
      "GEORGIA    2\n",
      "ROMANIA    2\n",
      "IN - INDIA 1\n",
      "Total      1264374\n"
     ]
    }
   ],
   "source": [
    "# Count the unique values in column 'v9'\n",
    "unique_values_counts_v9 = cdna_df_cleaned_2['v9'].value_counts()\n",
    "\n",
    "# Print unique values and their counts in the specified format\n",
    "for value, count in unique_values_counts_v9.items():\n",
    "    print(f\"{value:<10} {count}\")\n",
    "\n",
    "# Print the total\n",
    "print(f\"{'Total':<10} {unique_values_counts_v9.sum()}\")\n"
   ]
  },
  {
   "cell_type": "code",
   "execution_count": null,
   "id": "a8e0ebd5-494b-43b4-b97c-fe799aa0a04d",
   "metadata": {
    "id": "a8e0ebd5-494b-43b4-b97c-fe799aa0a04d",
    "outputId": "45ec8ec4-7ebb-4160-a7c3-2a6718fd3f75",
    "scrolled": true
   },
   "outputs": [
    {
     "name": "stdout",
     "output_type": "stream",
     "text": [
      "IN         1012277\n",
      "356        85174\n",
      "60         792\n",
      "84         480\n",
      "29         402\n",
      "90         348\n",
      "20         312\n",
      "560        198\n",
      "54         192\n",
      "601        156\n",
      "443        150\n",
      "34         126\n",
      "400        120\n",
      "411        90\n",
      "70         84\n",
      "365        78\n",
      "348        78\n",
      "Y51        66\n",
      "80         66\n",
      "50         66\n",
      "271        66\n",
      "600        66\n",
      "364        60\n",
      "10         60\n",
      "226        54\n",
      "269        48\n",
      "30         48\n",
      "380        42\n",
      "367        42\n",
      "81         42\n",
      "362        42\n",
      "395        36\n",
      "96         36\n",
      "874        30\n",
      "452        30\n",
      "68         30\n",
      "700        30\n",
      "361        30\n",
      "820        24\n",
      "390        24\n",
      "11D        24\n",
      "530        24\n",
      "363        24\n",
      "Z29        24\n",
      "440        24\n",
      "110        24\n",
      "QA         24\n",
      "Y55        24\n",
      "SA         24\n",
      "Z09        24\n",
      "970        24\n",
      "xxxxx      18\n",
      "291        18\n",
      "089        18\n",
      "Y74        18\n",
      "A60        18\n",
      "360        18\n",
      "Z03        18\n",
      "857        18\n",
      "A01        18\n",
      "302        18\n",
      "Y96        18\n",
      "AE         18\n",
      "GB         18\n",
      "903        18\n",
      "101        18\n",
      "39         18\n",
      "826        18\n",
      "812        18\n",
      "228        12\n",
      "21         12\n",
      "06         12\n",
      "727        12\n",
      "396        12\n",
      "842        12\n",
      "368        12\n",
      "625        12\n",
      "Y29        12\n",
      "282        12\n",
      "124        12\n",
      "Y75        12\n",
      "SG         12\n",
      "854        12\n",
      "824        12\n",
      "870        12\n",
      "Y22        12\n",
      "X07        12\n",
      "810        12\n",
      "974        12\n",
      "Z88        12\n",
      "Z71        12\n",
      "Z17        12\n",
      "US         12\n",
      "450        12\n",
      "825        12\n",
      "846        12\n",
      "144        12\n",
      "643        12\n",
      "Z40        12\n",
      "D03        12\n",
      "117        6\n",
      "624        6\n",
      "838        6\n",
      "587        6\n",
      "AZ         6\n",
      "358        6\n",
      "859        6\n",
      "Y69        6\n",
      "BH         6\n",
      "830        6\n",
      "939        6\n",
      "83A        6\n",
      "247        6\n",
      "799        6\n",
      "Z27        6\n",
      "46         6\n",
      "866        6\n",
      "719        6\n",
      "300        6\n",
      "850        6\n",
      "Z37        6\n",
      "OM         6\n",
      "808        6\n",
      "366        6\n",
      "267        6\n",
      "926        6\n",
      "16         6\n",
      "AU         6\n",
      "Y50        6\n",
      "968        6\n",
      "536        6\n",
      "983        6\n",
      "Y58        6\n",
      "054        6\n",
      "NL         6\n",
      "882        6\n",
      "305        6\n",
      "262        6\n",
      "250        6\n",
      "656        6\n",
      "Z35        6\n",
      "X17        6\n",
      "500        6\n",
      "CH         6\n",
      "KW         6\n",
      "Y68        6\n",
      "DE         6\n",
      "740        6\n",
      "359        6\n",
      "829        6\n",
      "235        6\n",
      "081        6\n",
      "61K        6\n",
      "Z34        6\n",
      "567        6\n",
      "632        6\n",
      "747        6\n",
      "913        6\n",
      "ID         6\n",
      "Y62        6\n",
      "Y86        6\n",
      "152        6\n",
      "061        6\n",
      "111        6\n",
      "511        6\n",
      "004        6\n",
      "513        6\n",
      "749        6\n",
      "126        6\n",
      "206        6\n",
      "Z07        6\n",
      "537        6\n",
      "151        6\n",
      "Y37        6\n",
      "Y01        6\n",
      "Z21        6\n",
      "858        6\n",
      "580        6\n",
      "904        6\n",
      "252        6\n",
      "938        6\n",
      "236        6\n",
      "141        6\n",
      "Z04        6\n",
      "754        6\n",
      "07         6\n",
      "520        6\n",
      "277        6\n",
      "Z16        6\n",
      "71         6\n",
      "461        6\n",
      "657        6\n",
      "615        6\n",
      "Y61        6\n",
      "Y92        6\n",
      "270        6\n",
      "X05        6\n",
      "980        6\n",
      "861        6\n",
      "648        6\n",
      "907        6\n",
      "642        6\n",
      "730        6\n",
      "603        6\n",
      "227        6\n",
      "274        6\n",
      "Z73        6\n",
      "352        6\n",
      "103        6\n",
      "118        6\n",
      "Total      1103715\n"
     ]
    }
   ],
   "source": [
    "# Count the unique values in column 'v10'\n",
    "unique_values_counts_v10 = cdna_df_cleaned_2['v10'].value_counts()\n",
    "\n",
    "# Print unique values and their counts in the specified format\n",
    "for value, count in unique_values_counts_v10.items():\n",
    "    print(f\"{value:<10} {count}\")\n",
    "\n",
    "# Print the total\n",
    "print(f\"{'Total':<10} {unique_values_counts_v10.sum()}\")\n"
   ]
  },
  {
   "cell_type": "code",
   "execution_count": null,
   "id": "e32defc4-80d9-4fc1-92de-da049bd991f8",
   "metadata": {
    "id": "e32defc4-80d9-4fc1-92de-da049bd991f8",
    "outputId": "472793d0-8a85-417a-e1cf-88be89c6425b"
   },
   "outputs": [
    {
     "name": "stdout",
     "output_type": "stream",
     "text": [
      "Resident Individuals 526370\n",
      "Affluent   58182\n",
      "Mass Affluent 2125\n",
      "FIRST Millennia 2051\n",
      "LOS        1923\n",
      "FIRST Select 1808\n",
      "FIRST Wealth 1059\n",
      "FIRST Power Plus 755\n",
      "FIRST Classic 751\n",
      "FIRST SWYP 265\n",
      "0001       262\n",
      "Club Vistara 197\n",
      "FIRST Power 188\n",
      "0188       155\n",
      "Proprietary concern 144\n",
      "LIC Select Credit Card 99\n",
      "NOTAPPLICABLE 96\n",
      "FIRST WOW! 60\n",
      "Private Corporates- Non-Financial 54\n",
      "Non Resident Individuals 54\n",
      "0187       53\n",
      "LIC Classic Credit Card 51\n",
      "FIRST Digital Credit Card 51\n",
      "Mayura     36\n",
      "0147       18\n",
      "Partnership 18\n",
      "Ashva      15\n",
      "INDIVIDUAL SALARIED 11\n",
      "CORPORATE  6\n",
      "0189       2\n",
      "FIRST Family 2\n",
      "0132       2\n",
      "FIRST EARN Credit Card 1\n",
      "Total      596864\n"
     ]
    }
   ],
   "source": [
    "# Count the unique values in column 'v15'\n",
    "unique_values_counts_v15 = cdna_df_cleaned_2['v15'].value_counts()\n",
    "\n",
    "# Print unique values and their counts in the specified format\n",
    "for value, count in unique_values_counts_v15.items():\n",
    "    print(f\"{value:<10} {count}\")\n",
    "\n",
    "# Print the total\n",
    "print(f\"{'Total':<10} {unique_values_counts_v15.sum()}\")\n"
   ]
  },
  {
   "cell_type": "code",
   "execution_count": null,
   "id": "f68d80ed-378a-43c9-967c-9fca29445aa1",
   "metadata": {
    "id": "f68d80ed-378a-43c9-967c-9fca29445aa1",
    "outputId": "7039ea56-965e-4f82-debb-4ea033e516a8",
    "scrolled": true
   },
   "outputs": [
    {
     "name": "stdout",
     "output_type": "stream",
     "text": [
      "95         416293\n",
      "01         330594\n",
      "11         136392\n",
      "02         104279\n",
      "03         46868\n",
      "04         40206\n",
      "15         27711\n",
      "06         26973\n",
      "false      19089\n",
      "05         16033\n",
      "10         15379\n",
      "07         12249\n",
      "16         6758\n",
      "75         6411\n",
      "17         2381\n",
      "52         2112\n",
      "93         772\n",
      "99         689\n",
      "95.0       654\n",
      "51         644\n",
      "60         635\n",
      "1.0        565\n",
      "33         545\n",
      "36         485\n",
      "85         463\n",
      "70         315\n",
      "28         279\n",
      "11.0       184\n",
      "2.0        181\n",
      "32         168\n",
      "74         162\n",
      "ZZ         125\n",
      "94         118\n",
      "34         113\n",
      "27         96\n",
      "39         92\n",
      "91         90\n",
      "4.0        89\n",
      "25         84\n",
      "29         83\n",
      "18         82\n",
      "50         75\n",
      "09         70\n",
      "20         66\n",
      "55         60\n",
      "21         54\n",
      "3.0        52\n",
      "31         49\n",
      "41         48\n",
      "15.0       47\n",
      "63         46\n",
      "5.0        42\n",
      "45         42\n",
      "22         36\n",
      "24         36\n",
      "65         34\n",
      "10.0       32\n",
      "6.0        30\n",
      "80         25\n",
      "19         24\n",
      "48         23\n",
      "7.0        22\n",
      "92         18\n",
      "26         18\n",
      "37         17\n",
      "74.0       14\n",
      "23         13\n",
      "66         13\n",
      "001        12\n",
      "67         12\n",
      "08         11\n",
      "16.0       9\n",
      "75.0       7\n",
      "61         6\n",
      "35         6\n",
      "40         6\n",
      "17.0       6\n",
      "90         6\n",
      "71         6\n",
      "85.0       5\n",
      "69         4\n",
      "33.0       1\n",
      "82         1\n",
      "Total      1218545\n"
     ]
    }
   ],
   "source": [
    "# Count the unique values in column 'v30'\n",
    "unique_values_counts_v30 = cdna_df_cleaned_2['v30'].value_counts()\n",
    "\n",
    "# Print unique values and their counts in the specified format\n",
    "for value, count in unique_values_counts_v30.items():\n",
    "    print(f\"{value:<10} {count}\")\n",
    "\n",
    "# Print the total\n",
    "print(f\"{'Total':<10} {unique_values_counts_v30.sum()}\")\n"
   ]
  },
  {
   "cell_type": "code",
   "execution_count": null,
   "id": "4afe958a-07c8-44d6-abe5-11083b3ad721",
   "metadata": {
    "id": "4afe958a-07c8-44d6-abe5-11083b3ad721",
    "outputId": "4c781282-0fb3-40d2-ff6a-865667178f5c",
    "scrolled": true
   },
   "outputs": [
    {
     "name": "stdout",
     "output_type": "stream",
     "text": [
      "IN         1091956\n",
      "356        127915\n",
      "US         2856\n",
      "AE         1916\n",
      "GB         1310\n",
      "AU         994\n",
      "CA         978\n",
      "SG         904\n",
      "SA         846\n",
      "KW         627\n",
      "QA         608\n",
      "DE         378\n",
      "OM         310\n",
      "NG         269\n",
      "HK         265\n",
      "MY         185\n",
      "NZ         172\n",
      "IE         171\n",
      "NL         166\n",
      "BH         164\n",
      "JP         114\n",
      "TH         81\n",
      "SE         77\n",
      "BE         76\n",
      "IT         61\n",
      "MH         54\n",
      "DK         54\n",
      "ID         54\n",
      "KE         49\n",
      "UG         48\n",
      "ZM         47\n",
      "CN         47\n",
      "PL         46\n",
      "FR         45\n",
      "ES         43\n",
      "KR         42\n",
      "CY         42\n",
      "RU         37\n",
      "CH         36\n",
      "PH         36\n",
      "VN         36\n",
      "FI         35\n",
      "CD         32\n",
      "TR         31\n",
      "ZA         30\n",
      "PT         29\n",
      "MT         26\n",
      "IL         25\n",
      "AO         25\n",
      "GR         24\n",
      "IQ         24\n",
      "MZ         24\n",
      "NO         23\n",
      "TZ         21\n",
      "LV         18\n",
      "LR         18\n",
      "MX         18\n",
      "BM         18\n",
      "TW         18\n",
      "LK         18\n",
      "MV         18\n",
      "LU         18\n",
      "GA         18\n",
      "KY         18\n",
      "JO         16\n",
      "CI         12\n",
      "HU         12\n",
      "SL         12\n",
      "AT         12\n",
      "TG         12\n",
      "KZ         12\n",
      "CZ         12\n",
      "BF         12\n",
      "HR         12\n",
      "MG         12\n",
      "BD         12\n",
      "MC         12\n",
      "JM         9\n",
      "GH         8\n",
      "AZ         8\n",
      "BW         8\n",
      "ZW         7\n",
      "CL         7\n",
      "SC         7\n",
      "BN         6\n",
      "IM         6\n",
      "MO         6\n",
      "PA         6\n",
      "KH         6\n",
      "LA         6\n",
      "BJ         6\n",
      "VC         6\n",
      "CF         6\n",
      "LB         6\n",
      "UZ         6\n",
      "BS         6\n",
      "EG         6\n",
      "CW         4\n",
      "CM         2\n",
      "GE         2\n",
      "RO         2\n",
      "Total      1234946\n"
     ]
    }
   ],
   "source": [
    "# Count the unique values in column 'v31'\n",
    "unique_values_counts_v31 = cdna_df_cleaned_2['v31'].value_counts()\n",
    "\n",
    "# Print unique values and their counts in the specified format\n",
    "for value, count in unique_values_counts_v31.items():\n",
    "    print(f\"{value:<10} {count}\")\n",
    "\n",
    "# Print the total\n",
    "print(f\"{'Total':<10} {unique_values_counts_v31.sum()}\")\n"
   ]
  },
  {
   "cell_type": "code",
   "execution_count": null,
   "id": "6a6d1de6-1cb3-4e13-b4fe-52c6fbf62ffa",
   "metadata": {
    "id": "6a6d1de6-1cb3-4e13-b4fe-52c6fbf62ffa",
    "outputId": "dd68380e-ab2b-4501-951c-25469a42622f"
   },
   "outputs": [
    {
     "name": "stdout",
     "output_type": "stream",
     "text": [
      "Number of unique values in column 'v31': 101\n"
     ]
    }
   ],
   "source": [
    "# Ensure the dataset is loaded and column v31 exists\n",
    "if 'v31' in cdna_df_cleaned_2.columns:\n",
    "    unique_count_v31 = cdna_df_cleaned_2['v31'].nunique()\n",
    "    print(f\"Number of unique values in column 'v31': {unique_count_v31}\")\n",
    "else:\n",
    "    print(\"Column 'v31' does not exist in the dataset.\")\n"
   ]
  },
  {
   "cell_type": "code",
   "execution_count": null,
   "id": "7b344d32-7ad6-4544-8b44-28bf5904932d",
   "metadata": {
    "id": "7b344d32-7ad6-4544-8b44-28bf5904932d",
    "outputId": "c1897064-9d49-4f3d-c807-ccea5b111e78",
    "scrolled": true
   },
   "outputs": [
    {
     "name": "stdout",
     "output_type": "stream",
     "text": [
      "MAHARASHTRA 197967\n",
      "GUJARAT    109325\n",
      "UTTAR PRADESH 102813\n",
      "KARNATAKA  101356\n",
      "TAMIL NADU 92483\n",
      "ANDHRA PRADESH 69800\n",
      "WEST BENGAL 66935\n",
      "TELANGANA  66029\n",
      "RAJASTHAN  57131\n",
      "DELHI      52285\n",
      "HARYANA    47525\n",
      "NCT OF DELHI 45207\n",
      "MADHYA PRADESH 43064\n",
      "PUNJAB     30796\n",
      "KERALA     27068\n",
      "BIHAR      26833\n",
      "ODISHA     17725\n",
      "CHHATTISGARH 15366\n",
      "JHARKHAND  14122\n",
      "ORISSA     13540\n",
      "ASSAM      9583\n",
      "UTTARAKHAND 5278\n",
      "27         5237\n",
      "CHANDIGARH 4473\n",
      "07         4175\n",
      "24         3695\n",
      "GOA        2832\n",
      "19         2475\n",
      "HIMACHAL PRADESH 2379\n",
      "09         2343\n",
      "JAMMU and KASHMIR 2340\n",
      "UTTARANCHAL 2324\n",
      "29         2055\n",
      "36         1616\n",
      "08         1541\n",
      "33         1383\n",
      "37         1239\n",
      "06         1212\n",
      "TRIPURA    1191\n",
      "DUBAI      1168\n",
      "23         976\n",
      "SINGAPORE  904\n",
      "PONDICHERRY 759\n",
      "JAMMU AND KASHMIR 730\n",
      "MEGHALAYA  642\n",
      "21         625\n",
      "MANIPUR    625\n",
      "32         610\n",
      "ONTARIO    588\n",
      "KUWAIT     580\n",
      "NAGALAND   571\n",
      "03         559\n",
      "Saudi Arabia 527\n",
      "PUDUCHERRY 498\n",
      "California 471\n",
      "ABU DHABI  443\n",
      "10         423\n",
      "20         416\n",
      "Victoria   386\n",
      "NEW SOUTH WALES 351\n",
      "TEXAS      350\n",
      "Qatar      331\n",
      "LONDON     287\n",
      "NEW JERSEY 285\n",
      "Pondicherry 285\n",
      "DOHA       261\n",
      "MUSCAT     256\n",
      "05         236\n",
      "LAGOS      203\n",
      "DADRA AND NAGAR HAVELI 198\n",
      "22         192\n",
      "HONG KONG  190\n",
      "Greater London 182\n",
      "SHARJAH    181\n",
      "18         174\n",
      "FLORIDA    170\n",
      "RIYADH     157\n",
      "SIKKIM     147\n",
      "WASHINGTON 147\n",
      "ARUNACHAL PRADESH 145\n",
      "British Columbia 135\n",
      "Pennsylvania 135\n",
      "04         134\n",
      "ILLINOIS   127\n",
      "Georgia    121\n",
      "Dublin     120\n",
      "New York   119\n",
      "MASSACHUSETTS 116\n",
      "Auckland   116\n",
      "Queensland 108\n",
      "ALBERTA    101\n",
      "ENGLAND    99\n",
      "West Midlands 96\n",
      "Arizona    95\n",
      "Western Australia 95\n",
      "Bahrain    93\n",
      "DAMAN and DIU 93\n",
      "Bavaria    85\n",
      "Berlin     75\n",
      "MICHIGAN   75\n",
      "NORTH CAROLINA 71\n",
      "MIZORAM    70\n",
      "Tokyo      69\n",
      "VIRGINIA   66\n",
      "Quebec     66\n",
      "AJMAN      65\n",
      "North Rhine-Westphalia 63\n",
      "KUALA LUMPUR 63\n",
      "ANDAMAN and NICOBAR ISLANDS 62\n",
      "02         61\n",
      "OHIO       60\n",
      "30         60\n",
      "Selangor   58\n",
      "North Holland 54\n",
      "JEDDAH     53\n",
      "Baden-Wurttemberg 53\n",
      "Indiana    51\n",
      "Karnataka  49\n",
      "JAKARTA    48\n",
      "Kowloon    48\n",
      "Bangkok Metropolitan 45\n",
      "MINNESOTA  43\n",
      "Capital Region of Denmark 42\n",
      "\\N         42\n",
      "KAMPALA    42\n",
      "MAJURO     42\n",
      "Hampshire  42\n",
      "AL KHOBAR  41\n",
      "AL BATINAH NORTH 41\n",
      "NAIROBI    40\n",
      "CONNECTICUT 38\n",
      "MetroManila-N.C.R. 36\n",
      "Kansas     36\n",
      "Manama     36\n",
      "North Brabant 36\n",
      "South Australia 36\n",
      "Colorado   36\n",
      "Greater Manchester 36\n",
      "Lusaka     35\n",
      "01         34\n",
      "JUBAIL     32\n",
      "Surrey     32\n",
      "ESSEX      31\n",
      "Wisconsin  31\n",
      "LIMASSOL   30\n",
      "Gujarat    30\n",
      "Cambridgeshire 30\n",
      "Masovia    30\n",
      "Leicestershire 29\n",
      "Saskatchewan 29\n",
      "NOVA SCOTIA 29\n",
      "Antwerp    28\n",
      "Edinburgh  28\n",
      "DAMAN AND DIU 28\n",
      "West Yorkshire 28\n",
      "RIVERS     27\n",
      "Canterbury 26\n",
      "New Territories 26\n",
      "STOCKHOLM  26\n",
      "SAFAT      26\n",
      "Uusimaa    26\n",
      "BAHRAIN    26\n",
      "Telangana  25\n",
      "Liguria    24\n",
      "WARWICKSHIRE 24\n",
      "Kanagawa   24\n",
      "Berkshire  24\n",
      "Hesse      24\n",
      "LOWER SAXONY 24\n",
      "MALTA      24\n",
      "SEOUL      24\n",
      "Brussels   24\n",
      "SCOTLAND   23\n",
      "Maharashtra 23\n",
      "FUJAIRAH   23\n",
      "OGUN       23\n",
      "Maryland   23\n",
      "34         23\n",
      "Bedfordshire 21\n",
      "Essex      21\n",
      "Derbyshire 20\n",
      "TANZANIA   20\n",
      "AL FARWANIYA 20\n",
      "Ile De France 20\n",
      "Catalonia  19\n",
      "Luanda     19\n",
      "Tel Aviv   19\n",
      "Attica     18\n",
      "Federal Territories 18\n",
      "ANDAMAN AND NICOBAR ISLANDS 18\n",
      "BASRA      18\n",
      "Lombardy   18\n",
      "Kildare    18\n",
      "RAK        18\n",
      "HAMILTON   18\n",
      "Australian Capital Territory 18\n",
      "Gauteng    18\n",
      "West Bengal 18\n",
      "U.A.E.     18\n",
      "Rhineland-Palatinate 18\n",
      "Moscow     18\n",
      "MONROVIA   18\n",
      "Luxembourg 18\n",
      "Manitoba   18\n",
      "District of Columbia 18\n",
      "South Holland 17\n",
      "xxxxx      17\n",
      "DAMMAM     17\n",
      "SOUTH CAROLINA 16\n",
      "ALKHOR     16\n",
      "Madhya Pradesh 16\n",
      "KENT       15\n",
      "Tennessee  15\n",
      "KINSHASA   14\n",
      "Lisboa     14\n",
      "AZERBAIJAN 14\n",
      "Delhi      13\n",
      "16         13\n",
      "Gothenburg 13\n",
      "Amsterdam  13\n",
      "Utrecht    13\n",
      "Tyne and Wear 13\n",
      "Hanoi      12\n",
      "Johor      12\n",
      "LUMBUMBASHI 12\n",
      "MIDDLESEX  12\n",
      "New Brunswick 12\n",
      "MARSHALL ISLANDS 12\n",
      "South Yorkshire 12\n",
      "Skane      12\n",
      "BANGKOK    12\n",
      "Lancashire 12\n",
      "Vienna     12\n",
      "FREETOWN   12\n",
      "ESTUAIRE   12\n",
      "Delaware   12\n",
      "SHANGHAI   12\n",
      "Madrid     12\n",
      "Antrim     12\n",
      "LABUAN     12\n",
      "Colombo    12\n",
      "ALMATY     12\n",
      "TAIPEI     12\n",
      "Staffordshire 12\n",
      "Louisiana  12\n",
      "IOWA       12\n",
      "LATVIA     12\n",
      "Lesser Poland 12\n",
      "SOUTHALL   12\n",
      "GRAND CAYMAN 12\n",
      "ABIDJAN    12\n",
      "CHESHIRE   12\n",
      "BAYERN     12\n",
      "OUAGADOUGOU 12\n",
      "Adana      12\n",
      "ZURICH     12\n",
      "Nevada     12\n",
      "Wellington 12\n",
      "ANTANANARIVO 12\n",
      "Male       12\n",
      "Lome       12\n",
      "PRAGUE     12\n",
      "Hyogo      12\n",
      "City of Bristol 12\n",
      "Flevoland  11\n",
      "Suffolk    11\n",
      "Down       11\n",
      "Gelderland 11\n",
      "Rogaland   11\n",
      "Alabama    10\n",
      "KA         10\n",
      "Ile-de-France 10\n",
      "Oregon     10\n",
      "AL KHUBAR  10\n",
      "AL JUBAYL  9\n",
      "AMMAN      9\n",
      "Meath      9\n",
      "Republic of Tatarstan 8\n",
      "Greater Accra 8\n",
      "Devon      8\n",
      "BUCKINGHAMSHIRE 8\n",
      "Rajasthan  8\n",
      "South East 8\n",
      "Istanbul   7\n",
      "IRBID      7\n",
      "Dhofar     7\n",
      "East Sussex 7\n",
      "SANTIAGO   7\n",
      "Northamptonshire 7\n",
      "Harare     7\n",
      "MAHE       7\n",
      "Central Denmark Region 6\n",
      "Lazio      6\n",
      "PIRKANMAA  6\n",
      "Hamburg    6\n",
      "BRITISH VIRGIN ISLANDS 6\n",
      "MOZAMBIQUE 6\n",
      "Galway     6\n",
      "QUERETARO  6\n",
      "NAMPULA    6\n",
      "LUZERN     6\n",
      "Stirling   6\n",
      "Ulsan      6\n",
      "Kerry      6\n",
      "PANAMA     6\n",
      "ROMA       6\n",
      "Bay of Plenty 6\n",
      "Vestfold   6\n",
      "CAMBODIA   6\n",
      "FUJIAN     6\n",
      "Binh Thanh 6\n",
      "Zurich     6\n",
      "HATFIELD   6\n",
      "BAC GIANG  6\n",
      "GYEONGGI-DO 6\n",
      "DOUGLAS    6\n",
      "ERBIL      6\n",
      "Nottinghamshire 6\n",
      "Chachoengsao 6\n",
      "Tashkent   6\n",
      "ZAGREB     6\n",
      "North East England 6\n",
      "LIAO NING  6\n",
      "PARIS      6\n",
      "COPPERBELT 6\n",
      "West Flanders 6\n",
      "Shandong   6\n",
      "Hertfordshire 6\n",
      "Tambov Oblast 6\n",
      "KUALA BELAIT 6\n",
      "CABO DELGADO 6\n",
      "ANTWERPEN  6\n",
      "Limerick   6\n",
      "Uttar Pradesh 6\n",
      "South      6\n",
      "CAIRO      6\n",
      "kisumu     6\n",
      "MUEANG SAMUT PRAKAN 6\n",
      "Vastra Gotalands 6\n",
      "GENEVA     6\n",
      "VIRGIN ISLANDS 6\n",
      "Rhode Island 6\n",
      "Nicosia    6\n",
      "SOUTHERN PROVINCE 6\n",
      "Hokkaido   6\n",
      "ALWASTA    6\n",
      "12         6\n",
      "TARABA     6\n",
      "Ho Chi Minh 6\n",
      "ATHENS     6\n",
      "Balikesir  6\n",
      "SANDVIKEN  6\n",
      "MUHARRAQ   6\n",
      "PRACHUAP KHIRI KHAN 6\n",
      "Oslo       6\n",
      "LUDVIKA    6\n",
      "Johannesburg 6\n",
      "Monte-Carlo 6\n",
      "DEN HAG    6\n",
      "Emilia-Romagna 6\n",
      "Nebraska   6\n",
      "Southern Denmark 6\n",
      "Waikato    6\n",
      "Central    6\n",
      "Bacs-Kiskun 6\n",
      "Dhaka      6\n",
      "Kano       6\n",
      "Benguela   6\n",
      "Manawatu-Wanganui 6\n",
      "KINGSTOWN  6\n",
      "ARI ATOLL  6\n",
      "SOUTHCAROLINA 6\n",
      "Penang     6\n",
      "CAMBRIDGE  6\n",
      "GEORGE TOWN 6\n",
      "Missouri   6\n",
      "EVERE      6\n",
      "Ostergotlands 6\n",
      "ARKANSAS   6\n",
      "COTONOU    6\n",
      "ANTALYA    6\n",
      "RIJEKA     6\n",
      "RATCHABURI 6\n",
      "JERSEY     6\n",
      "West Dunbartonshire 6\n",
      "Norte      6\n",
      "Canary Islands 6\n",
      "BANGUI     6\n",
      "GUANGZHOU  6\n",
      "Mpassa     6\n",
      "GYEONGGI-SI 6\n",
      "West Sussex 6\n",
      "EASTERN REGION OF UGANDA 6\n",
      "BUDAPEST   6\n",
      "MONACO     6\n",
      "Jalisco    6\n",
      "BRANDENBURG 6\n",
      "Hai Phong  6\n",
      "MAINE      6\n",
      "Guernsey   6\n",
      "AHMEDABAD  6\n",
      "Vientiane Prefecture 6\n",
      "LATIVA     6\n",
      "KEQIAO     6\n",
      "Saint James 6\n",
      "NUEVO LEON 6\n",
      "PENSYLVANIA 6\n",
      "TAICHUNG   6\n",
      "Macao      6\n",
      "NEGERI SEMBILAN 6\n",
      "ASCHHEIM   6\n",
      "BELGIUM    6\n",
      "SPAIN      6\n",
      "ALENTEJO   6\n",
      "Occitanie  6\n",
      "Utah       6\n",
      "CHATTOGRAM 6\n",
      "Western Cape 6\n",
      "FREEPORT   6\n",
      "SOFALA     6\n",
      "Java       6\n",
      "CYPRUS     6\n",
      "North Governorate 6\n",
      "Haut-Katanga 6\n",
      "Westmeath  6\n",
      "SAXONY     6\n",
      "LAKSHADWEEP 6\n",
      "CHICAGO    5\n",
      "Oxfordshire 5\n",
      "ZUID HOLLAND 5\n",
      "Saint Petersburg 5\n",
      "Perak      5\n",
      "Guangdong  5\n",
      "NOTTINGHAM 5\n",
      "MELAKA     5\n",
      "Greater Poland 4\n",
      "Tamil Nadu 4\n",
      "Idaho      4\n",
      "NETHERLAND 4\n",
      "Oklahoma   4\n",
      "MP         4\n",
      "SOLOTHURN  4\n",
      "Uasin Ghisu 3\n",
      "CASCAIS    3\n",
      "ST ELIZABETH 3\n",
      "SOUTH KARELIA 3\n",
      "TUBLI      3\n",
      "NAGASAKI   3\n",
      "ABUJA      3\n",
      "Hauts-de-France 3\n",
      "Bucharest  2\n",
      "OKLAHOMA   2\n",
      "Norfolk    2\n",
      "PIETA      2\n",
      "Kentucky   2\n",
      "GOTEBORG   2\n",
      "BASEL      2\n",
      "26         2\n",
      "ILFORD     2\n",
      "OREGON     2\n",
      "TBILISI    2\n",
      "TN         2\n",
      "Yaounde    2\n",
      "LANTAU ISLAND 1\n",
      "United Kingdom 1\n",
      "DELTA      1\n",
      "PIEDMONT   1\n",
      "MOROGORO   1\n",
      "KUWAIT1    1\n",
      "DADRA AND NAGAR HAVE 1\n",
      "Total      1279517\n"
     ]
    }
   ],
   "source": [
    "# Count the unique values in column 'v37'\n",
    "unique_values_counts_v37 = cdna_df_cleaned_2['v37'].value_counts()\n",
    "\n",
    "# Print unique values and their counts in the specified format\n",
    "for value, count in unique_values_counts_v37.items():\n",
    "    print(f\"{value:<10} {count}\")\n",
    "\n",
    "# Print the total\n",
    "print(f\"{'Total':<10} {unique_values_counts_v37.sum()}\")\n"
   ]
  },
  {
   "cell_type": "code",
   "execution_count": null,
   "id": "f366df89-5029-470f-8ee8-8c6772aeef00",
   "metadata": {
    "id": "f366df89-5029-470f-8ee8-8c6772aeef00",
    "outputId": "54defe86-4cbc-492c-db9c-f0a694fc4db7",
    "scrolled": true
   },
   "outputs": [
    {
     "name": "stdout",
     "output_type": "stream",
     "text": [
      "                                       CUSTOMER_CODE    v5           v6  \\\n",
      "0  ab617a6a0a8582f4aaa1aeda38fd73377cb911e6096a98...  99.0        THANE   \n",
      "1  6e8e3227297409f3f33578400302825263cadc2ed0d1a0...  99.0         Pune   \n",
      "2  1b42f270aba756b64d7ae4e2409313097b0c91f7c2f2c7...  99.0      BHIWANI   \n",
      "3  06a4aae9b531a518260c7d0d88811cc202fd0d3e46d9ea...  99.0  CHIKMAGALUR   \n",
      "4  0e4fa92b7a41dc019c9f40457e180e94ca60d0b5c7128e...  99.0        NASIK   \n",
      "\n",
      "                        v11  v24        v27                     v29   v32  \\\n",
      "0  2018-08-25T00:00:00.000Z  0.0    MARRIED                SALARIED   NaN   \n",
      "1  2018-08-03T14:12:16.000Z  NaN    Married  Self Employed Business  60.0   \n",
      "2  2021-10-08T00:00:00.000Z  0.0    MARRIED                     NaN   NaN   \n",
      "3  2024-03-18T00:00:00.000Z  NaN  Unmarried                Salaried  84.0   \n",
      "4  2024-02-26T00:00:00.000Z  NaN  Unmarried               Homemaker  60.0   \n",
      "\n",
      "                                                 v33      v34  ... v295 v296  \\\n",
      "0  c7e235648c651555361eb3f24ec90608fa8317b1ca8d5a...    THANE  ...   44  204   \n",
      "1  55253020c6a8f56e2208746dc08cfa4934758d7b207551...     Pune  ...   44  204   \n",
      "2  84bcd8800fde891c698a509995ff937f796c6df2330b2e...  BHIWANI  ...   44  204   \n",
      "3                                                NaN      NaN  ...   44  204   \n",
      "4                                                NaN      NaN  ...   44  204   \n",
      "\n",
      "   v297  v298  v299 v300 v301  v302  batch_date  age_mean  \n",
      "0   150    73   271  164  170   246  2024-09-27      52.0  \n",
      "1   150    73   271  164  170   246  2024-09-27      37.0  \n",
      "2   150    73   271  164  170   246  2024-09-27      22.0  \n",
      "3   150    73   271  164  170   246  2024-09-27      22.0  \n",
      "4   150    73   271  164  170   246  2024-09-27      32.0  \n",
      "\n",
      "[5 rows x 165 columns]\n"
     ]
    }
   ],
   "source": [
    "### Dropping columns v9, v10, v15, v30, v31, v37\n",
    "\n",
    "\n",
    "# Drop the specified columns and store the result in a new dataset\n",
    "columns_to_drop = ['v9', 'v10', 'v15', 'v30', 'v31', 'v37']\n",
    "cdna_df_cleaned_3 = cdna_df_cleaned_2.drop(columns=columns_to_drop)\n",
    "\n",
    "# Verify the new dataset\n",
    "print(cdna_df_cleaned_3.head())\n"
   ]
  },
  {
   "cell_type": "code",
   "execution_count": null,
   "id": "d4735a5c-7e6e-443e-b9f9-cb7550e34532",
   "metadata": {
    "id": "d4735a5c-7e6e-443e-b9f9-cb7550e34532",
    "outputId": "abed2e48-33a4-4f62-fe34-4eb3c409a66d"
   },
   "outputs": [
    {
     "name": "stdout",
     "output_type": "stream",
     "text": [
      "100001 to 5L 286050\n",
      "5L to 10L  86388\n",
      "0 to 1L    52674\n",
      "10L to 25L 45162\n",
      "50L to 3Crore 21564\n",
      "25L to 50L 20448\n",
      "0          18426\n",
      "3Crore to 5Crore 2298\n",
      "5Crore to 10Crore 1560\n",
      "10Crore to 15Crore 588\n",
      "15Crore to 20Crore 210\n",
      "20Crore to 35Crore 210\n",
      "35Crore to 50Crore 156\n",
      "Total      535734\n"
     ]
    }
   ],
   "source": [
    "# Count the unique values in column 'v63'\n",
    "unique_values_counts_v63 = cdna_df_cleaned_3['v63'].value_counts()\n",
    "\n",
    "# Print unique values and their counts in the specified format\n",
    "for value, count in unique_values_counts_v63.items():\n",
    "    print(f\"{value:<10} {count}\")\n",
    "\n",
    "# Print the total\n",
    "print(f\"{'Total':<10} {unique_values_counts_v63.sum()}\")\n"
   ]
  },
  {
   "cell_type": "code",
   "execution_count": null,
   "id": "3eccfccd-5cb5-4c88-9fae-0c90988d7091",
   "metadata": {
    "id": "3eccfccd-5cb5-4c88-9fae-0c90988d7091",
    "outputId": "8765175f-92ae-47b8-8a33-1aa6a4666290"
   },
   "outputs": [
    {
     "name": "stdout",
     "output_type": "stream",
     "text": [
      "Dataset saved as 'cdna_df_cleaned_3.csv'\n"
     ]
    }
   ],
   "source": [
    "# Save cdna_df_cleaned_3 to a CSV file\n",
    "cdna_df_cleaned_3.to_csv('cdna_df_cleaned_3.csv', index=False)\n",
    "\n",
    "print(\"Dataset saved as 'cdna_df_cleaned_3.csv'\")\n"
   ]
  },
  {
   "cell_type": "code",
   "execution_count": null,
   "id": "d4744926-2f44-4cda-a5a1-08627b255d5d",
   "metadata": {
    "id": "d4744926-2f44-4cda-a5a1-08627b255d5d",
    "outputId": "349e08d1-30a0-4eeb-f484-e1c8cb8fb8bb"
   },
   "outputs": [],
   "source": [
    "# Load the CSV file into a DataFrame\n",
    "cdna_df_cleaned_3 = pd.read_csv('cdna_df_cleaned_3.csv')"
   ]
  },
  {
   "cell_type": "markdown",
   "id": "H0D1cLD6CwSp",
   "metadata": {
    "id": "H0D1cLD6CwSp"
   },
   "source": [
    "Column v63: Contained Income range in string format. Mapped the range strings to numeric values (mean of range)  for encoding. Filled missing values with median."
   ]
  },
  {
   "cell_type": "code",
   "execution_count": null,
   "id": "81e0f5ff-fafb-4596-a792-6de504a5ffd9",
   "metadata": {
    "id": "81e0f5ff-fafb-4596-a792-6de504a5ffd9",
    "outputId": "dbcb0c9f-c1b2-4467-f78f-e1a479245ba4"
   },
   "outputs": [
    {
     "name": "stdout",
     "output_type": "stream",
     "text": [
      "Cleaned Dataset: Missing values in 'v63': 0\n",
      "Cleaned Dataset: Missing values in 'v63_encoded': 0\n"
     ]
    }
   ],
   "source": [
    "import pandas as pd\n",
    "\n",
    "# Example mapping of range strings to numeric values for encoding\n",
    "range_mapping = {\n",
    "    '0': 0,\n",
    "    '0 to 1L': 0.5,\n",
    "    '100001 to 5L': 2.5,\n",
    "    '5L to 10L': 7.5,\n",
    "    '10L to 25L': 17.5,\n",
    "    '25L to 50L': 37.5,\n",
    "    '50L to 3Crore': 175,\n",
    "    '3Crore to 5Crore': 400,\n",
    "    '5Crore to 10Crore': 750,\n",
    "    '10Crore to 15Crore': 1250,\n",
    "    '15Crore to 20Crore': 1750,\n",
    "    '20Crore to 35Crore': 2750,\n",
    "    '35Crore to 50Crore': 4250,\n",
    "}\n",
    "\n",
    "# 1. Map the string values in 'v63' to numeric values\n",
    "cdna_df_cleaned_3['v63_encoded'] = cdna_df_cleaned_3['v63'].map(range_mapping)\n",
    "\n",
    "# 2. Calculate the median for the encoded numeric column\n",
    "median_v63_encoded = cdna_df_cleaned_3['v63_encoded'].median()\n",
    "\n",
    "# 3. Fill missing values in the encoded column with the median value\n",
    "cdna_df_cleaned_3['v63_encoded'] = cdna_df_cleaned_3['v63_encoded'].fillna(median_v63_encoded)\n",
    "\n",
    "# 4. Fill missing values in the original 'v63' column with the calculated median of the encoded values\n",
    "median_v63 = cdna_df_cleaned_3['v63_encoded'].median()  # Median of the encoded column\n",
    "cdna_df_cleaned_3['v63'] = cdna_df_cleaned_3['v63'].map(range_mapping).fillna(median_v63)\n",
    "\n",
    "# Validate the results\n",
    "print(\"Cleaned Dataset: Missing values in 'v63':\", cdna_df_cleaned_3['v63'].isna().sum())\n",
    "print(\"Cleaned Dataset: Missing values in 'v63_encoded':\", cdna_df_cleaned_3['v63_encoded'].isna().sum())\n"
   ]
  },
  {
   "cell_type": "code",
   "execution_count": null,
   "id": "6eac9e9e-b09b-43e1-a86e-c319e29eb035",
   "metadata": {
    "id": "6eac9e9e-b09b-43e1-a86e-c319e29eb035",
    "outputId": "f9794f5b-7ed7-44fe-e85d-9f56e91572c4"
   },
   "outputs": [
    {
     "data": {
      "text/plain": [
       "(0     2.5\n",
       " 1    37.5\n",
       " 2     2.5\n",
       " 3     2.5\n",
       " 4     2.5\n",
       " 5     2.5\n",
       " 6     2.5\n",
       " 7     2.5\n",
       " 8     2.5\n",
       " 9     2.5\n",
       " Name: v63, dtype: float64,\n",
       " dtype('float64'))"
      ]
     },
     "execution_count": 60,
     "metadata": {},
     "output_type": "execute_result"
    }
   ],
   "source": [
    "# Printing the first few rows of the 'v63' column and its datatype\n",
    "v63_head = cdna_df_cleaned_3['v63'].head(10)\n",
    "v63_dtype = cdna_df_cleaned_3['v63'].dtype\n",
    "\n",
    "(v63_head, v63_dtype)\n"
   ]
  },
  {
   "cell_type": "code",
   "execution_count": null,
   "id": "edaa3d3c-a1f0-49c6-af4f-ee0528039f59",
   "metadata": {
    "id": "edaa3d3c-a1f0-49c6-af4f-ee0528039f59",
    "outputId": "10a672ea-d301-4419-a6b6-a4ef3d2d5225",
    "scrolled": true
   },
   "outputs": [
    {
     "name": "stdout",
     "output_type": "stream",
     "text": [
      "22101.0    162914\n",
      "43552.0    146598\n",
      "22101      92911\n",
      "22102.0    87680\n",
      "43552      82680\n",
      "22102      51101\n",
      "43554.0    22641\n",
      "21101.0    22427\n",
      "43551.0    21479\n",
      "22106.0    17900\n",
      "43301.0    17867\n",
      "21101      13641\n",
      "43501.0    13232\n",
      "43554      12683\n",
      "43553.0    12016\n",
      "43551      11818\n",
      "43512.0    11534\n",
      "43301      10391\n",
      "22106      10332\n",
      "43501      7799\n",
      "43553      6660\n",
      "43512      6594\n",
      "23201.0    6038\n",
      "22107.0    5977\n",
      "22116.0    4697\n",
      "43302.0    4509\n",
      "22125.0    3973\n",
      "23201      3552\n",
      "22107      3516\n",
      "22108.0    3475\n",
      "21138.0    3152\n",
      "43556.0    2822\n",
      "22124.0    2749\n",
      "43302      2676\n",
      "22116      2628\n",
      "44309.0    2615\n",
      "22125      2244\n",
      "22105.0    2220\n",
      "43513.0    2180\n",
      "43304.0    2095\n",
      "22108      2028\n",
      "21138      1750\n",
      "43556      1565\n",
      "44309      1535\n",
      "22124      1510\n",
      "43305.0    1247\n",
      "43513      1238\n",
      "22105      1224\n",
      "47371.0    1129\n",
      "43304      1117\n",
      "43203.0    1082\n",
      "21122.0    798\n",
      "43203      708\n",
      "43305      706\n",
      "22103.0    650\n",
      "47371      578\n",
      "43802.0    560\n",
      "22123.0    471\n",
      "43751.0    414\n",
      "21122      387\n",
      "43803.0    372\n",
      "43202.0    369\n",
      "47341.0    342\n",
      "22103      340\n",
      "47201.0    334\n",
      "43751      316\n",
      "43664.0    302\n",
      "23217.0    290\n",
      "22123      281\n",
      "43651.0    254\n",
      "43803      252\n",
      "43402.0    241\n",
      "43202      231\n",
      "43802      219\n",
      "43664      213\n",
      "47201      212\n",
      "47341      172\n",
      "21134.0    168\n",
      "43112.0    165\n",
      "21139.0    161\n",
      "43654.0    161\n",
      "43402      141\n",
      "44343.0    140\n",
      "22121.0    139\n",
      "43651      129\n",
      "23217      125\n",
      "43401.0    120\n",
      "43555.0    119\n",
      "43303.0    118\n",
      "21126.0    118\n",
      "43654      114\n",
      "41211.0    98\n",
      "43306.0    97\n",
      "21134      96\n",
      "43401      91\n",
      "44343      90\n",
      "ICICI Pru Balanced Advantage Fund(G) 84\n",
      "43303      81\n",
      "47501.0    81\n",
      "22122.0    79\n",
      "43208      79\n",
      "Axis Bluechip Fund-Reg(G) 78\n",
      "21126      77\n",
      "43112      75\n",
      "41231.0    72\n",
      "43208.0    70\n",
      "43306      66\n",
      "Nippon India Small Cap Fund(G) 65\n",
      "22121      63\n",
      "43755.0    54\n",
      "22122      52\n",
      "44344.0    51\n",
      "21139      50\n",
      "47501      50\n",
      "43555      49\n",
      "ICICI Pru Value Discovery Fund(G) 48\n",
      "43201.0    48\n",
      "Mirae Asset Large & Midcap Fund-Reg(G) 43\n",
      "ICICI Pru Bluechip Fund(G) 43\n",
      "47372.0    42\n",
      "43753.0    42\n",
      "21129      39\n",
      "41226.0    38\n",
      "43755      36\n",
      "41211      35\n",
      "21137.0    34\n",
      "22126      34\n",
      "47503.0    30\n",
      "HDFC Top 100 Fund(G) 30\n",
      "41226      28\n",
      "21137      26\n",
      "22126.0    26\n",
      "Axis Midcap Fund-Reg(G) 24\n",
      "41231      23\n",
      "44344      23\n",
      "23222.0    22\n",
      "ICICI Pru Equity & Debt Fund(G) 22\n",
      "47372      20\n",
      "HDFC Mid-Cap Opportunities Fund(G) 19\n",
      "21129.0    19\n",
      "47445      18\n",
      "DSP Equity Opportunities Fund-Reg(G) 18\n",
      "Kotak Emerging Equity Fund(G) 18\n",
      "42101.0    17\n",
      "Kotak Flexicap Fund(G) 17\n",
      "Aditya Birla SL Frontline Equity Fund(G) 17\n",
      "41229.0    16\n",
      "21146.0    15\n",
      "41215.0    14\n",
      "Axis ELSS Tax Saver Fund-Reg(G) 14\n",
      "47445.0    14\n",
      "HDFC Flexi Cap Fund(G) 14\n",
      "23203.0    14\n",
      "41229      13\n",
      "43201      12\n",
      "Axis Multicap Fund-Reg(G) 12\n",
      "41219.0    12\n",
      "Aditya Birla SL Banking & Financial Services Fund-Reg(G) 12\n",
      "41207.0    12\n",
      "ICICI Pru Bluechip Fund(IDCW) 12\n",
      "21146      12\n",
      "Bandhan ELSS Tax Saver Fund-Reg(G) 12\n",
      "Mirae Asset Large & Midcap Fund-Reg(IDCW) 12\n",
      "SBI Flexicap Fund-Reg(G) 12\n",
      "Bandhan Sterling Value Fund-Reg(G) 12\n",
      "Axis Bluechip Fund-Reg(IDCW) 12\n",
      "Axis Small Cap Fund-Reg(G) 12\n",
      "Aditya Birla SL Corp Bond Fund(G) 12\n",
      "Aditya Birla SL Small Cap Fund(G) 12\n",
      "Mirae Asset Large Cap Fund-Reg(G) 12\n",
      "HDFC Balanced Advantage Fund(IDCW) 12\n",
      "47504      11\n",
      "Aditya Birla SL ELSS Tax Saver Fund(G) 11\n",
      "23222      11\n",
      "41215      10\n",
      "21127      9\n",
      "21127.0    9\n",
      "47503      8\n",
      "41209.0    8\n",
      "SBI Contra Fund-Reg(G) 8\n",
      "ICICI Pru Multicap Fund(G) 8\n",
      "SBI Equity Hybrid Fund-Reg(G) 7\n",
      "47504.0    7\n",
      "Kotak Small Cap Fund(G) 7\n",
      "ICICI Pru Multi-Asset Fund(G) 7\n",
      "ICICI Pru Equity Savings Fund(G) 6\n",
      "HSBC Balanced Advantage Fund-Reg(IDCW) 6\n",
      "43405.0    6\n",
      "23206      6\n",
      "Aditya Birla SL ELSS Tax Saver Fund(IDCW) 6\n",
      "43663.0    6\n",
      "360 ONE Flexicap Fund-Reg(G) 6\n",
      "Franklin India Smaller Cos Fund(G) 6\n",
      "47342.0    6\n",
      "Bandhan Equity Savings Fund-Reg(M-IDCW) 6\n",
      "Mirae Asset Healthcare Fund-Reg(G) 6\n",
      "UTI Flexi Cap Fund-Reg(G) 6\n",
      "Axis Liquid Fund-Reg(G) 6\n",
      "Aditya Birla SL Multi-Cap Fund-Reg(G) 6\n",
      "HDFC Balanced Fund(G) 6\n",
      "Mirae Asset Midcap Fund-Reg(G) 6\n",
      "Bandhan Liquid Fund-Reg(W-IDCW) 6\n",
      "Franklin India Opportunities Fund(G) 6\n",
      "UTI CPO-VII-V(1281D)(G) 6\n",
      "21103      6\n",
      "UTI Master Value Fund(D) 6\n",
      "Nippon India Growth Fund(IDCW) 6\n",
      "Axis Focused Fund-Reg(IDCW) 6\n",
      "HDFC Infrastructure Fund(G) 6\n",
      "Aditya Birla SL Equity Advantage Fund(G) 6\n",
      "HDFC Large and Mid Cap Fund-Reg(G) 6\n",
      "Franklin India Equity Advantage Fund(IDCW) 6\n",
      "HDFC Hybrid Equity Fund(G) 6\n",
      "L&T Large and MidCap Fund - Growth 6\n",
      "UTI Dividend Yield Fund-Reg(G) 6\n",
      "Bandhan Bond Fund - Short Term Plan-Reg(G) 6\n",
      "Tata Large & Mid Cap Fund-Reg(G) 6\n",
      "43653      6\n",
      "Axis Focused Fund-Reg(G) 6\n",
      "Mirae Asset Large Cap Fund-Reg(IDCW) 6\n",
      "UTI Infrastructure Adv-I(G) 6\n",
      "ICICI Pru Banking & Fin Serv Fund(G) 6\n",
      "HDFC Equity Savings Fund(G) 6\n",
      "DSP Corp Bond Fund-Reg(G) 6\n",
      "Motilal Oswal Flexi Cap Fund-Reg(G) 6\n",
      "ICICI Pru Balanced Advantage Fund(M-IDCW) 6\n",
      "21113.0    6\n",
      "43403.0    6\n",
      "SBI Magnum Medium Duration Fund-Reg(G) 6\n",
      "SBI Magnum Midcap Fund-Reg(G) 6\n",
      "HDFC Flexi Cap Fund(IDCW) 6\n",
      "Franklin India Flexi Cap Fund(G) 6\n",
      "43403      6\n",
      "ICICI Pru Value Fund-12(D) 6\n",
      "Aditya Birla SL Pure Value Fund(G) 6\n",
      "HDFC Small Cap Fund-Reg(G) 6\n",
      "ICICI Pru Infrastructure Fund(G) 6\n",
      "Bandhan Low Duration Fund-Reg(G) 6\n",
      "HDFC Capital Builder Value Fund(G) 6\n",
      "Canara Rob Flexi Cap Fund-Reg(G) 6\n",
      "Aditya Birla SL Flexi Cap Fund(G) 6\n",
      "Kotak Equity Opp Fund(G) 6\n",
      "HDFC Business Cycle Fund-Reg(G) 6\n",
      "360 ONE Focused Equity Fund-Reg(G) 6\n",
      "Axis Growth Opp Fund-Reg(G) 6\n",
      "DSP Midcap Fund-Reg(G) 6\n",
      "43653.0    6\n",
      "23209.0    6\n",
      "HDFC Balanced Advantage Fund(G) 6\n",
      "21143.0    6\n",
      "ICICI Pru Value Discovery Fund(IDCW) 6\n",
      "UTI Retirement Fund 6\n",
      "UTI Large Cap Fund-Reg(IDCW) 6\n",
      "41206.0    6\n",
      "SBI Banking and PSU Fund-Reg(G) 6\n",
      "43508.0    6\n",
      "42108.0    6\n",
      "LIC MF ELSS Tax Saver-Reg(IDCW) 6\n",
      "21132.0    6\n",
      "HDFC Long Term Adv Fund(G) 6\n",
      "SBI Equity Savings Fund-Reg(G) 6\n",
      "ICICI Pru Short Term Fund(G) 6\n",
      "Bandhan Dynamic Bond Fund-Reg(G) 6\n",
      "Nippon India Hybrid Bond Fund-Segregated Portfolio 1-(G) 6\n",
      "Bandhan Core Equity Fund-Reg(G) 5\n",
      "SBI Focused Equity Fund-Reg(G) 5\n",
      "UTI Flexi Cap Fund-Reg(IDCW) 5\n",
      "DSP Small Cap Fund-Reg(G) 5\n",
      "Parag Parikh Flexi Cap Fund-Reg(G) 5\n",
      "SBI BlueChip Fund-Reg(G) 4\n",
      "UTI Large & Mid Cap Fund-Reg(G) 4\n",
      "ICICI Pru Dividend Yield Equity Fund(G) 3\n",
      "43404.0    3\n",
      "21132      3\n",
      "41228.0    3\n",
      "21104.0    3\n",
      "41228      3\n",
      "21105.0    3\n",
      "Motilal Oswal Nasdaq 100 FOF-Reg(G) 3\n",
      "Kotak Balanced Advantage Fund-Reg(G) 2\n",
      "SBI Small Cap Fund-Reg(G) 2\n",
      "UTI Nifty 50 Index Fund-Reg(G) 2\n",
      "Canara Rob Focused Equity Fund-Reg(G) 2\n",
      "Canara Rob Bluechip Equity Fund-Reg(G) 1\n",
      "ICICI Pru Corp Bond Fund(G) 1\n",
      "23224.0    1\n",
      "SBI ESG Exclusionary Strategy Fund-Reg(IDCW) 1\n",
      "SBI Long Term Equity Fund-Reg(G) 1\n",
      "HDFC Focused 30 Fund(G) 1\n",
      "ICICI Pru Equity-Arbitrage Fund(G) 1\n",
      "Tata BSE Sensex Index Fund-Reg(G) 1\n",
      "Total      935004\n"
     ]
    }
   ],
   "source": [
    "# Count the unique values in column 'v229'\n",
    "unique_values_counts_v229 = cdna_df_cleaned_3['v229'].value_counts()\n",
    "\n",
    "# Print unique values and their counts in the specified format\n",
    "for value, count in unique_values_counts_v229.items():\n",
    "    print(f\"{value:<10} {count}\")\n",
    "\n",
    "# Print the total\n",
    "print(f\"{'Total':<10} {unique_values_counts_v229.sum()}\")\n"
   ]
  },
  {
   "cell_type": "code",
   "execution_count": null,
   "id": "bec554da-6c47-423b-88c7-24fdea09b635",
   "metadata": {
    "id": "bec554da-6c47-423b-88c7-24fdea09b635",
    "outputId": "0064a234-0adc-42fb-c9d6-4494de38e449",
    "scrolled": true
   },
   "outputs": [
    {
     "name": "stdout",
     "output_type": "stream",
     "text": [
      "22101      218986\n",
      "43552      134461\n",
      "22102      113113\n",
      "43553      76028\n",
      "23201      51776\n",
      "43554      42292\n",
      "43551      39613\n",
      "21101      30736\n",
      "43512      29839\n",
      "43301      29530\n",
      "43501      23066\n",
      "22106      19453\n",
      "23217      12235\n",
      "43302      8259\n",
      "22107      7295\n",
      "23222      6229\n",
      "21138      4816\n",
      "22108      4666\n",
      "Nippon India Small Cap Fund(G) 4337\n",
      "22125      4320\n",
      "43203      4280\n",
      "44309      4082\n",
      "43513      3932\n",
      "23231      3814\n",
      "22116      3146\n",
      "22105      3098\n",
      "43304      3035\n",
      "43556      2770\n",
      "47371      2241\n",
      "43305      2199\n",
      "23205      2079\n",
      "ICICI Pru Value Discovery Fund(G) 1902\n",
      "22126      1823\n",
      "22124      1590\n",
      "43803      1464\n",
      "43112      1399\n",
      "43802      1326\n",
      "23203      1203\n",
      "ICICI Pru Balanced Advantage Fund(G) 1181\n",
      "HDFC Mid-Cap Opportunities Fund(G) 1032\n",
      "21122      974\n",
      "23218      906\n",
      "43664      771\n",
      "43751      763\n",
      "43402      706\n",
      "22103      691\n",
      "43202      687\n",
      "47501      644\n",
      "47201      606\n",
      "43654      586\n",
      "43208      525\n",
      "23224      522\n",
      "47341      466\n",
      "Axis Bluechip Fund-Reg(G) 453\n",
      "43651      450\n",
      "ICICI Pru Bluechip Fund(G) 419\n",
      "ICICI Pru Equity & Debt Fund(G) 407\n",
      "22123      388\n",
      "23206      376\n",
      "23223      365\n",
      "43303      360\n",
      "HDFC Flexi Cap Fund(G) 347\n",
      "47504      323\n",
      "Axis Midcap Fund-Reg(G) 292\n",
      "23209      287\n",
      "Mirae Asset ELSS Tax Saver Fund-Reg(G) 252\n",
      "Nippon India Large Cap Fund(G) 247\n",
      "43401      240\n",
      "44343      237\n",
      "ICICI Pru Large & Mid Cap Fund(G) 222\n",
      "Motilal Oswal Midcap Fund-Reg(G) 197\n",
      "22121      191\n",
      "41211      190\n",
      "41224      190\n",
      "Axis Small Cap Fund-Reg(G) 187\n",
      "HDFC Top 100 Fund(G) 180\n",
      "SBI Balanced Advantage Fund-Reg(G) 176\n",
      "41231      172\n",
      "43306      171\n",
      "21139      167\n",
      "47372      162\n",
      "Mirae Asset Large & Midcap Fund-Reg(G) 158\n",
      "Mirae Asset Large Cap Fund-Reg(G) 156\n",
      "21126      151\n",
      "Bandhan ELSS Tax Saver Fund-Reg(G) 150\n",
      "Nippon India Growth Fund(G) 150\n",
      "Parag Parikh Flexi Cap Fund-Reg(G) 140\n",
      "SBI PSU Fund-Reg(G) 140\n",
      "HDFC Hybrid Equity Fund(G) 133\n",
      "21103      131\n",
      "21134      131\n",
      "43555      127\n",
      "23229      127\n",
      "22122      118\n",
      "HDFC Defence Fund-Reg(G) 117\n",
      "SBI Long Term Equity Fund-Reg(G) 117\n",
      "HDFC Manufacturing Fund-Reg(G) 109\n",
      "41229      107\n",
      "UTI Large & Mid Cap Fund-Reg(G) 105\n",
      "43755      104\n",
      "23244      101\n",
      "360 ONE Focused Equity Fund-Reg(G) 101\n",
      "44344      100\n",
      "SBI Contra Fund-Reg(G) 98\n",
      "Bandhan Small Cap Fund-Reg(G) 95\n",
      "Kotak Emerging Equity Fund(G) 94\n",
      "Axis Focused Fund-Reg(G) 90\n",
      "Motilal Oswal Nifty India Defence Index Fund-Reg(G) 89\n",
      "HDFC Small Cap Fund-Reg(G) 89\n",
      "47445      87\n",
      "DSP ELSS Tax Saver Fund-Reg(G) 84\n",
      "Mirae Asset Aggressive Hybrid Fund-Reg(G) 80\n",
      "Kotak Flexicap Fund(G) 79\n",
      "Tata Small Cap Fund-Reg(G) 79\n",
      "ICICI Pru Energy Opportunities Fund-Reg(G) 78\n",
      "Aditya Birla SL PSU Equity Fund-Reg(G) 75\n",
      "SBI Banking & Financial Services Fund-Reg(G) 74\n",
      "Nippon India Multi Cap Fund(G) 72\n",
      "Nippon India Power & Infra Fund(G) 71\n",
      "DSP Equity Opportunities Fund-Reg(G) 68\n",
      "21129      67\n",
      "Franklin India Flexi Cap Fund(G) 66\n",
      "Tata Infrastructure Fund-Reg(G) 65\n",
      "21146      63\n",
      "PGIM India Midcap Opp Fund-Reg(G) 58\n",
      "Kotak Small Cap Fund(G) 57\n",
      "Edelweiss Small Cap Fund-Reg(G) 56\n",
      "47503      55\n",
      "HDFC Dividend Yield Fund-Reg(G) 53\n",
      "HDFC Balanced Advantage Fund(G) 50\n",
      "Nippon India Flexi Cap Fund-Reg(G) 50\n",
      "Bandhan Sterling Value Fund-Reg(G) 50\n",
      "Axis Treasury Advantage Fund-Reg(G) 49\n",
      "Tata Digital India Fund-Reg(G) 48\n",
      "Axis ELSS Tax Saver Fund-Reg(G) 48\n",
      "43753      48\n",
      "Mirae Asset Midcap Fund-Reg(G) 47\n",
      "Aditya Birla SL Corp Bond Fund(G) 46\n",
      "HDFC Multi Cap Fund-Reg(G) 45\n",
      "ICICI Pru Infrastructure Fund(G) 44\n",
      "Kotak ELSS Tax Saver Fund(G) 43\n",
      "Tata Large & Mid Cap Fund-Reg(G) 43\n",
      "Kotak Bluechip Fund(G) 41\n",
      "21137      40\n",
      "SBI Infrastructure Fund-Reg(G) 40\n",
      "SBI Equity Savings Fund-Reg(G) 38\n",
      "Motilal Oswal Small Cap Fund-Reg(G) 38\n",
      "Invesco India PSU Equity Fund(G) 37\n",
      "SBI Flexicap Fund-Reg(G) 37\n",
      "SBI Energy Opportunities Fund-Reg(G) 35\n",
      "ICICI Pru Technology Fund(G) 35\n",
      "21127      33\n",
      "Motilal Oswal BSE Enhanced Value Index Fund-Reg(G) 33\n",
      "43201      32\n",
      "HDFC ELSS Tax saver(G) 31\n",
      "HDFC Equity Savings Fund(G) 31\n",
      "Kotak Equity Opp Fund(G) 31\n",
      "41219      31\n",
      "ICICI Pru India Opp Fund(G) 31\n",
      "Axis Bluechip Fund-Reg(IDCW) 31\n",
      "Axis Growth Opp Fund-Reg(G) 30\n",
      "23232      30\n",
      "ICICI Pru Flexicap Fund(G) 29\n",
      "23245      28\n",
      "ICICI Pru Smallcap Fund(G) 28\n",
      "Canara Rob Small Cap Fund-Reg(G) 28\n",
      "Invesco India Infrastructure Fund(G) 28\n",
      "DSP Midcap Fund-Reg(G) 27\n",
      "Nippon India Nifty Smallcap 250 Index Fund-Reg(G) 26\n",
      "SBI BlueChip Fund-Reg(G) 26\n",
      "41226      26\n",
      "Kotak Equity Savings Fund(G) 25\n",
      "ICICI Pru Nifty LargeMidcap 250 Index Fund-Reg(G) 25\n",
      "Franklin India Multi Cap Fund-Reg(G) 25\n",
      "UTI Nifty 50 Index Fund-Reg(G) 24\n",
      "ICICI Pru Business Cycle Fund(G) 24\n",
      "Axis Focused Fund-Reg(IDCW) 24\n",
      "ICICI Pru Dividend Yield Equity Fund(G) 24\n",
      "Invesco India Smallcap Fund-Reg(G) 24\n",
      "Motilal Oswal Multi Cap Fund-Reg(G) 23\n",
      "HDFC Balanced Advantage Fund(IDCW) 23\n",
      "Edelweiss Balanced Advantage Fund-Reg(G) 23\n",
      "SBI Magnum Midcap Fund-Reg(G) 23\n",
      "Bandhan Infrastructure Fund-Reg(G) 22\n",
      "23235      22\n",
      "Franklin India Focused Equity Fund(G) 22\n",
      "UTI Nifty200 Momentum 30 Index Fund-Reg(G) 21\n",
      "Motilal Oswal Nifty 500 Momentum 50 Index Fund-Reg(G) 21\n",
      "JM Flexicap Fund-Reg(G) 21\n",
      "HDFC Infrastructure Fund(G) 21\n",
      "Canara Rob Infrastructure Fund-Reg(G) 21\n",
      "Nippon India Nifty Midcap 150 Index Fund-Reg(G) 21\n",
      "HDFC NIFTY Next 50 Index Fund-Reg(G) 21\n",
      "Franklin India Smaller Cos Fund(G) 20\n",
      "SBI Automotive Opportunities Fund-Reg(G) 20\n",
      "SBI Large & Midcap Fund-Reg(G) 20\n",
      "Bandhan ELSS Tax Saver Fund-Reg(IDCW) 20\n",
      "UTI Nifty 500 Value 50 Index Fund-Reg(G) 20\n",
      "Mirae Asset Focused Fund-Reg(G) 20\n",
      "ICICI Pru Bluechip Fund(IDCW) 20\n",
      "SBI Small Cap Fund-Reg(G) 20\n",
      "ICICI Pru Corp Bond Fund(G) 19\n",
      "360 ONE Flexicap Fund-Reg(G) 19\n",
      "Bandhan Banking & PSU Debt Fund-Reg(G) 19\n",
      "41228      19\n",
      "WOC Flexi Cap Fund-Reg(G) 19\n",
      "Aditya Birla SL Frontline Equity Fund(G) 19\n",
      "ICICI Pru Multi-Asset Fund(G) 19\n",
      "Tata ELSS Tax Saver Fund-Reg(G) 18\n",
      "Motilal Oswal Nasdaq 100 FOF-Reg(G) 18\n",
      "SBI Long Term Equity Fund-Reg(IDCW) 18\n",
      "HDFC Large and Mid Cap Fund-Reg(G) 18\n",
      "HSBC Midcap Fund-Reg(G) 18\n",
      "41216      18\n",
      "UTI Large Cap Fund-Reg(G) 18\n",
      "Mirae Asset Large & Midcap Fund-Reg(IDCW) 18\n",
      "Edelweiss Mid Cap Fund-Reg(G) 17\n",
      "HDFC Nifty500 Multicap 50:25:25 Index Fund-Reg(G) 17\n",
      "Tata Nifty Midcap 150 Momentum 50 Index Fund-Reg(G) 17\n",
      "HDFC NIFTY50 Equal Weight Index Fund-Reg(G) 17\n",
      "Mirae Asset Global X Artificial Intelligence & Technology ETF FoF-Reg(G) 17\n",
      "21132      17\n",
      "ICICI Pru Nifty Next 50 Index Fund(G) 17\n",
      "Edelweiss MSCI India Domestic & World Healthcare 45 Index Fund-Reg(G) 16\n",
      "SBI Automotive Opportunities Fund-Reg(IDCW) 16\n",
      "Motilal Oswal Nifty Smallcap 250 Index Fund-Reg(G) 16\n",
      "Aditya Birla SL Nifty India Defence Index Fund-Reg(G) 16\n",
      "Axis India Manufacturing Fund-Reg(G) 16\n",
      "DSP Small Cap Fund-Reg(G) 16\n",
      "Aditya Birla SL Quant Fund-Reg(G) 16\n",
      "Nippon India Gold Savings Fund(G) 16\n",
      "Aditya Birla SL Multi-Cap Fund-Reg(G) 15\n",
      "Tata Nifty India Tourism Index Fund-Reg(G) 15\n",
      "Navi Nifty Next 50 Index Fund-Reg(G) 15\n",
      "Canara Rob Bluechip Equity Fund-Reg(G) 15\n",
      "ICICI Pru Nifty 50 Index Fund(G) 15\n",
      "Bandhan Multi Asset Allocation Fund-Reg(G) 15\n",
      "SBI Multicap Fund-Reg(G) 15\n",
      "Tata Dividend Yield Fund-Reg(G) 15\n",
      "Aditya Birla SL Flexi Cap Fund(G) 15\n",
      "Motilal Oswal Business Cycle Fund-Reg(G) 14\n",
      "Invesco India Focused Fund-Reg(G) 14\n",
      "Motilal Oswal Manufacturing Fund-Reg(G) 14\n",
      "HSBC Value Fund-Reg(G) 13\n",
      "SBI Innovative Opportunities Fund-Reg(G) 13\n",
      "Sundaram Large and Mid Cap Fund(G) 13\n",
      "Nippon India Quant Fund(G) 13\n",
      "Axis Multicap Fund-Reg(G) 13\n",
      "Parag Parikh ELSS Tax Saver Fund-Reg(G) 13\n",
      "Bandhan Focused Equity Fund-Reg(G) 13\n",
      "Aditya Birla SL Focused Fund(G) 12\n",
      "HDFC Pharma and Healthcare Fund-Reg(G) 12\n",
      "Bandhan G-Sec-Invest-Reg(G) 12\n",
      "Bandhan US Equity FoF-Reg(G) 12\n",
      "DSP Regular Savings Fund-Reg(Q-IDCW) 12\n",
      "ICICI Pru Multicap Fund(G) 12\n",
      "Bandhan Ultra Short Term Fund-Reg(G) 12\n",
      "Nippon India Innovation Fund-Reg(G) 12\n",
      "Tata Gold ETF FoF-Reg(G) 12\n",
      "Invesco India Large & Mid Cap Fund(G) 12\n",
      "Kotak Gold Fund(G) 12\n",
      "43663      12\n",
      "Mirae Asset Flexi Cap Fund-Reg(G) 12\n",
      "Tata Banking & Financial Services Fund-Reg(G) 12\n",
      "Motilal Oswal ELSS Tax Saver Fund-Reg(G) 12\n",
      "43403      12\n",
      "ICICI Pru Passive Multi-Asset FoF(G) 12\n",
      "Canara Rob Small Cap Fund-Reg(IDCW) 12\n",
      "PGIM India Flexi Cap Fund-Reg(G) 12\n",
      "DSP ELSS Tax Saver Fund-Reg(IDCW) 12\n",
      "Aditya Birla SL India GenNext Fund(G) 12\n",
      "Axis Nifty Smallcap 50 Index Fund-Reg(G) 12\n",
      "Navi Nifty Bank Index Fund-Reg(G) 12\n",
      "Mirae Asset Multicap Fund-Reg(G) 12\n",
      "Sundaram Aggressive Hybrid Fund(G) 12\n",
      "PGIM India Global Equity Opp Fund(G) 12\n",
      "SBI Small Cap Fund-Reg(IDCW) 12\n",
      "HDFC Long Duration Debt Fund-Reg(G) 12\n",
      "Mirae Asset ELSS Tax Saver Fund-Reg(IDCW) 12\n",
      "ICICI Pru Innovation Fund-Reg(G) 11\n",
      "ICICI Pru Equity Savings Fund(G) 11\n",
      "Bandhan Low Duration Fund-Reg(G) 11\n",
      "UTI Flexi Cap Fund-Reg(G) 11\n",
      "43557      11\n",
      "Bandhan Transportation and Logistics Fund-Reg(G) 11\n",
      "Axis Consumption Fund-Reg(G) 11\n",
      "Nippon India Liquid Fund(G) 11\n",
      "HDFC Ultra Short Term Fund-Reg(G) 11\n",
      "Bajaj Finserv Large Cap Fund-Reg(G) 10\n",
      "Motilal Oswal Large & Midcap Fund-Reg(G) 10\n",
      "ICICI Pru Bharat 22 FOF-(G) 10\n",
      "Motilal Oswal S&P 500 Index Fund-Reg(G) 10\n",
      "Aditya Birla SL Savings Fund-Reg(G) 10\n",
      "DSP Multicap Fund-Reg(G) 10\n",
      "Sundaram Business Cycle Fund-Reg(G) 10\n",
      "Aditya Birla SL Nifty Midcap 150 Index Fund-Reg(G) 10\n",
      "SBI Nifty Next 50 Index Fund-Reg(G) 10\n",
      "ICICI Pru Savings Fund(G) 10\n",
      "HSBC India Export Opportunities Fund-Reg(G) 10\n",
      "UTI Mid Cap Fund-Reg(G) 10\n",
      "Axis Small Cap Fund-Reg(IDCW) 10\n",
      "21121      10\n",
      "Franklin Build India Fund(G) 9\n",
      "Mirae Asset NYSE FANG+ETF FoF-Reg(G) 9\n",
      "Axis Liquid Fund-Reg(G) 9\n",
      "DSP Healthcare Fund-Reg(G) 9\n",
      "Aditya Birla SL Nifty Smallcap 50 Index Fund-Reg(G) 9\n",
      "Invesco India Technology Fund-Reg(G) 9\n",
      "41201      9\n",
      "ICICI Pru ELSS Tax Saver Fund(G) 9\n",
      "41212      9\n",
      "SBI Nifty Smallcap 250 Index Fund-Reg(G) 9\n",
      "DSP India T.I.G.E.R Fund-Reg(G) 9\n",
      "HSBC Small Cap Fund-Reg(G) 9\n",
      "Mirae Asset Multi Asset Allocation Fund-Reg(G) 9\n",
      "Nippon India ELSS Tax Saver Fund(G) 9\n",
      "UTI Nifty Next 50 Index Fund-Reg(G) 9\n",
      "47446      9\n",
      "Nippon India Nifty 500 Equal Weight Index Fund-Reg(G) 9\n",
      "ICICI Pru Liquid Fund(G) 8\n",
      "SBI Arbitrage Opportunities Fund-Reg(G) 8\n",
      "41215      8\n",
      "Kotak Equity Hybrid Fund(G) 8\n",
      "Aditya Birla SL ELSS Tax Saver Fund(G) 8\n",
      "21143      8\n",
      "Bandhan Nifty 50 Index Fund-Reg(G) 8\n",
      "Tata Large Cap Fund-Reg(G) 8\n",
      "Franklin India Bluechip Fund(G) 8\n",
      "Tata Nifty Realty Index Fund-Reg(G) 8\n",
      "Bandhan Midcap Fund-Reg(G) 8\n",
      "ICICI Pru Banking & PSU Debt Fund(G) 7\n",
      "SBI Nifty Midcap 150 Index Fund-Reg(G) 7\n",
      "Nippon India Small Cap Fund(IDCW) 7\n",
      "Motilal Oswal Nifty Midcap 150 Index Fund-Reg(G) 7\n",
      "HDFC Floating Rate Debt Fund(G) 7\n",
      "Mirae Asset Healthcare Fund-Reg(G) 7\n",
      "Franklin India Opportunities Fund(G) 7\n",
      "Old Bridge Focused Equity Fund-Reg(G) 7\n",
      "43405      7\n",
      "Edelweiss Gr China Equity Off-Shore Fund-Reg(G) 7\n",
      "Navi Nifty 500 Multicap 50:25:25 Index Fund-Reg(G) 7\n",
      "Kotak Nifty Smallcap 50 Index Fund-Reg(G) 7\n",
      "SBI Magnum Gilt Fund-Reg(G) 7\n",
      "HDFC Technology Fund-Reg(G) 7\n",
      "Motilal Oswal Large Cap Fund-Reg(G) 7\n",
      "Groww Nifty Smallcap 250 Index Fund-Reg(G) 7\n",
      "23219      7\n",
      "Nippon India Power & Infra Fund(IDCW) 7\n",
      "99999      7\n",
      "SBI Retirement Benefit Fund-Aggressive Plan-Reg(G) 7\n",
      "SBI Equity Hybrid Fund-Reg(G) 7\n",
      "Nippon India Pharma Fund(G) 7\n",
      "Groww Nifty EV & New Age Automotive ETF FOF-Reg(G) 7\n",
      "SBI Technology Opp Fund-Reg(G) 7\n",
      "HDFC Non-Cyclical Consumer Fund-Reg(G) 6\n",
      "ICICI Pru Nifty50 Value 20 Index Fund-Reg(G) 6\n",
      "Kotak Banking & Financial Services Fund-Reg(G) 6\n",
      "SBI Credit Risk Fund-Reg(G) 6\n",
      "Sundaram Nifty 100 Equal Weight Fund(G) 6\n",
      "Axis Nifty Bank Index Fund-Reg(G) 6\n",
      "Bandhan Nifty 50 Index Fund-Reg(IDCW) 6\n",
      "Canara Rob Flexi Cap Fund-Reg(G) 6\n",
      "SBI Flexicap Fund-Reg(IDCW) 6\n",
      "HDFC Retirement Savings Fund-Equity Plan-Reg(G) 6\n",
      "Canara Rob Equity Hybrid Fund-Reg(G) 6\n",
      "HDFC Arbitrage-WP(M-IDCW) 6\n",
      "41227      6\n",
      "Invesco India Contra Fund(G) 6\n",
      "Tata Corp Bond Fund-Reg(G) 6\n",
      "Motilal Oswal Balanced Advantage Fund-Reg(G) 6\n",
      "23227      6\n",
      "Navi Flexi Cap Fund-Reg(G) 6\n",
      "Tata Resources & Energy Fund-Reg(G) 6\n",
      "Nippon India US Equity Opp Fund(G) 6\n",
      "Aditya Birla SL Balanced Advantage Fund(IDCW) 6\n",
      "Tata NIFTY 50 Index Fund-Reg(G) 6\n",
      "DSP Equity & Bond Fund-Reg(G) 6\n",
      "DSP Flexi Cap Fund-Reg(G) 6\n",
      "Bandhan G-Sec-Constant Maturity Plan-Reg(G) 6\n",
      "Tata Business Cycle Fund-Reg(G) 6\n",
      "Kotak Emerging Equity Fund(IDCW) 6\n",
      "DSP NIFTY Next 50 Index Fund-Reg(G) 6\n",
      "Sundaram Fin Serv Opp Fund(G) 6\n",
      "Axis Multi Asset Allocation Fund-Reg(M-IDCW) 6\n",
      "ICICI Pru MNC Fund(G) 6\n",
      "SBI Multi Asset Allocation Fund-Reg(G) 6\n",
      "Canara Rob Balanced Advantage Fund-Reg(G) 6\n",
      "21113      6\n",
      "Nippon India Index Fund-Nifty 50 Plan(G) 6\n",
      "ICICI Pru Pharma Healthcare & Diagnostics (P.H.D) Fund-(G) 6\n",
      "SBI Healthcare Opp Fund-Reg(IDCW) 6\n",
      "Aditya Birla SL Transportation and Logistics Fund-Reg(G) 6\n",
      "HDFC BSE 500 Index Fund-Reg(G) 6\n",
      "ICICI Pru Dividend Yield Equity Fund(IDCW) 6\n",
      "Tata Large & Mid Cap Fund-Reg(IDCW) 6\n",
      "Bajaj Finserv Flexi Cap Fund-Reg(G) 6\n",
      "Tata Nifty200 Alpha 30 Index Fund-Reg(G) 6\n",
      "ICICI Pru Regular Gold Savings Fund(FOF)(G) 6\n",
      "Bajaj Finserv Large and Mid Cap Fund-Reg(G) 6\n",
      "Aditya Birla SL CRISIL IBX Gilt April 2033 Index Fund-Reg(G) 6\n",
      "Sundaram Business Cycle Fund-Reg(IDCW) 6\n",
      "Kotak Focused Equity Fund-Reg(G) 6\n",
      "Aditya Birla SL Digital India Fund(G) 6\n",
      "Bandhan Dynamic Bond Fund-Reg(G) 6\n",
      "Bajaj Finserv Banking and PSU Fund-Reg(G) 6\n",
      "SBI Nifty Index Fund-Reg(G) 6\n",
      "UTI Short Duration Fund-Reg(G) 6\n",
      "Edelweiss Nifty PSU Bond Plus SDL Apr 2026 50:50 Index Fund-Reg(G) 6\n",
      "Sundaram Low Duration Fund(G) 6\n",
      "Nippon India Asset Allocator FoF-Reg(G) 6\n",
      "ICICI Pru Nifty Pharma Index Fund-Reg(IDCW) 6\n",
      "Bandhan Core Equity Fund-Reg(IDCW) 6\n",
      "Invesco India Focused Fund-Reg(IDCW) 6\n",
      "Axis Nifty Midcap 50 Index Fund-Reg(G) 6\n",
      "Tata Digital India Fund-Reg(IDCW) 6\n",
      "Kotak Nifty G-Sec July 2033 Index Fund-Reg(G) 6\n",
      "Canara Rob Emerg Equities Fund-Reg(G) 6\n",
      "ICICI Pru Equity-Arbitrage Fund(IDCW) 6\n",
      "Kotak Bond Short Term Fund(G) 6\n",
      "Sundaram Multi Asset Allocation Fund-Reg(G) 6\n",
      "Kotak Savings Fund(G) 6\n",
      "WOC Mid Cap Fund-Reg(G) 6\n",
      "Motilal Oswal Focused Fund-Reg(G) 6\n",
      "Bandhan Hybrid Equity Fund-Reg(G) 6\n",
      "Axis Nifty Next 50 Index Fund-Reg(G) 6\n",
      "Samco Active Momentum Fund-Reg(G) 6\n",
      "Canara Rob Manufacturing Fund-Reg(G) 6\n",
      "Kotak Equity Savings Fund(M-IDCW) 6\n",
      "Aditya Birla SL Equity Advantage Fund(G) 6\n",
      "Mirae Asset Balanced Advantage Fund-Reg(G) 6\n",
      "Kotak Business Cycle Fund-Reg(G) 6\n",
      "SBI Technology Opp Fund-Reg(IDCW) 6\n",
      "ICICI Pru Midcap Fund(G) 6\n",
      "SBI Gold-Reg(IDCW) 6\n",
      "Tata Balanced Adv Fund-Reg(G) 6\n",
      "Kotak Manufacture in India Fund-Reg(G) 6\n",
      "PGIM India Large and Mid Cap Fund(G) 6\n",
      "HDFC Hybrid Debt Fund(G) 6\n",
      "DSP Equity Opportunities Fund-Reg(IDCW) 6\n",
      "SBI CRISIL IBX Gilt Index - June 2036 Fund-Reg(G) 6\n",
      "Mirae Asset Midcap Fund-Reg(IDCW) 6\n",
      "Canara Rob Mid Cap Fund-Reg(G) 6\n",
      "Canara Rob Multi Cap Fund-Reg(IDCW) 6\n",
      "SBI Magnum Low Duration Fund-Reg(M-IDCW) 6\n",
      "DSP Banking & Financial Services Fund-Reg(G) 6\n",
      "Kotak Equity Arbitrage Fund(M-IDCW) 6\n",
      "DSP Short Term Fund-Reg(G) 6\n",
      "Bandhan Flexi Cap Fund-Reg(G) 6\n",
      "Navi Nifty 50 Index Fund-Reg(G) 6\n",
      "HDFC Mid-Cap Opportunities Fund(IDCW) 6\n",
      "Bandhan Core Equity Fund-Reg(G) 6\n",
      "Aditya Birla SL Multi Asset Allocation Fund-Reg(G) 6\n",
      "HDFC Money Market Fund-Reg(G) 6\n",
      "Franklin India Pension Plan(G) 6\n",
      "UTI Dynamic Bond Fund-Reg(G) 6\n",
      "Tata Small Cap Fund-Reg(IDCW) 6\n",
      "Edelweiss Flexi Cap Fund-Reg(G) 6\n",
      "Kotak Small Cap Fund(IDCW) 6\n",
      "SBI Gold-Reg(G) 6\n",
      "Canara Rob ELSS Tax Saver-Reg(IDCW) 6\n",
      "Tata Multicap Fund-Reg(G) 6\n",
      "Mirae Asset Great Consumer Fund-Reg(G) 6\n",
      "Bandhan Small Cap Fund-Reg(IDCW) 6\n",
      "Kotak NIFTY Midcap 150 Momentum 50 Index Fund-Reg(G) 6\n",
      "ICICI Pru BSE Sensex Index Fund(G) 6\n",
      "ICICI Pru Overnight Fund(G) 6\n",
      "Kotak Multi Asset Allocation Fund-Reg(G) 6\n",
      "SBI Focused Equity Fund-Reg(G) 6\n",
      "ICICI Pru Retirement Fund-Hybrid Aggressive Plan(G) 5\n",
      "Aditya Birla SL Silver ETF FOF-Reg(IDCW) 5\n",
      "HDFC NIFTY200 Momentum 30 Index Fund-Reg(G) 5\n",
      "Kotak Debt Hybrid Fund(G) 5\n",
      "JM Small Cap Fund-Reg(G) 5\n",
      "ICICI Pru Global Stable Equity Fund(FOF)(G) 5\n",
      "Nippon India Nifty 500 Momentum 50 Index Fund-Reg(G) 5\n",
      "Motilal Oswal S&P BSE Enhanced Value Index Fund-Reg(G) 5\n",
      "43404      5\n",
      "Kotak Pioneer Fund-Reg(G) 5\n",
      "HSBC Multi Cap Fund-Reg(G) 5\n",
      "Franklin India Medium to Long Duration Fund-Reg(G) 5\n",
      "Sundaram Small Cap Fund(G) 5\n",
      "SBI Magnum Medium Duration Fund-Reg(G) 5\n",
      "Axis Banking & PSU Debt Fund-Reg(G) 5\n",
      "SBI Banking & Financial Services Fund-Reg(IDCW) 5\n",
      "ICICI Pru Manufacturing Fund(G) 5\n",
      "HDFC NIFTY100 Low Volatility 30 Index Fund-Reg(G) 5\n",
      "HDFC NIFTY Smallcap 250 Index Fund-Reg(G) 5\n",
      "ICICI Pru Large & Mid Cap Fund(IDCW) 5\n",
      "Axis Innovation Fund-Reg(G) 5\n",
      "Kotak NIFTY Midcap 50 Index Fund-Reg(G) 4\n",
      "Motilal Oswal Nifty 50 Index Fund-Reg(G) 4\n",
      "Aditya Birla SL Medium Term Plan-Reg(G) 4\n",
      "43653      4\n",
      "SBI Dividend Yield Fund-Reg(G) 4\n",
      "Mirae Asset Arbitrage Fund-Reg(G) 4\n",
      "Edelweiss Nifty Smallcap 250 Index Fund-Reg(G) 4\n",
      "Motilal Oswal Nifty Microcap 250 Index Fund-Reg(G) 4\n",
      "HDFC Index Fund-BSE Sensex(G)(Post Addendum) 4\n",
      "Axis Nifty500 Value 50 Index Fund-Reg(G) 4\n",
      "Bandhan Nifty Midcap 150 Index Fund-Reg(G) 4\n",
      "Bandhan Business Cycle Fund-Reg(G) 4\n",
      "ICICI Pru Housing Opp Fund-Reg(G) 4\n",
      "Mirae Asset Nifty200 Alpha 30 ETF FoF-Reg(G) 4\n",
      "Aditya Birla SL Nifty Next 50 Index Fund-Reg(G) 4\n",
      "Kotak Special Opportunities Fund-Reg(G) 4\n",
      "Axis Quant Fund-Reg(IDCW) 4\n",
      "Aditya Birla SL ELSS Tax Saver Fund(IDCW) 4\n",
      "HDFC Short Term Debt Fund(G) 4\n",
      "ICICI Pru Money Market Fund(G) 4\n",
      "Tata Equity P/E Fund(G) 4\n",
      "DSP FMP 267-1246D-Reg(G) 4\n",
      "Axis Equity Saver Fund-Reg(G) 4\n",
      "Axis Short Term Fund-Reg(G) 4\n",
      "Bandhan Financial Services Fund-Reg(G) 4\n",
      "Bandhan Balanced Advantage Fund-Reg(G) 4\n",
      "Kotak Multicap Fund-Reg(G) 4\n",
      "UTI Nifty Midcap 150 Quality 50 Index Fund-Reg(G) 4\n",
      "70226      4\n",
      "Axis Nifty 500 Index Fund-Reg(G) 4\n",
      "Canara Rob ELSS Tax Saver-Reg(G) 3\n",
      "SBI Magnum Ultra Short Duration Fund-Reg(G) 3\n",
      "Edelweiss Business Cycle Fund-Reg(G) 3\n",
      "HDFC NIFTY Midcap 150 Index Fund-Reg(G) 3\n",
      "ICICI Pru Regular Savings Fund(G) 3\n",
      "Axis Flexi Cap Fund-Reg(G) 3\n",
      "Mahindra Manulife Small Cap Fund-Reg(G) 3\n",
      "Bandhan Bond Fund - Medium Term Plan-Reg(G) 3\n",
      "Motilal Oswal Multi Asset Fund-Reg(G) 3\n",
      "SBI FMP-72-1239D-Reg(G) 3\n",
      "Bandhan Nifty Total Market Index Fund-Reg(G) 3\n",
      "Nippon India Nifty 500 Momentum 50 Index Fund-Reg(IDCW) 3\n",
      "Mirae Asset Liquid Fund-Reg(G) 3\n",
      "42202      3\n",
      "Mirae Asset Ultra Short Duration Fund-Reg(G) 3\n",
      "Bajaj Finserv Balanced Advantage Fund-Reg(G) 3\n",
      "Aditya Birla SL Infrastructure Fund(G) 3\n",
      "LIC MF Infra Fund-Reg(G) 3\n",
      "23226      3\n",
      "Mirae Asset Nifty200 Alpha 30 ETF FoF-Reg(IDCW) 3\n",
      "HDFC Nifty LargeMidcap 250 Index Fund-Reg(G) 3\n",
      "SBI Contra Fund-Reg(IDCW) 3\n",
      "Quantum ESG Best In Class Strategy Fund-Reg(G) 3\n",
      "Nippon India Short Term Fund(IDCW) 3\n",
      "DSP Nifty Midcap 150 Quality 50 Index Fund-Reg(G) 3\n",
      "DSP Value Fund-Reg(G) 3\n",
      "Axis Nifty 50 Index Fund-Reg(G) 3\n",
      "Nippon India Value Fund(G) 2\n",
      "Kotak Nifty India Tourism Index Fund-Reg(IDCW) 2\n",
      "Axis Money Market Fund-Reg(G) 2\n",
      "Nippon India Nifty 500 Equal Weight Index Fund-Reg(IDCW) 2\n",
      "Mirae Asset Healthcare Fund-Reg(IDCW) 2\n",
      "HDFC Flexi Cap Fund(IDCW) 2\n",
      "DSP Nifty Smallcap250 Quality 50 Index Fund-Reg(G) 2\n",
      "ICICI Pru PSU Equity Fund-Reg(G) 2\n",
      "Axis Short Duration Fund-Reg(G) 2\n",
      "Baroda BNP Paribas Nifty200 Momentum 30 Index Fund-Reg(G) 2\n",
      "Franklin India Technology Fund(G) 2\n",
      "Axis Equity Savings Fund-Reg(G) 2\n",
      "Franklin India Prima Fund(G) 2\n",
      "ICICI Pru Infrastructure Fund(IDCW) 2\n",
      "Motilal Oswal Flexi Cap Fund-Reg(G) 2\n",
      "Kotak Nifty India Tourism Index Fund-Reg(G) 2\n",
      "ICICI Pru Nifty200 Value 30 Index Fund-Reg(G) 2\n",
      "SBI Nifty50 Equal Weight Index Fund-Reg(G) 2\n",
      "Aditya Birla SL Midcap Fund(G) 2\n",
      "HSBC Nifty Next 50 Index Fund-Reg(G) 2\n",
      "HSBC Large & Mid Cap Fund-Reg(G) 2\n",
      "Axis CRISIL IBX 50:50 Gilt Plus SDL June 2028 Index Fund-Reg(IDCW) 2\n",
      "HDFC Manufacturing Fund-Reg(IDCW) 2\n",
      "Tata Money Market Fund-Reg(G) 2\n",
      "Sundaram Multi Asset Allocation Fund-Reg(IDCW) 2\n",
      "DSP Nifty Top 10 Equal Weight Index Fund-Reg(G) 2\n",
      "ICICI Pru Value Discovery Fund(IDCW) 2\n",
      "HDFC Index Fund-NIFTY 50 Plan(G)(Post Addendum) 2\n",
      "ITI Mid Cap Fund-Reg(G) 2\n",
      "Tata Nifty Capital Markets Index Fund-Reg(G) 2\n",
      "Mahindra Manulife Mid Cap Fund-Reg(G) 2\n",
      "Nippon India Large Cap Fund(IDCW) 2\n",
      "HSBC Infrastructure Fund-Reg(G) 2\n",
      "Nippon India Nifty Next 50 Junior BeES FoF-Reg(G) 2\n",
      "Bandhan Innovation Fund-Reg(G) 2\n",
      "UTI Transportation & Logistics Fund-Reg(G) 2\n",
      "Nippon India Nifty 50 Value 20 Index Fund-Reg(G) 2\n",
      "Invesco India Midcap Fund(G) 2\n",
      "Mirae Asset Nifty MidSmallcap400 Momentum Quality 100 ETF FoF-Reg(G) 2\n",
      "Nippon India Banking & Financial Services Fund(G) 2\n",
      "UTI Small Cap Fund-Reg(G) 2\n",
      "Nippon India Multi Asset Allocation Fund-Reg(G) 2\n",
      "UTI MNC Fund-Reg(G) 2\n",
      "Tata Nifty India Tourism Index Fund-Reg(IDCW) 2\n",
      "Kotak India EQ Contra Fund(G) 2\n",
      "ICICI Pru Banking & Fin Serv Fund(G) 2\n",
      "HDFC Focused 30 Fund(G) 2\n",
      "ICICI Pru India Opp Fund(IDCW) 2\n",
      "DSP Natural Res & New Energy Fund-Reg(G) 2\n",
      "HSBC Multi Asset Allocation Fund-Reg(G) 2\n",
      "Samco Special Opportunities Fund-Reg(G) 2\n",
      "HDFC Top 100 Fund(IDCW) 1\n",
      "DSP Nifty Bank Index Fund-Reg(G) 1\n",
      "Bajaj Finserv Large Cap Fund-Reg(IDCW) 1\n",
      "Franklin India Smaller Cos Fund(IDCW) 1\n",
      "UTI Multi Asset Allocation Fund-Reg(G) 1\n",
      "DSP Nifty 50 Equal Weight Index Fund-Reg(G) 1\n",
      "SBI Conservative Hybrid Fund-Reg(G) 1\n",
      "Tata Mid Cap Growth Fund-Reg(G) 1\n",
      "ICICI Pru Nifty200 Value 30 Index Fund-Reg(IDCW) 1\n",
      "Bajaj Finserv Multi Asset Allocation Fund-Reg(G) 1\n",
      "Nippon India Nifty IT Index Fund-Reg(G) 1\n",
      "Nippon India CRISIL-IBX AAA Financial Services - Dec 2026 Index Fund-Reg(G) 1\n",
      "Nippon India Focused Equity Fund(G) 1\n",
      "SBI PSU Fund-Reg(IDCW) 1\n",
      "HDFC NIFTY Realty Index Fund-Reg(G) 1\n",
      "Helios Financial Services Fund-Reg(G) 1\n",
      "Nippon India Ultra Short Duration Fund(G) 1\n",
      "Kotak Infra & Eco Reform Fund(G) 1\n",
      "HDFC MNC Fund-Reg(G) 1\n",
      "ICICI Pru Nifty Auto Index Fund-Reg(G) 1\n",
      "Tata Ethical Fund-Reg(G) 1\n",
      "Edelweiss Banking and PSU Debt Fund-Reg(G) 1\n",
      "Aditya Birla SL Money Manager Fund(G) 1\n",
      "ICICI Pru Nifty 200 Momentum 30 Index Fund-Reg(G) 1\n",
      "Groww Nifty India Defence ETF FOF-Reg(G) 1\n",
      "Motilal Oswal Midcap Fund-Reg(IDCW) 1\n",
      "Axis Gold Fund-Reg(G) 1\n",
      "Mirae Asset Aggressive Hybrid Fund-Reg(IDCW) 1\n",
      "ICICI Pru BSE Sensex Index Fund(IDCW) 1\n",
      "43205      1\n",
      "Kotak NIFTY Midcap 50 Index Fund-Reg(IDCW) 1\n",
      "Axis All Seasons Debt FOFs-Reg(G) 1\n",
      "Kotak Equity Hybrid Fund(IDCW) 1\n",
      "Invesco India Gold ETF FoF(G) 1\n",
      "SBI Silver ETF FOF-Reg(G) 1\n",
      "SBI Nifty 500 Index Fund-Reg(G) 1\n",
      "Mirae Asset Nifty Smallcap 250 Momentum Quality 100 ETF FoF-Reg(G) 1\n",
      "TATA FMP-61-A-91D(IDCW) 1\n",
      "Bajaj Finserv Multi Asset Allocation Fund-Reg(IDCW) 1\n",
      "ICICI Pru FMCG Fund(G) 1\n",
      "Franklin India NSE Nifty 50 Index Fund(G) 1\n",
      "42212      1\n",
      "Nippon India Banking & PSU Debt Fund(IDCW) 1\n",
      "LIC MF Multi Cap Fund-Reg(G) 1\n",
      "ICICI Pru Equity & Debt Fund(A-IDCW) 1\n",
      "HDFC Large and Mid Cap Fund-Reg(IDCW) 1\n",
      "Bandhan Nifty Bank Index Fund Regular Plan-Growth 1\n",
      "70225      1\n",
      "Axis Special Situations Fund-Reg(G) 1\n",
      "HDFC NIFTY 100 Equal Weight Index Fund-Reg(G) 1\n",
      "Baroda BNP Paribas Small Cap Fund-Reg(G) 1\n",
      "Kotak Nifty 200 Momentum 30 Index Fund-Reg(G) 1\n",
      "Nippon India Arbitrage Fund(G) 1\n",
      "Sundaram Flexi Cap Fund-Reg(G) 1\n",
      "Aditya Birla SL Dividend Yield Fund(G) 1\n",
      "HDFC NIFTY G-Sec Jun 2036 Index Fund-Reg(G) 1\n",
      "JM Aggressive Hybrid Fund(G) 1\n",
      "Navi ELSS Tax Saver Nifty 50 Index Fund-Reg(G) 1\n",
      "SBI Healthcare Opp Fund-Reg(G) 1\n",
      "Aditya Birla SL Short Term Fund(G) 1\n",
      "Kotak Nifty Next 50 Index Fund-Reg(G) 1\n",
      "360 ONE Quant Fund-Reg(G) 1\n",
      "Motilal Oswal Flexi Cap Fund-Reg(IDCW) 1\n",
      "Bandhan Business Cycle Fund-Reg(IDCW) 1\n",
      "Nippon India Silver ETF FOF-Reg(G) 1\n",
      "Motilal Oswal Nifty Bank Index Fund-Reg(G) 1\n",
      "Total      935004\n"
     ]
    }
   ],
   "source": [
    "# Count the unique values in column 'v230'\n",
    "unique_values_counts_v230 = cdna_df_cleaned_3['v230'].value_counts()\n",
    "\n",
    "# Print unique values and their counts in the specified format\n",
    "for value, count in unique_values_counts_v230.items():\n",
    "    print(f\"{value:<10} {count}\")\n",
    "\n",
    "# Print the total\n",
    "print(f\"{'Total':<10} {unique_values_counts_v230.sum()}\")\n"
   ]
  },
  {
   "cell_type": "code",
   "execution_count": null,
   "id": "d3ee34fe-c884-4bb9-89f1-c308326a3e3e",
   "metadata": {
    "id": "d3ee34fe-c884-4bb9-89f1-c308326a3e3e",
    "outputId": "c249704b-e3bb-47e9-849b-ccd18774d7aa"
   },
   "outputs": [
    {
     "name": "stdout",
     "output_type": "stream",
     "text": [
      "(1285402, 164)\n"
     ]
    }
   ],
   "source": [
    "# Drop columns v229 and v230 from the dataset\n",
    "cleaned_cdna_df = cdna_df_cleaned_3.drop(columns=['v229', 'v230'])\n",
    "\n",
    "# Optionally, print the updated dataset or its shape to confirm the columns are dropped\n",
    "print(cleaned_cdna_df.shape)  # Print the number of rows and columns after dropping\n"
   ]
  },
  {
   "cell_type": "code",
   "execution_count": null,
   "id": "87a5510a-4fac-407c-9b14-f38da7455b8b",
   "metadata": {
    "id": "87a5510a-4fac-407c-9b14-f38da7455b8b",
    "outputId": "acdbc40c-6489-41e4-8f58-77effdf9dde3"
   },
   "outputs": [
    {
     "name": "stdout",
     "output_type": "stream",
     "text": [
      "Dataset saved as cleaned_cdna_df.csv\n"
     ]
    }
   ],
   "source": [
    "# Save the cleaned dataset to a CSV file\n",
    "cleaned_cdna_df.to_csv('cleaned_cdna_df.csv', index=False)  # index=False ensures that the row index is not written\n",
    "\n",
    "print(\"Dataset saved as cleaned_cdna_df.csv\")\n"
   ]
  },
  {
   "cell_type": "markdown",
   "id": "81811d5c-ed12-4084-a283-50e6abc3f6f0",
   "metadata": {
    "id": "81811d5c-ed12-4084-a283-50e6abc3f6f0"
   },
   "source": [
    "#### Numerical columns with missing values"
   ]
  },
  {
   "cell_type": "markdown",
   "id": "XkOwwHulC-0p",
   "metadata": {
    "id": "XkOwwHulC-0p"
   },
   "source": [
    " For numerical columns with missing values, the most suitable strategy was to replace the missing values with the **median** of each column."
   ]
  },
  {
   "cell_type": "code",
   "execution_count": null,
   "id": "baf73a0c-3dd2-42c6-af6d-59a74301310c",
   "metadata": {
    "id": "baf73a0c-3dd2-42c6-af6d-59a74301310c"
   },
   "outputs": [],
   "source": [
    "cleaned_cdna_df=pd.read_csv(\"cleaned_cdna_df.csv\")"
   ]
  },
  {
   "cell_type": "code",
   "execution_count": null,
   "id": "4920e9b8-9748-4878-8812-fc6a16504e3a",
   "metadata": {
    "id": "4920e9b8-9748-4878-8812-fc6a16504e3a",
    "outputId": "1002a734-3f9e-4175-b7ed-21bd1501dcbf"
   },
   "outputs": [
    {
     "name": "stdout",
     "output_type": "stream",
     "text": [
      "['v24', 'v32', 'v44', 'v65', 'v77', 'v79', 'v80', 'v84', 'v128', 'v129', 'v130', 'v203', 'v204', 'v205', 'v206', 'v207', 'v208', 'v209', 'v224', 'v225', 'v226', 'v227', 'v228', 'v238', 'v239', 'v240', 'v241', 'v243', 'v244', 'v252', 'v253', 'v254', 'v255', 'v257', 'v258', 'v259', 'v260', 'v261', 'v262', 'v263', 'v264', 'v265', 'v266', 'v267', 'v268', 'v269', 'v270', 'age_mean']\n"
     ]
    }
   ],
   "source": [
    "import pandas as pd\n",
    "\n",
    "# Load your dataset (uncomment and replace with the correct path)\n",
    "# cleaned_cdna_df = pd.read_csv('path_to_your_dataset.csv')\n",
    "\n",
    "# Identify numerical columns\n",
    "numerical_columns = cleaned_cdna_df.select_dtypes(include=['number']).columns\n",
    "\n",
    "# Check for columns with NaN values\n",
    "numerical_columns_with_nan = [col for col in numerical_columns if cleaned_cdna_df[col].isna().any()]\n",
    "\n",
    "# Print the column names that have numerical data and missing values\n",
    "print(numerical_columns_with_nan)\n"
   ]
  },
  {
   "cell_type": "code",
   "execution_count": null,
   "id": "f1c20b09-132e-4258-957f-76ddc1db03a2",
   "metadata": {
    "id": "f1c20b09-132e-4258-957f-76ddc1db03a2",
    "outputId": "c6d73e45-da6f-479b-c737-ed3d92ce0bc0"
   },
   "outputs": [
    {
     "data": {
      "text/plain": [
       "48"
      ]
     },
     "execution_count": 115,
     "metadata": {},
     "output_type": "execute_result"
    }
   ],
   "source": [
    "len(numerical_columns_with_nan)"
   ]
  },
  {
   "cell_type": "code",
   "execution_count": null,
   "id": "51591d96-3f2e-47fd-a72d-2272a7346297",
   "metadata": {
    "id": "51591d96-3f2e-47fd-a72d-2272a7346297",
    "outputId": "de492076-9840-4289-8a00-2f5ae08c3236"
   },
   "outputs": [
    {
     "name": "stdout",
     "output_type": "stream",
     "text": [
      "Updated dataset with NaN values replaced by medians:\n",
      "                                       CUSTOMER_CODE    v5           v6  \\\n",
      "0  ab617a6a0a8582f4aaa1aeda38fd73377cb911e6096a98...  99.0        THANE   \n",
      "1  6e8e3227297409f3f33578400302825263cadc2ed0d1a0...  99.0         Pune   \n",
      "2  1b42f270aba756b64d7ae4e2409313097b0c91f7c2f2c7...  99.0      BHIWANI   \n",
      "3  06a4aae9b531a518260c7d0d88811cc202fd0d3e46d9ea...  99.0  CHIKMAGALUR   \n",
      "4  0e4fa92b7a41dc019c9f40457e180e94ca60d0b5c7128e...  99.0        NASIK   \n",
      "\n",
      "                        v11  v24        v27                     v29   v32  \\\n",
      "0  2018-08-25T00:00:00.000Z  0.0    MARRIED                SALARIED  50.0   \n",
      "1  2018-08-03T14:12:16.000Z  0.0    Married  Self Employed Business  60.0   \n",
      "2  2021-10-08T00:00:00.000Z  0.0    MARRIED                     NaN  50.0   \n",
      "3  2024-03-18T00:00:00.000Z  0.0  Unmarried                Salaried  84.0   \n",
      "4  2024-02-26T00:00:00.000Z  0.0  Unmarried               Homemaker  60.0   \n",
      "\n",
      "                                                 v33      v34  ... v296 v297  \\\n",
      "0  c7e235648c651555361eb3f24ec90608fa8317b1ca8d5a...    THANE  ...  204  150   \n",
      "1  55253020c6a8f56e2208746dc08cfa4934758d7b207551...     Pune  ...  204  150   \n",
      "2  84bcd8800fde891c698a509995ff937f796c6df2330b2e...  BHIWANI  ...  204  150   \n",
      "3                                                NaN      NaN  ...  204  150   \n",
      "4                                                NaN      NaN  ...  204  150   \n",
      "\n",
      "   v298  v299  v300 v301 v302  batch_date  age_mean  v63_encoded  \n",
      "0    73   271   164  170  246  2024-09-27      52.0          2.5  \n",
      "1    73   271   164  170  246  2024-09-27      37.0         37.5  \n",
      "2    73   271   164  170  246  2024-09-27      22.0          2.5  \n",
      "3    73   271   164  170  246  2024-09-27      22.0          2.5  \n",
      "4    73   271   164  170  246  2024-09-27      32.0          2.5  \n",
      "\n",
      "[5 rows x 164 columns]\n"
     ]
    }
   ],
   "source": [
    "import pandas as pd\n",
    "\n",
    "# Load your dataset (uncomment and replace with the correct path)\n",
    "# cleaned_cdna_df = pd.read_csv('path_to_your_dataset.csv')\n",
    "\n",
    "# Identify numerical columns\n",
    "numerical_columns = cleaned_cdna_df.select_dtypes(include=['number']).columns\n",
    "\n",
    "# Check for columns with NaN values\n",
    "numerical_columns_with_nan = [col for col in numerical_columns if cleaned_cdna_df[col].isna().any()]\n",
    "\n",
    "# Create a new DataFrame for the updated data\n",
    "nume_cdna = cleaned_cdna_df.copy()\n",
    "\n",
    "# Replace NaN values with the median of each column in numerical_columns_with_nan\n",
    "for col in numerical_columns_with_nan:\n",
    "    median_value = nume_cdna[col].median()  # Calculate the median of the column\n",
    "    nume_cdna[col] = nume_cdna[col].fillna(median_value)  # Replace NaN with median\n",
    "\n",
    "# Verify the changes\n",
    "print(\"Updated dataset with NaN values replaced by medians:\")\n",
    "print(nume_cdna.head())\n",
    "\n",
    "# Optional: Save the new dataset to a CSV file\n",
    "# nume_cdna.to_csv('path_to_save_new_dataset.csv', index=False)\n"
   ]
  },
  {
   "cell_type": "markdown",
   "id": "40f45080-e77b-4a47-a891-cfb27a064bd0",
   "metadata": {
    "id": "40f45080-e77b-4a47-a891-cfb27a064bd0"
   },
   "source": [
    "#### Categorical with NaN values"
   ]
  },
  {
   "cell_type": "code",
   "execution_count": null,
   "id": "d8e4fd21-8e47-472b-b185-58bf8d018094",
   "metadata": {
    "id": "d8e4fd21-8e47-472b-b185-58bf8d018094",
    "outputId": "6a20cf11-50d2-473b-a6d1-9bd71d41a33c"
   },
   "outputs": [
    {
     "name": "stdout",
     "output_type": "stream",
     "text": [
      "Categorical columns with NaN values:\n",
      "['v6', 'v11', 'v27', 'v29', 'v33', 'v34', 'v35', 'v42', 'v43', 'v54', 'v55', 'v56', 'v60', 'v66', 'v68', 'v69', 'v71', 'v73', 'v74', 'v81', 'v99', 'v101', 'v102', 'v103', 'v271', 'v272', 'v273', 'v274', 'v275', 'v276', 'v277', 'v278', 'v279', 'v280', 'v281', 'v282', 'v283', 'v284', 'v285', 'v286']\n",
      "\n",
      "Count of categorical columns with NaN values: 40\n"
     ]
    }
   ],
   "source": [
    "import pandas as pd\n",
    "\n",
    "# Identify categorical columns in nume_cdna\n",
    "categorical_columns = nume_cdna.select_dtypes(include=['object']).columns\n",
    "\n",
    "# Check for columns with NaN values\n",
    "categorical_columns_with_nan = [col for col in categorical_columns if nume_cdna[col].isna().any()]\n",
    "\n",
    "# Print the column names and count of categorical columns with NaN values\n",
    "print(\"Categorical columns with NaN values:\")\n",
    "print(categorical_columns_with_nan)\n",
    "\n",
    "# Print the count of categorical columns\n",
    "print(\"\\nCount of categorical columns with NaN values:\", len(categorical_columns_with_nan))\n"
   ]
  },
  {
   "cell_type": "markdown",
   "id": "3m6IOf7KDdS9",
   "metadata": {
    "id": "3m6IOf7KDdS9"
   },
   "source": [
    "**Dropped columns v6, v11, v27, v29, v33, v34, v37, v42, v56, v60, v66, v68, v69, v71, v73, v74, v81, v102, v103, v272, v273, v274, v275, v276, v277, v280, v281, v282, v283, v284, v285 due to reasons like data redundancy, too many categories which could not be encoded etc.**"
   ]
  },
  {
   "cell_type": "code",
   "execution_count": null,
   "id": "909a7a9b-1216-484f-a35f-c0ec53e7e710",
   "metadata": {
    "id": "909a7a9b-1216-484f-a35f-c0ec53e7e710",
    "outputId": "951503a9-fea6-493c-c468-3aee0f59b621",
    "scrolled": true
   },
   "outputs": [
    {
     "name": "stdout",
     "output_type": "stream",
     "text": [
      "                                             CUSTOMER_CODE    v5  v24  \\\n",
      "0        ab617a6a0a8582f4aaa1aeda38fd73377cb911e6096a98...  99.0  0.0   \n",
      "1        6e8e3227297409f3f33578400302825263cadc2ed0d1a0...  99.0  0.0   \n",
      "2        1b42f270aba756b64d7ae4e2409313097b0c91f7c2f2c7...  99.0  0.0   \n",
      "3        06a4aae9b531a518260c7d0d88811cc202fd0d3e46d9ea...  99.0  0.0   \n",
      "4        0e4fa92b7a41dc019c9f40457e180e94ca60d0b5c7128e...  99.0  0.0   \n",
      "...                                                    ...   ...  ...   \n",
      "1285397  208d6130ed06bfa28102a553b800db738f348aee78ceed...  99.0  1.0   \n",
      "1285398  7ef63f0b16fa55ef0f2df11483014c166462c0433a2228...  99.0  0.0   \n",
      "1285399  36de75588001e2282d38aee12b87919c7d0a359af49b5d...  99.0  0.0   \n",
      "1285400  0beadfd5b2e548d6e4c5aaa730b7766b21ad5e5e0d88c3...  99.0  0.0   \n",
      "1285401  6b3b00bad12064c850bcad5e45038b0992944e6c652bfd...  99.0  0.0   \n",
      "\n",
      "               v27                     v29   v32            v35       v36  \\\n",
      "0          MARRIED                SALARIED  50.0    MAHARASHTRA       MDM   \n",
      "1          Married  Self Employed Business  60.0    MAHARASHTRA       MDM   \n",
      "2          MARRIED                     NaN  50.0        HARYANA       MDM   \n",
      "3        Unmarried                Salaried  84.0            NaN       MDM   \n",
      "4        Unmarried               Homemaker  60.0            NaN       MDM   \n",
      "...            ...                     ...   ...            ...       ...   \n",
      "1285397        NaN                   OTHER  50.0            NaN  MDM_CORP   \n",
      "1285398    Married        Salaried-Private  60.0    MAHARASHTRA       MDM   \n",
      "1285399    Married  Self Employed Business  29.0  UTTAR PRADESH       MDM   \n",
      "1285400    MARRIED                SALARIED  50.0        GUJARAT       MDM   \n",
      "1285401    Married                   OTHER  54.0            NaN       MDM   \n",
      "\n",
      "           v39    v40  ...  v296 v297 v298  v299  v300  v301  v302  \\\n",
      "0        False  False  ...   204  150   73   271   164   170   246   \n",
      "1        False  False  ...   204  150   73   271   164   170   246   \n",
      "2        False  False  ...   204  150   73   271   164   170   246   \n",
      "3        False  False  ...   204  150   73   271   164   170   246   \n",
      "4        False  False  ...   204  150   73   271   164   170   246   \n",
      "...        ...    ...  ...   ...  ...  ...   ...   ...   ...   ...   \n",
      "1285397  False  False  ...    85   31  318   152    45    51   127   \n",
      "1285398  False  False  ...   141   87   10   208   101   107   183   \n",
      "1285399  False  False  ...    85   31  318   152    45    51   127   \n",
      "1285400  False  False  ...   141   87   10   208   101   107   183   \n",
      "1285401  False  False  ...   176  122   45   243   136   142   218   \n",
      "\n",
      "         batch_date  age_mean  v63_encoded  \n",
      "0        2024-09-27      52.0          2.5  \n",
      "1        2024-09-27      37.0         37.5  \n",
      "2        2024-09-27      22.0          2.5  \n",
      "3        2024-09-27      22.0          2.5  \n",
      "4        2024-09-27      32.0          2.5  \n",
      "...             ...       ...          ...  \n",
      "1285397  2024-05-31      32.0         17.5  \n",
      "1285398  2024-07-26      47.0          7.5  \n",
      "1285399  2024-05-31      32.0          2.5  \n",
      "1285400  2024-07-26      32.0          2.5  \n",
      "1285401  2024-08-30      52.0          2.5  \n",
      "\n",
      "[1285402 rows x 137 columns]\n"
     ]
    }
   ],
   "source": [
    "### v6,v11,v33,v34,v37,v56,v60,v66,v68,v69,v71,v73,v74,v81,v102,v103,v272,v273,v274,v275,v276,v277,v280,v281,v282,v283,v284,v285\n",
    "# List of columns to drop\n",
    "columns_to_drop = ['v6', 'v11', 'v33', 'v34', 'v56', 'v60', 'v66', 'v68', 'v69', 'v71', 'v73', 'v74',\n",
    "                   'v81', 'v102', 'v103', 'v272', 'v273', 'v274', 'v275', 'v276', 'v277', 'v280', 'v281', 'v282',\n",
    "                   'v283', 'v284', 'v285']\n",
    "\n",
    "# Drop the specified columns and save the result in a new DataFrame\n",
    "nume_cdna_dropped = nume_cdna.drop(columns=columns_to_drop)\n",
    "\n",
    "# Print the updated DataFrame\n",
    "print(nume_cdna_dropped)\n"
   ]
  },
  {
   "cell_type": "code",
   "execution_count": null,
   "id": "d99b3fa4-b2be-45e0-93f6-c6d19de6a3f4",
   "metadata": {
    "id": "d99b3fa4-b2be-45e0-93f6-c6d19de6a3f4",
    "outputId": "ae9e6ae8-97fa-487c-dcde-7002238cf97d"
   },
   "outputs": [
    {
     "name": "stdout",
     "output_type": "stream",
     "text": [
      "Categorical columns with NaN values: ['v27', 'v29', 'v35', 'v42', 'v43', 'v54', 'v55', 'v99', 'v101', 'v271', 'v278', 'v279', 'v286']\n",
      "Column count: 13\n"
     ]
    }
   ],
   "source": [
    "# Identify categorical columns\n",
    "categorical_columns = nume_cdna_dropped.select_dtypes(include=['object'])\n",
    "\n",
    "# Find columns in the categorical columns that have NaN values\n",
    "categorical_columns_with_nan = categorical_columns.columns[categorical_columns.isna().any()].tolist()\n",
    "\n",
    "# Print the categorical columns with NaN values and their count\n",
    "print(\"Categorical columns with NaN values:\", categorical_columns_with_nan)\n",
    "print(\"Column count:\", len(categorical_columns_with_nan))\n"
   ]
  },
  {
   "cell_type": "code",
   "execution_count": null,
   "id": "fe412944-245a-425f-8aed-1bd3584d65a0",
   "metadata": {
    "id": "fe412944-245a-425f-8aed-1bd3584d65a0",
    "outputId": "49e09925-bb10-4425-a7f4-d84ad6393e45",
    "scrolled": true
   },
   "outputs": [
    {
     "data": {
      "text/plain": [
       "(['CUSTOMER_CODE',\n",
       "  'v5',\n",
       "  'v24',\n",
       "  'v27',\n",
       "  'v29',\n",
       "  'v32',\n",
       "  'v36',\n",
       "  'v39',\n",
       "  'v40',\n",
       "  'v41',\n",
       "  'v42',\n",
       "  'v43',\n",
       "  'v44',\n",
       "  'v45',\n",
       "  'v49',\n",
       "  'v50',\n",
       "  'v51',\n",
       "  'v52',\n",
       "  'v53',\n",
       "  'v54',\n",
       "  'v55',\n",
       "  'v63',\n",
       "  'v65',\n",
       "  'v77',\n",
       "  'v79',\n",
       "  'v80',\n",
       "  'v82',\n",
       "  'v83',\n",
       "  'v84',\n",
       "  'v86',\n",
       "  'v87',\n",
       "  'v88',\n",
       "  'v89',\n",
       "  'v90',\n",
       "  'v91',\n",
       "  'v92',\n",
       "  'v93',\n",
       "  'v94',\n",
       "  'v95',\n",
       "  'v96',\n",
       "  'v97',\n",
       "  'v98',\n",
       "  'v99',\n",
       "  'v100',\n",
       "  'v101',\n",
       "  'v104',\n",
       "  'v105',\n",
       "  'v106',\n",
       "  'v107',\n",
       "  'v108',\n",
       "  'v109',\n",
       "  'v128',\n",
       "  'v129',\n",
       "  'v130',\n",
       "  'v131',\n",
       "  'v132',\n",
       "  'v133',\n",
       "  'v137',\n",
       "  'v138',\n",
       "  'v139',\n",
       "  'v143',\n",
       "  'v144',\n",
       "  'v145',\n",
       "  'v161',\n",
       "  'v162',\n",
       "  'v183',\n",
       "  'v184',\n",
       "  'v185',\n",
       "  'v186',\n",
       "  'v203',\n",
       "  'v204',\n",
       "  'v205',\n",
       "  'v206',\n",
       "  'v207',\n",
       "  'v208',\n",
       "  'v209',\n",
       "  'v224',\n",
       "  'v225',\n",
       "  'v226',\n",
       "  'v227',\n",
       "  'v228',\n",
       "  'v231',\n",
       "  'v232',\n",
       "  'v233',\n",
       "  'v234',\n",
       "  'v235',\n",
       "  'v236',\n",
       "  'v237',\n",
       "  'v238',\n",
       "  'v239',\n",
       "  'v240',\n",
       "  'v241',\n",
       "  'v243',\n",
       "  'v244',\n",
       "  'v252',\n",
       "  'v253',\n",
       "  'v254',\n",
       "  'v255',\n",
       "  'v256',\n",
       "  'v257',\n",
       "  'v258',\n",
       "  'v259',\n",
       "  'v260',\n",
       "  'v261',\n",
       "  'v262',\n",
       "  'v263',\n",
       "  'v264',\n",
       "  'v265',\n",
       "  'v266',\n",
       "  'v267',\n",
       "  'v268',\n",
       "  'v269',\n",
       "  'v270',\n",
       "  'v278',\n",
       "  'v286',\n",
       "  'v287',\n",
       "  'v288',\n",
       "  'v289',\n",
       "  'v290',\n",
       "  'v291',\n",
       "  'v292',\n",
       "  'v293',\n",
       "  'v294',\n",
       "  'v295',\n",
       "  'v296',\n",
       "  'v297',\n",
       "  'v298',\n",
       "  'v299',\n",
       "  'v300',\n",
       "  'v301',\n",
       "  'v302',\n",
       "  'batch_date',\n",
       "  'age_mean',\n",
       "  'v63_encoded'],\n",
       " 134)"
      ]
     },
     "execution_count": 10,
     "metadata": {},
     "output_type": "execute_result"
    }
   ],
   "source": [
    "# Drop the specified columns from the cleaned dataset\n",
    "nume_cdna_dropped= nume_cdna_dropped.drop(columns=['v35', 'v271', 'v279'])\n",
    "\n",
    "# Display the remaining columns and their count\n",
    "nume_cdna_dropped.columns.tolist(), len(nume_cdna_dropped.columns)\n"
   ]
  },
  {
   "cell_type": "code",
   "execution_count": null,
   "id": "2c3aa070-f9ae-4cbb-88da-e499ac95af59",
   "metadata": {
    "id": "2c3aa070-f9ae-4cbb-88da-e499ac95af59",
    "outputId": "4cd6aba6-8fc8-41ca-ff71-b4d44a89154c"
   },
   "outputs": [
    {
     "data": {
      "text/plain": [
       "['CUSTOMER_CODE',\n",
       " 'v27',\n",
       " 'v29',\n",
       " 'v36',\n",
       " 'v42',\n",
       " 'v43',\n",
       " 'v54',\n",
       " 'v55',\n",
       " 'v99',\n",
       " 'v101',\n",
       " 'v278',\n",
       " 'v286',\n",
       " 'batch_date']"
      ]
     },
     "execution_count": 11,
     "metadata": {},
     "output_type": "execute_result"
    }
   ],
   "source": [
    "# Find the columns which have categorical data in nume_cdna_dropped\n",
    "categorical_columns = nume_cdna_dropped.select_dtypes(include=['object']).columns.tolist()\n",
    "categorical_columns\n"
   ]
  },
  {
   "cell_type": "code",
   "execution_count": null,
   "id": "ff4ceddf-2eeb-45c4-aee6-ff429e5f51df",
   "metadata": {
    "id": "ff4ceddf-2eeb-45c4-aee6-ff429e5f51df",
    "outputId": "6b3e6e8a-3680-4eb4-85c5-7da801ad976b"
   },
   "outputs": [
    {
     "data": {
      "text/plain": [
       "CUSTOMER_CODE         0\n",
       "v27               60259\n",
       "v29              234294\n",
       "v36                   0\n",
       "v42              587777\n",
       "v43               61223\n",
       "v54               45203\n",
       "v55              766354\n",
       "v99              650317\n",
       "v101              34374\n",
       "v278             480591\n",
       "v286             480591\n",
       "batch_date            0\n",
       "dtype: int64"
      ]
     },
     "execution_count": 12,
     "metadata": {},
     "output_type": "execute_result"
    }
   ],
   "source": [
    "nume_cdna_dropped[categorical_columns].isnull().sum()"
   ]
  },
  {
   "cell_type": "code",
   "execution_count": null,
   "id": "7be2506f-c911-4160-b883-992583fef908",
   "metadata": {
    "id": "7be2506f-c911-4160-b883-992583fef908",
    "outputId": "9f4f45be-0e1a-4899-e49a-bab520943405",
    "scrolled": true
   },
   "outputs": [
    {
     "name": "stdout",
     "output_type": "stream",
     "text": [
      "Unique values in 'CUSTOMER_CODE': ['ab617a6a0a8582f4aaa1aeda38fd73377cb911e6096a984784be6f123024ea50'\n",
      " '6e8e3227297409f3f33578400302825263cadc2ed0d1a06e9b9d0f50d94ba216'\n",
      " '1b42f270aba756b64d7ae4e2409313097b0c91f7c2f2c7aa8b06e89c46fc754f' ...\n",
      " 'be6dc2009f5132fa514dc2a0cdc88ea333c870516c5333df32e44cf046393078'\n",
      " '33a34e5263bdff0a66325ed4591f74bca48e1ad6218d2415acf1fdce706d35ab'\n",
      " 'abba01a175c6bfc1f5908e1511561eafa78f35d4f389af72470e6889fb85d934']\n",
      "Unique values in 'v27': ['MARRIED' 'Married' 'Unmarried' 'UNMARRIED' 'S' nan 'M' 'OTHER' 'Widow'\n",
      " 'SINGLE' 'WIDOW' 'Single']\n",
      "Unique values in 'v29': ['SALARIED' 'Self Employed Business' nan 'Salaried' 'Homemaker'\n",
      " 'SELF EMPLOYED' 'Salaried-Private' 'OTHER' 'Student'\n",
      " 'Selp employed profesional' 'Salarid-Public' 'Retired' 'Salarid-Govt'\n",
      " 'OTHERSSTUDENT' 'Self Employed' 'Self Employed Professional-Doctor'\n",
      " 'Farmer' 'CORPORATE' 'Unemployed' 'Self Employed Professional-CA'\n",
      " 'NA - Minor' 'NORMAL' 'INDIVIDUAL SELF EMPLOYED' 'INDIVIDUAL SALARIED'\n",
      " 'SALARIEDPRIVATESECTOR' 'OTHERSNOTCATEGORIZED'\n",
      " 'Self employed professional' 'STUDENT' 'Non earning individuals'\n",
      " 'Self Employed Professional-Consultant'\n",
      " 'Self Employed Professional-Architect' 'Professional'\n",
      " 'Self Employed Professional-Entertainment' 'SELFEMPLOYEDBUSINESS'\n",
      " 'AlliedAgri-Dairy' 'Allied Agri-Dairy'\n",
      " 'SELF EMPLOYED PRIORITY SECTOR LENDING'\n",
      " 'Self Employed Professional-Lawyer' 'PENSIONER'\n",
      " 'SELFEMPLOYEDPROFESSIONAL' 'Retd. Pensioner' 'AlliedAgri-Goat'\n",
      " 'SALARIEDPUBLICSECTOR' 'GROUP COMPANY EMPLOYEE' 'PROFESSIONAL'\n",
      " 'HOUSE WIFE' 'Service-Trader' 'SelfEmployed  Non-Agri - Service Provider'\n",
      " 'SELF EMPLOYED BUSINESS' 'SALARIEDGOVERNMENTSECTOR' 'House Wife'\n",
      " 'NON-INDIVIDUAL' 'OTHERS' 'Labour-OtherLabour' 'Salaried-Public'\n",
      " 'Salaried-Govt' 'Self Employed Professional-Beautician'\n",
      " 'Agri-Marginal Farmer up to 2.5 Acre' 'AlliedAgri-Fishery'\n",
      " 'INDIVIDUAL OTHERS' 'Company labour'\n",
      " 'Agri-Marginal Farmer (up to 2.5 Acre)'\n",
      " 'Self Employed Professional-Alternate Medical Pract'\n",
      " 'Salaried  Non-Agri - Private Employee' 'Self employed Non Professional'\n",
      " 'Cloth Sales' 'OTHERSHOUSEWIFE' 'Agri-Small Farmer 2.5-5 Acre'\n",
      " 'AlliedAgri-Others' 'Self employed Specified (Shroff, Money Lender, Sto'\n",
      " 'HOMEMAKER' 'Salaried-Others' 'Coconut Sales'\n",
      " 'SELF EMPLOYED - NON PROFESSIONAL' 'TW' 'Foodbeverage-DhabaOrTea Stall'\n",
      " 'Tailor' 'Labour-Other  Labour' 'Foodbeverage-FruitOrVegetableVendor'\n",
      " 'Labour-AgriLabour' 'Landless Labour'\n",
      " 'SELF EMPLOYED  NON PRIORITY SECTOR LENDING' 'SELFEMP'\n",
      " 'Agri-Small Farmer (2.5-5 Acre)' 'AlliedAgri-Poultry'\n",
      " 'SelfEmployed  Agri - DairyAnimal Husbandry' 'AlliedAgri-Sheep' 'Hotel'\n",
      " 'Salaried - Govt' 'EMP' 'Service-TransportOperator' 'Daily Labour' 'CD'\n",
      " 'TVS' 'Politician' 'Service-Tailor' 'RETIRED' 'FARMER' 'EMPLOYEE'\n",
      " 'SD/MBO']\n",
      "Unique values in 'v36': ['MDM' 'MDM_CORP' 'FINNONE' 'CUSTOMER']\n",
      "Unique values in 'v42': ['Miscallenous' nan\n",
      " 'Loans for purchase of consumer durable goods - other than staff'\n",
      " 'Other chemicals and chemical products'\n",
      " 'Loans for purchase of Motor Vehicle & Two-wheelers by individuals'\n",
      " 'Professional, Legal, Consultancy services'\n",
      " 'Other personal loans -other than to staff (include loans for domestic'\n",
      " 'Publishing, Printing and reproduction of recorded media'\n",
      " 'General merchandise- Non specialised' 'Other wholesale trade'\n",
      " 'Growing cereals'\n",
      " 'Freight transport by motor vehicles (trucks, buses, tempos etc.) including refrigerated vans'\n",
      " 'Loans for purchase of consumer durable goods given to staff'\n",
      " 'Other professional activities and Services'\n",
      " 'Education - loans to individuals for pursuit of studies - other than staff'\n",
      " 'Articians, Craftsman'\n",
      " 'laundries, saloons, beauty parlors, portrait and commercial photographic studios and other self-employed persons'\n",
      " 'Dairying' 'Manufacture of furniture & fixtures'\n",
      " 'other than agricultural machinery and equipment'\n",
      " 'Textiles, clothing and footwear and other household goods'\n",
      " 'Housing loans (including the loans to co-operative housing societies)'\n",
      " 'Collection, purification and distribution of water'\n",
      " 'Pharmaceutical and medical goods'\n",
      " 'ANIMAL FEED: Manufacture of prepared animal feeds [includes cattle feed, poultry feed and other animal and bird feed]'\n",
      " 'Growing oilseeds (including peanuts or soya beans)' 'Other Retail Trade'\n",
      " 'Specialized stores of food, beverages and tobacco'\n",
      " 'Manufacture of refined petroleum products'\n",
      " 'Retail sale in specialised stores - Others' 'Carpets'\n",
      " 'Staff Vehicle Loans: Purchase of Motor Vehicle & Two-wheelers by'\n",
      " 'General residential construction'\n",
      " 'Manufacture of pharma and drug products'\n",
      " 'Manufacturing of wearing apparel, readymade garments'\n",
      " 'Manufacture of other textile & textile goods' 'Higher education'\n",
      " 'Food and beverages' 'Medical and dental practice activities'\n",
      " 'Rearing of goats, production of milk'\n",
      " 'Manufacture of structural metal products'\n",
      " 'Manufacture of plastic products' 'Others food products'\n",
      " 'Manufacture of electric motors, generators and transformers'\n",
      " 'BPO, KPO, Call centres'\n",
      " 'Dressing (includes scraping, curing, tanning, bleaching) and dyeing of fur; manufacture of articles of fur and pelt products; Embroidering and embossing of leather articles'\n",
      " 'Manufacture of machine-tools' 'Hospital activities'\n",
      " 'Other financial intermediation' 'Rice Mills, Flour and Dal Mills'\n",
      " 'Activities of transport agencies and transport operators'\n",
      " 'Handloom textiles and Khadi (spinning, weaving, dyeing, printing, etc.)'\n",
      " 'Other personal loans to staff members (include loans for domestic'\n",
      " 'Wood and wood products' 'Retail sale of automotive fuel (Petrol pumps)'\n",
      " 'Telecommunication and Telecom Services- Celular service'\n",
      " 'Manufacturing of hardware and other metal products'\n",
      " 'Retail sale of construction materials, hardware, paints and glass'\n",
      " 'Diamonds, Gems and Jewellery' 'Manufacture of Basis iron and steel'\n",
      " 'Casting of iron and steel' 'Activities of membership organization'\n",
      " 'Manufacture of paints, varnishes and similar coatings, printing ink and mastics'\n",
      " 'Retail sale of diamonds, gems & jewellery'\n",
      " 'Advertising and publicity concerns' 'Iron \\\\/ Steel products - Pipe'\n",
      " 'Growing other food & cash crops' 'Transport- pipeline'\n",
      " 'Sale of parts and accessories of vehicles'\n",
      " 'Manufacture of bicycles other transport equipment' 'Dairy products'\n",
      " 'Transport- Road' 'Maintainance of vehicles' 'Food procurement'\n",
      " 'Wholesale of construction material and hardwares' 'Local area banks'\n",
      " 'Other textiles - others'\n",
      " 'Manufacture of corrugated paper and paper board and of containers of paper and paper board [includes sacks and paper bags, card board boxes etc.]; Manufacture of craft paper'\n",
      " 'Retail sale of second hand goods in stores(including the pawn shops)'\n",
      " 'Cutting, shaping and finishing of stone [includes cutting, shaping and finishing stone for use in construction, in cemeteries, on roads, as roofing and in other applications]'\n",
      " 'Retail sale of Agricultural implements and machinery'\n",
      " 'Manufacture of all other food products'\n",
      " 'Manufacture of basic precious and non ferrous metals'\n",
      " 'Manufacturing of domestic appliances (Household)'\n",
      " 'Roads & Ports - includes construction and maintenance'\n",
      " 'Maintenance and repair of other items'\n",
      " 'Forestry, Logging & Related Service Activities' 'Handicraft products'\n",
      " 'COTTON TEXTILE' 'Air Transport'\n",
      " 'Travel agencies and tour operators, tour assistance'\n",
      " 'Restaurants, bars and canteens' 'Foreign bank' 'Other animal farming'\n",
      " 'Food grains (cereals and pulses)'\n",
      " 'Fishing, operation of fish hatcheries,Fish farms,Service activities incidental to fishing'\n",
      " 'Manufacture of other rubber products'\n",
      " 'Manufacture of man-made fibres [This class includes manufacture of artificial or synthetic filament and non-filament fibres.]'\n",
      " 'Manufacture of medical and surgical equipment and orthopedic appliances'\n",
      " 'FISH: Processing, canning, freezing and preserving of fish, crustacean and similar foods [includes sun drying, artificial dehydration, radiation preservation of fish, sea food and similar food; manufacture of fish meal; processing & canning of froglegs et'\n",
      " 'Loans advanced through credit cards - other than staff'\n",
      " 'JUTE & OTHER NATURAL FIBRE TEXTILE: Preparation, pressing, bailing, spinning and weaving of jute, mesta, hemp and other natural fibre including blended natural fibres; Finishing of jute, mesta and other vegetable textiles fabrics [bleaching, dyeing and pr'\n",
      " 'Real estate activities - buying, selling, leasing, renting, maintenance (other than construction)'\n",
      " 'Manufacture of cocoa, chocolate and sugar confectionery including manufacture of sweetmeats, chewing gum and preservation in sugar of fruits, nuts, fruit peals and other part of plants'\n",
      " 'NBFCs-general purposes loans'\n",
      " 'Teleshoping, Internet sales, Door to door sale'\n",
      " 'Social work- community and welfare services'\n",
      " 'Manufacture of miscellaneous decorative articles'\n",
      " 'SILK & SYNTHETIC TEXTILE' 'Manufacture of other electrical equipment'\n",
      " 'Software publishing and consultancy'\n",
      " 'Architectural, engineering and other technical activities'\n",
      " 'Maintenance and repair of Communication Equipments'\n",
      " 'Warehousing and storage (for transport)'\n",
      " 'NBFCs-for on-lending for agriculture & allied activities (to individual farmers\\\\/ SHGs\\\\/ JLGs)'\n",
      " 'Wholesale on a fee or contract basis'\n",
      " 'Maintenance and repair of all vehicles'\n",
      " 'Other entertainment activities like' 'Education'\n",
      " 'Staff Education Loans - loans to staff members for them or their wards'\n",
      " 'Manufacture of leather footwear: includes manufacture of leather shoes, leather sandals and chappals, leather-cum-rubber\\\\\\\\/plastic cloth sandals and chappals made by hand or by any process'\n",
      " 'Construction contractors' 'Specialised construction (Stadium,Plants)'\n",
      " 'Bakery products'\n",
      " 'Recycling of metal waste and scrap,Recycling of non-metal waste and scrap'\n",
      " 'Support services for water transport' 'Farm Machinery and implements'\n",
      " 'Renting of personal and household goods'\n",
      " 'Support services for land transport'\n",
      " 'Wholesale of other intermediate products, waste and scrap' 'poultry'\n",
      " 'Manufacture of machinery for metallurgy: converters, ingot moulds, ladles and casting machines; metal rolling mills and rolls for such mills.'\n",
      " 'Merchant banking' 'Edible oil and vanaspati'\n",
      " 'Manufacture of engines and turbines' 'Cotton' 'Storage and mkt yard'\n",
      " 'Sale of motor vehicles (all vehicles)' 'Footwear' 'Hardware consultancy'\n",
      " 'Manufacture of light agricultural and forestry machinery and equipment including forage press: ploughs, harrows, weeders, hoes,'\n",
      " 'Maintenance of Computer Software'\n",
      " 'Harvesting and activities related to harvesting'\n",
      " 'Growing flowers (Floriculture), horticultural specialties and nursery products'\n",
      " 'Wholesale of solid, liquid and gaseous fuels and related products.'\n",
      " 'Non-edible oils: Manufacture of essential oils, modification by chemical processes (e.g. by oxidation, polymerization etc.) of oils and fats'\n",
      " 'Manufacture of made-up textile articles, except apparel such as curtains, bed covers, upholstery, bedding, quilts, pillows, cushions and sleeping bags, mosquito nets etc.; Manufacture of tarpaulin'\n",
      " 'Municipal corporations, Municipalities, Water Drainage and sewerage boards and such public utilities'\n",
      " 'Transport- Railways' 'Gems \\\\/ Jewellery \\\\/Precious Metals & Stones'\n",
      " 'Repairs of personal and household goods'\n",
      " 'Manufacture of insulated wire and cable'\n",
      " 'Manufacture of indigenous sugar, ‘Boora’, ‘Gur’ and ‘Khandsari’ from sugarcane or other than sugar cane, candy and indigenous sugarcane\\\\\\\\/ sugar beet\\\\\\\\/ palm juice products etc.'\n",
      " 'Manufacture of Structural metal products'\n",
      " 'Other Infrastructure Construction'\n",
      " 'Electricity Generation -CG PSU (Thermal - Gas)' 'Veterinary activities'\n",
      " 'Electricity Generation -PVT (Thermal - Coal)'\n",
      " 'Manufacture of electric lamps and lighting equipment'\n",
      " 'Growing vegetables'\n",
      " 'Maintenance and repair of Computer Hardware & Peripheral Equipments'\n",
      " 'Manufacture of machinery for mining, quarrying and construction'\n",
      " 'Renting of construction and all other'\n",
      " 'Manufacture of Coke and coke products'\n",
      " 'Support services for air transport' 'Hotels, Motels and Resorts'\n",
      " 'Staff housing loans (including the loans to co-operative housing'\n",
      " 'Manufacture of refrigerator and freezing equipments'\n",
      " 'Manufacture of soaps' 'Manufacture of Glass and Glass products'\n",
      " 'Tobacco & Tobacco products' 'Paper and paper products'\n",
      " 'Generation and Transmission of electricity' 'metals and metal ores'\n",
      " 'Agricultural machinery and equipment'\n",
      " 'Manufacture of shawls, blankets, carpets, durries, druggets and rugs'\n",
      " 'Retail sale of Fertilizers and pesticides'\n",
      " 'Farm Transport Vehicles\\\\/accessories'\n",
      " 'GENERAL NON-RESIDENTIAL CONSTRUCTION' 'Cotton -Others'\n",
      " 'Manufacture of basic chemicals except fertilizers and nitrogen compounds (Heavy industry organic or inorganic chemicals and gases)'\n",
      " 'Manufacture of Radio, Television and Communication equipment'\n",
      " 'Manufacture of parts and accessories'\n",
      " 'Software consultancy and supply .[includes activities in connection with analysis, design and programming of systems ready to use. This usually involves the analysis of the users’ needs and problems, consultancy on the most economic solution and producing'\n",
      " 'Manufacturing of Chewing items'\n",
      " 'Manufacture of Cement, lime and plaster' 'Leather and leather products'\n",
      " 'Telecommunication and Telecom Services- Broadband, wireless internet'\n",
      " 'Manufacture of mica and mica products; gypsum boards; millstones, sharpening or polishing stones and natural or artificial abrasive products; graphite products other than electrical articles; asbestos yarn and fabric; mineral insulating material (slag woo'\n",
      " 'Domestic commercial bank' 'Manufacture of fibre glass and products'\n",
      " 'Others direct finance related to agriculture'\n",
      " 'Sewage and refuse disposal, sanitation and similar activities'\n",
      " 'Non life insurance']\n",
      "Unique values in 'v43': ['MARRIED' 'UNMARRIED' 'SINGLE' nan 'OTHERS']\n",
      "Unique values in 'v54': ['MALE' 'Male' 'Female' 'FEMALE' 'M' nan 'F' 'C' 'THIRD GENDER' 'OTHERS'\n",
      " 'U' 'O']\n",
      "Unique values in 'v55': [nan '[GMAIL.COM]' '[YAHOO.IN]' ... '[SAHAYYAFINSERVE.COM]'\n",
      " '[2FINVIEWS.COM]' '[KREATIONNEXT.COM]']\n",
      "Unique values in 'v99': ['and' 'ios' nan]\n",
      "Unique values in 'v101': ['Tier 1' 'Tier 5' 'Tier 6' 'Tier 2' 'Tier 7' nan 'Tier 8' 'Tier 3'\n",
      " 'Tier 4' 'Rural']\n",
      "Unique values in 'v278': ['MORNING' nan 'EVENING']\n",
      "Unique values in 'v286': ['WEEKEND' 'WEEKDAY' nan 'FRIDAY']\n",
      "Unique values in 'batch_date': ['2024-09-27' '2024-08-30' '2024-07-26' '2024-05-31' '2024-10-25'\n",
      " '2024-06-28']\n"
     ]
    }
   ],
   "source": [
    "unique_values = {col: nume_cdna_dropped[col].unique() for col in categorical_columns}\n",
    "\n",
    "# Print the unique values column-wise\n",
    "for column, values in unique_values.items():\n",
    "    print(f\"Unique values in '{column}': {values}\")"
   ]
  },
  {
   "cell_type": "code",
   "execution_count": null,
   "id": "8c15cc77-0c29-4159-ad9c-eb2ca315c254",
   "metadata": {
    "id": "8c15cc77-0c29-4159-ad9c-eb2ca315c254",
    "outputId": "ccac16b5-e6a1-4cad-8339-d26b5313910b"
   },
   "outputs": [
    {
     "data": {
      "text/plain": [
       "v27    60259\n",
       "v43    61223\n",
       "dtype: int64"
      ]
     },
     "execution_count": 14,
     "metadata": {},
     "output_type": "execute_result"
    }
   ],
   "source": [
    "nume_cdna_dropped[['v27','v43']].isnull().sum()"
   ]
  },
  {
   "cell_type": "code",
   "execution_count": null,
   "id": "291b3bd3-045f-45bc-85a6-8664bff8c871",
   "metadata": {
    "id": "291b3bd3-045f-45bc-85a6-8664bff8c871",
    "outputId": "47c4c1e4-5582-4c71-8a24-4b98ad908161"
   },
   "outputs": [
    {
     "data": {
      "text/plain": [
       "(1285402, 131)"
      ]
     },
     "execution_count": 15,
     "metadata": {},
     "output_type": "execute_result"
    }
   ],
   "source": [
    "nume_cdna_dropped= nume_cdna_dropped.drop(columns=['v29', 'v42', 'v27'])\n",
    "nume_cdna_dropped.shape"
   ]
  },
  {
   "cell_type": "code",
   "execution_count": null,
   "id": "1575bb23-0827-4df4-911f-b27fbf023ae0",
   "metadata": {
    "id": "1575bb23-0827-4df4-911f-b27fbf023ae0",
    "outputId": "1c1d1ab4-02ac-4cb0-9b9b-c9d5f0e4a57c"
   },
   "outputs": [
    {
     "data": {
      "text/html": [
       "<div>\n",
       "<style scoped>\n",
       "    .dataframe tbody tr th:only-of-type {\n",
       "        vertical-align: middle;\n",
       "    }\n",
       "\n",
       "    .dataframe tbody tr th {\n",
       "        vertical-align: top;\n",
       "    }\n",
       "\n",
       "    .dataframe thead th {\n",
       "        text-align: right;\n",
       "    }\n",
       "</style>\n",
       "<table border=\"1\" class=\"dataframe\">\n",
       "  <thead>\n",
       "    <tr style=\"text-align: right;\">\n",
       "      <th></th>\n",
       "      <th>CUSTOMER_CODE</th>\n",
       "      <th>v5</th>\n",
       "      <th>v24</th>\n",
       "      <th>v32</th>\n",
       "      <th>v36</th>\n",
       "      <th>v39</th>\n",
       "      <th>v40</th>\n",
       "      <th>v41</th>\n",
       "      <th>v43</th>\n",
       "      <th>v44</th>\n",
       "      <th>...</th>\n",
       "      <th>v296</th>\n",
       "      <th>v297</th>\n",
       "      <th>v298</th>\n",
       "      <th>v299</th>\n",
       "      <th>v300</th>\n",
       "      <th>v301</th>\n",
       "      <th>v302</th>\n",
       "      <th>batch_date</th>\n",
       "      <th>age_mean</th>\n",
       "      <th>v63_encoded</th>\n",
       "    </tr>\n",
       "  </thead>\n",
       "  <tbody>\n",
       "    <tr>\n",
       "      <th>0</th>\n",
       "      <td>ab617a6a0a8582f4aaa1aeda38fd73377cb911e6096a98...</td>\n",
       "      <td>99.0</td>\n",
       "      <td>0.0</td>\n",
       "      <td>50.0</td>\n",
       "      <td>MDM</td>\n",
       "      <td>False</td>\n",
       "      <td>False</td>\n",
       "      <td>False</td>\n",
       "      <td>MARRIED</td>\n",
       "      <td>4.0</td>\n",
       "      <td>...</td>\n",
       "      <td>204</td>\n",
       "      <td>150</td>\n",
       "      <td>73</td>\n",
       "      <td>271</td>\n",
       "      <td>164</td>\n",
       "      <td>170</td>\n",
       "      <td>246</td>\n",
       "      <td>2024-09-27</td>\n",
       "      <td>52.0</td>\n",
       "      <td>2.5</td>\n",
       "    </tr>\n",
       "    <tr>\n",
       "      <th>1</th>\n",
       "      <td>6e8e3227297409f3f33578400302825263cadc2ed0d1a0...</td>\n",
       "      <td>99.0</td>\n",
       "      <td>0.0</td>\n",
       "      <td>60.0</td>\n",
       "      <td>MDM</td>\n",
       "      <td>False</td>\n",
       "      <td>False</td>\n",
       "      <td>False</td>\n",
       "      <td>MARRIED</td>\n",
       "      <td>4.0</td>\n",
       "      <td>...</td>\n",
       "      <td>204</td>\n",
       "      <td>150</td>\n",
       "      <td>73</td>\n",
       "      <td>271</td>\n",
       "      <td>164</td>\n",
       "      <td>170</td>\n",
       "      <td>246</td>\n",
       "      <td>2024-09-27</td>\n",
       "      <td>37.0</td>\n",
       "      <td>37.5</td>\n",
       "    </tr>\n",
       "    <tr>\n",
       "      <th>2</th>\n",
       "      <td>1b42f270aba756b64d7ae4e2409313097b0c91f7c2f2c7...</td>\n",
       "      <td>99.0</td>\n",
       "      <td>0.0</td>\n",
       "      <td>50.0</td>\n",
       "      <td>MDM</td>\n",
       "      <td>False</td>\n",
       "      <td>False</td>\n",
       "      <td>False</td>\n",
       "      <td>MARRIED</td>\n",
       "      <td>4.0</td>\n",
       "      <td>...</td>\n",
       "      <td>204</td>\n",
       "      <td>150</td>\n",
       "      <td>73</td>\n",
       "      <td>271</td>\n",
       "      <td>164</td>\n",
       "      <td>170</td>\n",
       "      <td>246</td>\n",
       "      <td>2024-09-27</td>\n",
       "      <td>22.0</td>\n",
       "      <td>2.5</td>\n",
       "    </tr>\n",
       "    <tr>\n",
       "      <th>3</th>\n",
       "      <td>06a4aae9b531a518260c7d0d88811cc202fd0d3e46d9ea...</td>\n",
       "      <td>99.0</td>\n",
       "      <td>0.0</td>\n",
       "      <td>84.0</td>\n",
       "      <td>MDM</td>\n",
       "      <td>False</td>\n",
       "      <td>False</td>\n",
       "      <td>False</td>\n",
       "      <td>UNMARRIED</td>\n",
       "      <td>4.0</td>\n",
       "      <td>...</td>\n",
       "      <td>204</td>\n",
       "      <td>150</td>\n",
       "      <td>73</td>\n",
       "      <td>271</td>\n",
       "      <td>164</td>\n",
       "      <td>170</td>\n",
       "      <td>246</td>\n",
       "      <td>2024-09-27</td>\n",
       "      <td>22.0</td>\n",
       "      <td>2.5</td>\n",
       "    </tr>\n",
       "    <tr>\n",
       "      <th>4</th>\n",
       "      <td>0e4fa92b7a41dc019c9f40457e180e94ca60d0b5c7128e...</td>\n",
       "      <td>99.0</td>\n",
       "      <td>0.0</td>\n",
       "      <td>60.0</td>\n",
       "      <td>MDM</td>\n",
       "      <td>False</td>\n",
       "      <td>False</td>\n",
       "      <td>False</td>\n",
       "      <td>UNMARRIED</td>\n",
       "      <td>4.0</td>\n",
       "      <td>...</td>\n",
       "      <td>204</td>\n",
       "      <td>150</td>\n",
       "      <td>73</td>\n",
       "      <td>271</td>\n",
       "      <td>164</td>\n",
       "      <td>170</td>\n",
       "      <td>246</td>\n",
       "      <td>2024-09-27</td>\n",
       "      <td>32.0</td>\n",
       "      <td>2.5</td>\n",
       "    </tr>\n",
       "  </tbody>\n",
       "</table>\n",
       "<p>5 rows × 131 columns</p>\n",
       "</div>"
      ],
      "text/plain": [
       "                                       CUSTOMER_CODE    v5  v24   v32  v36  \\\n",
       "0  ab617a6a0a8582f4aaa1aeda38fd73377cb911e6096a98...  99.0  0.0  50.0  MDM   \n",
       "1  6e8e3227297409f3f33578400302825263cadc2ed0d1a0...  99.0  0.0  60.0  MDM   \n",
       "2  1b42f270aba756b64d7ae4e2409313097b0c91f7c2f2c7...  99.0  0.0  50.0  MDM   \n",
       "3  06a4aae9b531a518260c7d0d88811cc202fd0d3e46d9ea...  99.0  0.0  84.0  MDM   \n",
       "4  0e4fa92b7a41dc019c9f40457e180e94ca60d0b5c7128e...  99.0  0.0  60.0  MDM   \n",
       "\n",
       "     v39    v40    v41        v43  v44  ...  v296  v297  v298  v299  v300  \\\n",
       "0  False  False  False    MARRIED  4.0  ...   204   150    73   271   164   \n",
       "1  False  False  False    MARRIED  4.0  ...   204   150    73   271   164   \n",
       "2  False  False  False    MARRIED  4.0  ...   204   150    73   271   164   \n",
       "3  False  False  False  UNMARRIED  4.0  ...   204   150    73   271   164   \n",
       "4  False  False  False  UNMARRIED  4.0  ...   204   150    73   271   164   \n",
       "\n",
       "   v301 v302  batch_date  age_mean  v63_encoded  \n",
       "0   170  246  2024-09-27      52.0          2.5  \n",
       "1   170  246  2024-09-27      37.0         37.5  \n",
       "2   170  246  2024-09-27      22.0          2.5  \n",
       "3   170  246  2024-09-27      22.0          2.5  \n",
       "4   170  246  2024-09-27      32.0          2.5  \n",
       "\n",
       "[5 rows x 131 columns]"
      ]
     },
     "execution_count": 16,
     "metadata": {},
     "output_type": "execute_result"
    }
   ],
   "source": [
    "nume_cdna_dropped = nume_cdna_dropped.reset_index(drop=True)\n",
    "nume_cdna_dropped.head()"
   ]
  },
  {
   "cell_type": "markdown",
   "id": "084e8f65-03b7-4e0b-8958-376de34041bb",
   "metadata": {
    "id": "084e8f65-03b7-4e0b-8958-376de34041bb",
    "jp-MarkdownHeadingCollapsed": true
   },
   "source": [
    "### Loading the target Column and joining it with the cdna datset"
   ]
  },
  {
   "cell_type": "markdown",
   "id": "427a0849-0e97-4fc2-9309-32e043d4bc96",
   "metadata": {
    "id": "427a0849-0e97-4fc2-9309-32e043d4bc96"
   },
   "source": [
    "We are joining before encoding the categorical columns so as to save computational time since the number of columns in target dataset is almost half."
   ]
  },
  {
   "cell_type": "code",
   "execution_count": null,
   "id": "fc1da526-d2ed-48ab-a3d7-6303cac28400",
   "metadata": {
    "id": "fc1da526-d2ed-48ab-a3d7-6303cac28400"
   },
   "outputs": [],
   "source": [
    "target_dataset=pd.read_csv('target_median.csv')"
   ]
  },
  {
   "cell_type": "code",
   "execution_count": null,
   "id": "9c531b9f-c339-4649-97f4-8f2d3feadaa9",
   "metadata": {
    "id": "9c531b9f-c339-4649-97f4-8f2d3feadaa9",
    "outputId": "6a9fe3a2-f047-4bff-ea6d-0b0ebc49c5cb"
   },
   "outputs": [
    {
     "data": {
      "text/html": [
       "<div>\n",
       "<style scoped>\n",
       "    .dataframe tbody tr th:only-of-type {\n",
       "        vertical-align: middle;\n",
       "    }\n",
       "\n",
       "    .dataframe tbody tr th {\n",
       "        vertical-align: top;\n",
       "    }\n",
       "\n",
       "    .dataframe thead th {\n",
       "        text-align: right;\n",
       "    }\n",
       "</style>\n",
       "<table border=\"1\" class=\"dataframe\">\n",
       "  <thead>\n",
       "    <tr style=\"text-align: right;\">\n",
       "      <th></th>\n",
       "      <th>batch_date_history</th>\n",
       "      <th>customer_code</th>\n",
       "      <th>target_slot</th>\n",
       "    </tr>\n",
       "  </thead>\n",
       "  <tbody>\n",
       "    <tr>\n",
       "      <th>0</th>\n",
       "      <td>2024-05-31</td>\n",
       "      <td>00006eb623a7a335fb6fa7334939cca08c75e80e44e404...</td>\n",
       "      <td>19</td>\n",
       "    </tr>\n",
       "    <tr>\n",
       "      <th>1</th>\n",
       "      <td>2024-05-31</td>\n",
       "      <td>0000b844339117db33d8dcc6ca4e97a8c989a918c8cf01...</td>\n",
       "      <td>9</td>\n",
       "    </tr>\n",
       "    <tr>\n",
       "      <th>2</th>\n",
       "      <td>2024-05-31</td>\n",
       "      <td>00021bdab2ed517d593cce06bffe6a002d6ad363048e61...</td>\n",
       "      <td>14</td>\n",
       "    </tr>\n",
       "    <tr>\n",
       "      <th>3</th>\n",
       "      <td>2024-05-31</td>\n",
       "      <td>00064e0390f08b415acc060257dd29bfed915bb4ff4fef...</td>\n",
       "      <td>14</td>\n",
       "    </tr>\n",
       "    <tr>\n",
       "      <th>4</th>\n",
       "      <td>2024-05-31</td>\n",
       "      <td>0007274f2cbe775d59dadbbde24d10f935f466af1ce03a...</td>\n",
       "      <td>14</td>\n",
       "    </tr>\n",
       "  </tbody>\n",
       "</table>\n",
       "</div>"
      ],
      "text/plain": [
       "  batch_date_history                                      customer_code  \\\n",
       "0         2024-05-31  00006eb623a7a335fb6fa7334939cca08c75e80e44e404...   \n",
       "1         2024-05-31  0000b844339117db33d8dcc6ca4e97a8c989a918c8cf01...   \n",
       "2         2024-05-31  00021bdab2ed517d593cce06bffe6a002d6ad363048e61...   \n",
       "3         2024-05-31  00064e0390f08b415acc060257dd29bfed915bb4ff4fef...   \n",
       "4         2024-05-31  0007274f2cbe775d59dadbbde24d10f935f466af1ce03a...   \n",
       "\n",
       "   target_slot  \n",
       "0           19  \n",
       "1            9  \n",
       "2           14  \n",
       "3           14  \n",
       "4           14  "
      ]
     },
     "execution_count": 18,
     "metadata": {},
     "output_type": "execute_result"
    }
   ],
   "source": [
    "target_dataset.head()"
   ]
  },
  {
   "cell_type": "code",
   "execution_count": null,
   "id": "2ae8adcd-2805-44d1-9a1a-3599fac8a78b",
   "metadata": {
    "id": "2ae8adcd-2805-44d1-9a1a-3599fac8a78b"
   },
   "outputs": [],
   "source": [
    "merged_dataset = pd.merge(\n",
    "    left=target_dataset,\n",
    "    right=nume_cdna_dropped,\n",
    "    how='inner',  # Using 'inner' to include only matching rows\n",
    "    left_on=['customer_code', 'batch_date_history'],\n",
    "    right_on=['CUSTOMER_CODE', 'batch_date']\n",
    ")"
   ]
  },
  {
   "cell_type": "code",
   "execution_count": null,
   "id": "87dde218-d5a1-4553-826b-571a6851a038",
   "metadata": {
    "id": "87dde218-d5a1-4553-826b-571a6851a038",
    "outputId": "592dea2c-c3fe-450f-a9ad-e1701b2b400e"
   },
   "outputs": [
    {
     "data": {
      "text/plain": [
       "(645053, 134)"
      ]
     },
     "execution_count": 20,
     "metadata": {},
     "output_type": "execute_result"
    }
   ],
   "source": [
    "merged_dataset.shape"
   ]
  },
  {
   "cell_type": "code",
   "execution_count": null,
   "id": "41569cd2-e880-4ade-b004-6cb99ef0f7ae",
   "metadata": {
    "id": "41569cd2-e880-4ade-b004-6cb99ef0f7ae",
    "outputId": "058de961-1f9f-4e8a-91d6-e7b02cb12eaf"
   },
   "outputs": [
    {
     "data": {
      "text/html": [
       "<div>\n",
       "<style scoped>\n",
       "    .dataframe tbody tr th:only-of-type {\n",
       "        vertical-align: middle;\n",
       "    }\n",
       "\n",
       "    .dataframe tbody tr th {\n",
       "        vertical-align: top;\n",
       "    }\n",
       "\n",
       "    .dataframe thead th {\n",
       "        text-align: right;\n",
       "    }\n",
       "</style>\n",
       "<table border=\"1\" class=\"dataframe\">\n",
       "  <thead>\n",
       "    <tr style=\"text-align: right;\">\n",
       "      <th></th>\n",
       "      <th>batch_date_history</th>\n",
       "      <th>customer_code</th>\n",
       "      <th>target_slot</th>\n",
       "      <th>CUSTOMER_CODE</th>\n",
       "      <th>v5</th>\n",
       "      <th>v24</th>\n",
       "      <th>v32</th>\n",
       "      <th>v36</th>\n",
       "      <th>v39</th>\n",
       "      <th>v40</th>\n",
       "      <th>...</th>\n",
       "      <th>v296</th>\n",
       "      <th>v297</th>\n",
       "      <th>v298</th>\n",
       "      <th>v299</th>\n",
       "      <th>v300</th>\n",
       "      <th>v301</th>\n",
       "      <th>v302</th>\n",
       "      <th>batch_date</th>\n",
       "      <th>age_mean</th>\n",
       "      <th>v63_encoded</th>\n",
       "    </tr>\n",
       "  </thead>\n",
       "  <tbody>\n",
       "    <tr>\n",
       "      <th>0</th>\n",
       "      <td>2024-05-31</td>\n",
       "      <td>00006eb623a7a335fb6fa7334939cca08c75e80e44e404...</td>\n",
       "      <td>19</td>\n",
       "      <td>00006eb623a7a335fb6fa7334939cca08c75e80e44e404...</td>\n",
       "      <td>99.0</td>\n",
       "      <td>0.0</td>\n",
       "      <td>7.0</td>\n",
       "      <td>MDM</td>\n",
       "      <td>False</td>\n",
       "      <td>False</td>\n",
       "      <td>...</td>\n",
       "      <td>85</td>\n",
       "      <td>31</td>\n",
       "      <td>318</td>\n",
       "      <td>152</td>\n",
       "      <td>45</td>\n",
       "      <td>51</td>\n",
       "      <td>127</td>\n",
       "      <td>2024-05-31</td>\n",
       "      <td>42.0</td>\n",
       "      <td>2.5</td>\n",
       "    </tr>\n",
       "    <tr>\n",
       "      <th>1</th>\n",
       "      <td>2024-05-31</td>\n",
       "      <td>0000b844339117db33d8dcc6ca4e97a8c989a918c8cf01...</td>\n",
       "      <td>9</td>\n",
       "      <td>0000b844339117db33d8dcc6ca4e97a8c989a918c8cf01...</td>\n",
       "      <td>99.0</td>\n",
       "      <td>0.0</td>\n",
       "      <td>20.0</td>\n",
       "      <td>MDM</td>\n",
       "      <td>False</td>\n",
       "      <td>False</td>\n",
       "      <td>...</td>\n",
       "      <td>85</td>\n",
       "      <td>31</td>\n",
       "      <td>318</td>\n",
       "      <td>152</td>\n",
       "      <td>45</td>\n",
       "      <td>51</td>\n",
       "      <td>127</td>\n",
       "      <td>2024-05-31</td>\n",
       "      <td>22.0</td>\n",
       "      <td>2.5</td>\n",
       "    </tr>\n",
       "    <tr>\n",
       "      <th>2</th>\n",
       "      <td>2024-05-31</td>\n",
       "      <td>00021bdab2ed517d593cce06bffe6a002d6ad363048e61...</td>\n",
       "      <td>14</td>\n",
       "      <td>00021bdab2ed517d593cce06bffe6a002d6ad363048e61...</td>\n",
       "      <td>99.0</td>\n",
       "      <td>0.0</td>\n",
       "      <td>50.0</td>\n",
       "      <td>FINNONE</td>\n",
       "      <td>False</td>\n",
       "      <td>False</td>\n",
       "      <td>...</td>\n",
       "      <td>85</td>\n",
       "      <td>31</td>\n",
       "      <td>318</td>\n",
       "      <td>152</td>\n",
       "      <td>45</td>\n",
       "      <td>51</td>\n",
       "      <td>127</td>\n",
       "      <td>2024-05-31</td>\n",
       "      <td>32.0</td>\n",
       "      <td>2.5</td>\n",
       "    </tr>\n",
       "    <tr>\n",
       "      <th>3</th>\n",
       "      <td>2024-05-31</td>\n",
       "      <td>00064e0390f08b415acc060257dd29bfed915bb4ff4fef...</td>\n",
       "      <td>14</td>\n",
       "      <td>00064e0390f08b415acc060257dd29bfed915bb4ff4fef...</td>\n",
       "      <td>99.0</td>\n",
       "      <td>0.0</td>\n",
       "      <td>50.0</td>\n",
       "      <td>MDM</td>\n",
       "      <td>False</td>\n",
       "      <td>False</td>\n",
       "      <td>...</td>\n",
       "      <td>85</td>\n",
       "      <td>31</td>\n",
       "      <td>318</td>\n",
       "      <td>152</td>\n",
       "      <td>45</td>\n",
       "      <td>51</td>\n",
       "      <td>127</td>\n",
       "      <td>2024-05-31</td>\n",
       "      <td>37.0</td>\n",
       "      <td>2.5</td>\n",
       "    </tr>\n",
       "    <tr>\n",
       "      <th>4</th>\n",
       "      <td>2024-05-31</td>\n",
       "      <td>0007274f2cbe775d59dadbbde24d10f935f466af1ce03a...</td>\n",
       "      <td>14</td>\n",
       "      <td>0007274f2cbe775d59dadbbde24d10f935f466af1ce03a...</td>\n",
       "      <td>99.0</td>\n",
       "      <td>0.0</td>\n",
       "      <td>50.0</td>\n",
       "      <td>MDM</td>\n",
       "      <td>False</td>\n",
       "      <td>False</td>\n",
       "      <td>...</td>\n",
       "      <td>85</td>\n",
       "      <td>31</td>\n",
       "      <td>318</td>\n",
       "      <td>152</td>\n",
       "      <td>45</td>\n",
       "      <td>51</td>\n",
       "      <td>127</td>\n",
       "      <td>2024-05-31</td>\n",
       "      <td>22.0</td>\n",
       "      <td>2.5</td>\n",
       "    </tr>\n",
       "  </tbody>\n",
       "</table>\n",
       "<p>5 rows × 134 columns</p>\n",
       "</div>"
      ],
      "text/plain": [
       "  batch_date_history                                      customer_code  \\\n",
       "0         2024-05-31  00006eb623a7a335fb6fa7334939cca08c75e80e44e404...   \n",
       "1         2024-05-31  0000b844339117db33d8dcc6ca4e97a8c989a918c8cf01...   \n",
       "2         2024-05-31  00021bdab2ed517d593cce06bffe6a002d6ad363048e61...   \n",
       "3         2024-05-31  00064e0390f08b415acc060257dd29bfed915bb4ff4fef...   \n",
       "4         2024-05-31  0007274f2cbe775d59dadbbde24d10f935f466af1ce03a...   \n",
       "\n",
       "   target_slot                                      CUSTOMER_CODE    v5  v24  \\\n",
       "0           19  00006eb623a7a335fb6fa7334939cca08c75e80e44e404...  99.0  0.0   \n",
       "1            9  0000b844339117db33d8dcc6ca4e97a8c989a918c8cf01...  99.0  0.0   \n",
       "2           14  00021bdab2ed517d593cce06bffe6a002d6ad363048e61...  99.0  0.0   \n",
       "3           14  00064e0390f08b415acc060257dd29bfed915bb4ff4fef...  99.0  0.0   \n",
       "4           14  0007274f2cbe775d59dadbbde24d10f935f466af1ce03a...  99.0  0.0   \n",
       "\n",
       "    v32      v36    v39    v40  ...  v296 v297  v298  v299  v300  v301  v302  \\\n",
       "0   7.0      MDM  False  False  ...    85   31   318   152    45    51   127   \n",
       "1  20.0      MDM  False  False  ...    85   31   318   152    45    51   127   \n",
       "2  50.0  FINNONE  False  False  ...    85   31   318   152    45    51   127   \n",
       "3  50.0      MDM  False  False  ...    85   31   318   152    45    51   127   \n",
       "4  50.0      MDM  False  False  ...    85   31   318   152    45    51   127   \n",
       "\n",
       "   batch_date  age_mean v63_encoded  \n",
       "0  2024-05-31      42.0         2.5  \n",
       "1  2024-05-31      22.0         2.5  \n",
       "2  2024-05-31      32.0         2.5  \n",
       "3  2024-05-31      37.0         2.5  \n",
       "4  2024-05-31      22.0         2.5  \n",
       "\n",
       "[5 rows x 134 columns]"
      ]
     },
     "execution_count": 21,
     "metadata": {},
     "output_type": "execute_result"
    }
   ],
   "source": [
    "merged_dataset.head()"
   ]
  },
  {
   "cell_type": "code",
   "execution_count": null,
   "id": "ce9f8f42-beb3-4a83-a9d4-c021eab9bd89",
   "metadata": {
    "id": "ce9f8f42-beb3-4a83-a9d4-c021eab9bd89"
   },
   "outputs": [],
   "source": [
    "merged_dataset=merged_dataset.drop(columns=['batch_date_history','customer_code'])"
   ]
  },
  {
   "cell_type": "code",
   "execution_count": null,
   "id": "4340ba2a-0366-4bf6-ba11-2069e8a25092",
   "metadata": {
    "id": "4340ba2a-0366-4bf6-ba11-2069e8a25092",
    "outputId": "0242c7ed-5f65-4025-cd7d-336eb57280fd"
   },
   "outputs": [
    {
     "data": {
      "text/html": [
       "<div>\n",
       "<style scoped>\n",
       "    .dataframe tbody tr th:only-of-type {\n",
       "        vertical-align: middle;\n",
       "    }\n",
       "\n",
       "    .dataframe tbody tr th {\n",
       "        vertical-align: top;\n",
       "    }\n",
       "\n",
       "    .dataframe thead th {\n",
       "        text-align: right;\n",
       "    }\n",
       "</style>\n",
       "<table border=\"1\" class=\"dataframe\">\n",
       "  <thead>\n",
       "    <tr style=\"text-align: right;\">\n",
       "      <th></th>\n",
       "      <th>target_slot</th>\n",
       "      <th>CUSTOMER_CODE</th>\n",
       "      <th>v5</th>\n",
       "      <th>v24</th>\n",
       "      <th>v32</th>\n",
       "      <th>v36</th>\n",
       "      <th>v39</th>\n",
       "      <th>v40</th>\n",
       "      <th>v41</th>\n",
       "      <th>v43</th>\n",
       "      <th>...</th>\n",
       "      <th>v296</th>\n",
       "      <th>v297</th>\n",
       "      <th>v298</th>\n",
       "      <th>v299</th>\n",
       "      <th>v300</th>\n",
       "      <th>v301</th>\n",
       "      <th>v302</th>\n",
       "      <th>batch_date</th>\n",
       "      <th>age_mean</th>\n",
       "      <th>v63_encoded</th>\n",
       "    </tr>\n",
       "  </thead>\n",
       "  <tbody>\n",
       "    <tr>\n",
       "      <th>0</th>\n",
       "      <td>19</td>\n",
       "      <td>00006eb623a7a335fb6fa7334939cca08c75e80e44e404...</td>\n",
       "      <td>99.0</td>\n",
       "      <td>0.0</td>\n",
       "      <td>7.0</td>\n",
       "      <td>MDM</td>\n",
       "      <td>False</td>\n",
       "      <td>False</td>\n",
       "      <td>False</td>\n",
       "      <td>MARRIED</td>\n",
       "      <td>...</td>\n",
       "      <td>85</td>\n",
       "      <td>31</td>\n",
       "      <td>318</td>\n",
       "      <td>152</td>\n",
       "      <td>45</td>\n",
       "      <td>51</td>\n",
       "      <td>127</td>\n",
       "      <td>2024-05-31</td>\n",
       "      <td>42.0</td>\n",
       "      <td>2.5</td>\n",
       "    </tr>\n",
       "    <tr>\n",
       "      <th>1</th>\n",
       "      <td>9</td>\n",
       "      <td>0000b844339117db33d8dcc6ca4e97a8c989a918c8cf01...</td>\n",
       "      <td>99.0</td>\n",
       "      <td>0.0</td>\n",
       "      <td>20.0</td>\n",
       "      <td>MDM</td>\n",
       "      <td>False</td>\n",
       "      <td>False</td>\n",
       "      <td>False</td>\n",
       "      <td>UNMARRIED</td>\n",
       "      <td>...</td>\n",
       "      <td>85</td>\n",
       "      <td>31</td>\n",
       "      <td>318</td>\n",
       "      <td>152</td>\n",
       "      <td>45</td>\n",
       "      <td>51</td>\n",
       "      <td>127</td>\n",
       "      <td>2024-05-31</td>\n",
       "      <td>22.0</td>\n",
       "      <td>2.5</td>\n",
       "    </tr>\n",
       "    <tr>\n",
       "      <th>2</th>\n",
       "      <td>14</td>\n",
       "      <td>00021bdab2ed517d593cce06bffe6a002d6ad363048e61...</td>\n",
       "      <td>99.0</td>\n",
       "      <td>0.0</td>\n",
       "      <td>50.0</td>\n",
       "      <td>FINNONE</td>\n",
       "      <td>False</td>\n",
       "      <td>False</td>\n",
       "      <td>False</td>\n",
       "      <td>SINGLE</td>\n",
       "      <td>...</td>\n",
       "      <td>85</td>\n",
       "      <td>31</td>\n",
       "      <td>318</td>\n",
       "      <td>152</td>\n",
       "      <td>45</td>\n",
       "      <td>51</td>\n",
       "      <td>127</td>\n",
       "      <td>2024-05-31</td>\n",
       "      <td>32.0</td>\n",
       "      <td>2.5</td>\n",
       "    </tr>\n",
       "    <tr>\n",
       "      <th>3</th>\n",
       "      <td>14</td>\n",
       "      <td>00064e0390f08b415acc060257dd29bfed915bb4ff4fef...</td>\n",
       "      <td>99.0</td>\n",
       "      <td>0.0</td>\n",
       "      <td>50.0</td>\n",
       "      <td>MDM</td>\n",
       "      <td>False</td>\n",
       "      <td>False</td>\n",
       "      <td>False</td>\n",
       "      <td>UNMARRIED</td>\n",
       "      <td>...</td>\n",
       "      <td>85</td>\n",
       "      <td>31</td>\n",
       "      <td>318</td>\n",
       "      <td>152</td>\n",
       "      <td>45</td>\n",
       "      <td>51</td>\n",
       "      <td>127</td>\n",
       "      <td>2024-05-31</td>\n",
       "      <td>37.0</td>\n",
       "      <td>2.5</td>\n",
       "    </tr>\n",
       "    <tr>\n",
       "      <th>4</th>\n",
       "      <td>14</td>\n",
       "      <td>0007274f2cbe775d59dadbbde24d10f935f466af1ce03a...</td>\n",
       "      <td>99.0</td>\n",
       "      <td>0.0</td>\n",
       "      <td>50.0</td>\n",
       "      <td>MDM</td>\n",
       "      <td>False</td>\n",
       "      <td>False</td>\n",
       "      <td>False</td>\n",
       "      <td>UNMARRIED</td>\n",
       "      <td>...</td>\n",
       "      <td>85</td>\n",
       "      <td>31</td>\n",
       "      <td>318</td>\n",
       "      <td>152</td>\n",
       "      <td>45</td>\n",
       "      <td>51</td>\n",
       "      <td>127</td>\n",
       "      <td>2024-05-31</td>\n",
       "      <td>22.0</td>\n",
       "      <td>2.5</td>\n",
       "    </tr>\n",
       "  </tbody>\n",
       "</table>\n",
       "<p>5 rows × 132 columns</p>\n",
       "</div>"
      ],
      "text/plain": [
       "   target_slot                                      CUSTOMER_CODE    v5  v24  \\\n",
       "0           19  00006eb623a7a335fb6fa7334939cca08c75e80e44e404...  99.0  0.0   \n",
       "1            9  0000b844339117db33d8dcc6ca4e97a8c989a918c8cf01...  99.0  0.0   \n",
       "2           14  00021bdab2ed517d593cce06bffe6a002d6ad363048e61...  99.0  0.0   \n",
       "3           14  00064e0390f08b415acc060257dd29bfed915bb4ff4fef...  99.0  0.0   \n",
       "4           14  0007274f2cbe775d59dadbbde24d10f935f466af1ce03a...  99.0  0.0   \n",
       "\n",
       "    v32      v36    v39    v40    v41        v43  ...  v296  v297  v298  v299  \\\n",
       "0   7.0      MDM  False  False  False    MARRIED  ...    85    31   318   152   \n",
       "1  20.0      MDM  False  False  False  UNMARRIED  ...    85    31   318   152   \n",
       "2  50.0  FINNONE  False  False  False     SINGLE  ...    85    31   318   152   \n",
       "3  50.0      MDM  False  False  False  UNMARRIED  ...    85    31   318   152   \n",
       "4  50.0      MDM  False  False  False  UNMARRIED  ...    85    31   318   152   \n",
       "\n",
       "   v300  v301  v302  batch_date age_mean  v63_encoded  \n",
       "0    45    51   127  2024-05-31     42.0          2.5  \n",
       "1    45    51   127  2024-05-31     22.0          2.5  \n",
       "2    45    51   127  2024-05-31     32.0          2.5  \n",
       "3    45    51   127  2024-05-31     37.0          2.5  \n",
       "4    45    51   127  2024-05-31     22.0          2.5  \n",
       "\n",
       "[5 rows x 132 columns]"
      ]
     },
     "execution_count": 23,
     "metadata": {},
     "output_type": "execute_result"
    }
   ],
   "source": [
    "merged_dataset.head()"
   ]
  },
  {
   "cell_type": "markdown",
   "id": "c6a61756-7300-4022-8c84-1bcf986c6096",
   "metadata": {
    "id": "c6a61756-7300-4022-8c84-1bcf986c6096",
    "jp-MarkdownHeadingCollapsed": true
   },
   "source": [
    "# CLEANING AND CREATING THE FINAL DATASET"
   ]
  },
  {
   "cell_type": "markdown",
   "id": "bf304f6f-4a63-41d0-b70d-4f766fa23355",
   "metadata": {
    "id": "bf304f6f-4a63-41d0-b70d-4f766fa23355"
   },
   "source": [
    "### One-Hot Encoding the Categorical columns left one by one"
   ]
  },
  {
   "cell_type": "code",
   "execution_count": null,
   "id": "0e5e1891-22d1-4936-af0e-b98566b212cb",
   "metadata": {
    "id": "0e5e1891-22d1-4936-af0e-b98566b212cb",
    "outputId": "3860c732-ed85-465c-cf1a-91b2dd94f483"
   },
   "outputs": [
    {
     "data": {
      "text/plain": [
       "['CUSTOMER_CODE',\n",
       " 'v36',\n",
       " 'v43',\n",
       " 'v54',\n",
       " 'v55',\n",
       " 'v99',\n",
       " 'v101',\n",
       " 'v278',\n",
       " 'v286',\n",
       " 'batch_date']"
      ]
     },
     "execution_count": 24,
     "metadata": {},
     "output_type": "execute_result"
    }
   ],
   "source": [
    "categorical_columns_merged = merged_dataset.select_dtypes(include=['object']).columns.tolist()\n",
    "categorical_columns_merged"
   ]
  },
  {
   "cell_type": "markdown",
   "id": "a97bc8bd-08d9-423b-bc15-0eb2112a933f",
   "metadata": {
    "id": "a97bc8bd-08d9-423b-bc15-0eb2112a933f"
   },
   "source": [
    "#### V36"
   ]
  },
  {
   "cell_type": "code",
   "execution_count": null,
   "id": "12b5ee58-9af2-478f-8011-eeda7c162f1e",
   "metadata": {
    "id": "12b5ee58-9af2-478f-8011-eeda7c162f1e",
    "outputId": "de4bb8ee-35dd-472d-e777-b1d611d4ce85"
   },
   "outputs": [
    {
     "data": {
      "text/plain": [
       "array(['MDM', 'FINNONE', 'MDM_CORP', 'CUSTOMER'], dtype=object)"
      ]
     },
     "execution_count": 25,
     "metadata": {},
     "output_type": "execute_result"
    }
   ],
   "source": [
    "merged_dataset['v36'].unique()"
   ]
  },
  {
   "cell_type": "code",
   "execution_count": null,
   "id": "6f365e9b-54d8-4cfc-bb38-23facc04c1ce",
   "metadata": {
    "id": "6f365e9b-54d8-4cfc-bb38-23facc04c1ce"
   },
   "outputs": [],
   "source": [
    "merged_df36 = pd.get_dummies(merged_dataset, columns=['v36'], drop_first=True)"
   ]
  },
  {
   "cell_type": "code",
   "execution_count": null,
   "id": "a40e13bf-386f-4ec9-af55-5b7ec0209f7a",
   "metadata": {
    "id": "a40e13bf-386f-4ec9-af55-5b7ec0209f7a",
    "outputId": "701f1a12-c96a-4420-bce0-d8da2f338f12"
   },
   "outputs": [
    {
     "data": {
      "text/plain": [
       "Index(['target_slot', 'CUSTOMER_CODE', 'v5', 'v24', 'v32', 'v39', 'v40', 'v41',\n",
       "       'v43', 'v44',\n",
       "       ...\n",
       "       'v299', 'v300', 'v301', 'v302', 'batch_date', 'age_mean', 'v63_encoded',\n",
       "       'v36_FINNONE', 'v36_MDM', 'v36_MDM_CORP'],\n",
       "      dtype='object', length=134)"
      ]
     },
     "execution_count": 27,
     "metadata": {},
     "output_type": "execute_result"
    }
   ],
   "source": [
    "merged_df36.columns"
   ]
  },
  {
   "cell_type": "markdown",
   "id": "7db10e09-e2f1-4853-bed2-81e70600d1e0",
   "metadata": {
    "id": "7db10e09-e2f1-4853-bed2-81e70600d1e0",
    "jp-MarkdownHeadingCollapsed": true
   },
   "source": [
    "#### V43"
   ]
  },
  {
   "cell_type": "code",
   "execution_count": null,
   "id": "56e6180d-876e-4d0b-b9bd-9a6f8240e75a",
   "metadata": {
    "id": "56e6180d-876e-4d0b-b9bd-9a6f8240e75a",
    "outputId": "588ddb59-9805-499b-9e00-bc230f621830"
   },
   "outputs": [
    {
     "data": {
      "text/plain": [
       "array(['MARRIED', 'UNMARRIED', 'SINGLE', nan, 'OTHERS'], dtype=object)"
      ]
     },
     "execution_count": 28,
     "metadata": {},
     "output_type": "execute_result"
    }
   ],
   "source": [
    "merged_df36['v43'].unique()"
   ]
  },
  {
   "cell_type": "code",
   "execution_count": null,
   "id": "e7af318b-f489-412a-ba47-905dfd90e0a7",
   "metadata": {
    "id": "e7af318b-f489-412a-ba47-905dfd90e0a7",
    "outputId": "e997ce80-933f-44ae-f77d-130f944c06c6"
   },
   "outputs": [
    {
     "data": {
      "text/plain": [
       "v43\n",
       "MARRIED      309331\n",
       "UNMARRIED    290697\n",
       "SINGLE         7258\n",
       "OTHERS           10\n",
       "Name: count, dtype: int64"
      ]
     },
     "execution_count": 29,
     "metadata": {},
     "output_type": "execute_result"
    }
   ],
   "source": [
    "most_frequent_count = merged_df36['v43'].value_counts()\n",
    "most_frequent_count"
   ]
  },
  {
   "cell_type": "code",
   "execution_count": null,
   "id": "ca32bfe0-4115-4e32-a58e-dfe6d31497d9",
   "metadata": {
    "id": "ca32bfe0-4115-4e32-a58e-dfe6d31497d9",
    "outputId": "bc9284c8-e0a6-4bde-b43a-f0e7ff8934c6"
   },
   "outputs": [
    {
     "data": {
      "text/plain": [
       "37757"
      ]
     },
     "execution_count": 30,
     "metadata": {},
     "output_type": "execute_result"
    }
   ],
   "source": [
    "merged_df36['v43'].isnull().sum()"
   ]
  },
  {
   "cell_type": "code",
   "execution_count": null,
   "id": "0b7107f4-58bb-42e1-8bbd-c2b27fd95486",
   "metadata": {
    "id": "0b7107f4-58bb-42e1-8bbd-c2b27fd95486"
   },
   "outputs": [],
   "source": [
    "merged_df36['v43'] = merged_df36['v43'].fillna('OTHERS')"
   ]
  },
  {
   "cell_type": "code",
   "execution_count": null,
   "id": "41f4df25-732e-47b1-b5a3-39da747819cd",
   "metadata": {
    "id": "41f4df25-732e-47b1-b5a3-39da747819cd"
   },
   "outputs": [],
   "source": [
    "merged_df43 = pd.get_dummies(merged_df36, columns=['v43'], drop_first=True)"
   ]
  },
  {
   "cell_type": "markdown",
   "id": "8dd52397-bf2d-485c-ab64-54e3c371fe2f",
   "metadata": {
    "id": "8dd52397-bf2d-485c-ab64-54e3c371fe2f",
    "jp-MarkdownHeadingCollapsed": true
   },
   "source": [
    "#### V54"
   ]
  },
  {
   "cell_type": "code",
   "execution_count": null,
   "id": "f3cd67d8-966c-4873-b6c7-09583b10f4a8",
   "metadata": {
    "id": "f3cd67d8-966c-4873-b6c7-09583b10f4a8",
    "outputId": "e14c126c-f59d-4772-e7ad-7d3b05db5d0d"
   },
   "outputs": [
    {
     "data": {
      "text/plain": [
       "array(['M', 'Female', 'MALE', 'Male', 'F', 'FEMALE', nan, 'THIRD GENDER',\n",
       "       'C', 'U', 'OTHERS', 'O'], dtype=object)"
      ]
     },
     "execution_count": 33,
     "metadata": {},
     "output_type": "execute_result"
    }
   ],
   "source": [
    "merged_df43['v54'].unique()"
   ]
  },
  {
   "cell_type": "code",
   "execution_count": null,
   "id": "8142817f-c6bf-4bd6-8fcb-0a9e46d6b8df",
   "metadata": {
    "id": "8142817f-c6bf-4bd6-8fcb-0a9e46d6b8df",
    "outputId": "b3793f15-5cf7-4b4d-8f86-34db8526bf6b"
   },
   "outputs": [
    {
     "data": {
      "text/plain": [
       "v54\n",
       "Male            262320\n",
       "MALE            167137\n",
       "Female           78854\n",
       "M                75287\n",
       "FEMALE           26791\n",
       "F                 8045\n",
       "THIRD GENDER        46\n",
       "C                   35\n",
       "OTHERS              16\n",
       "U                   10\n",
       "O                    1\n",
       "Name: count, dtype: int64"
      ]
     },
     "execution_count": 34,
     "metadata": {},
     "output_type": "execute_result"
    }
   ],
   "source": [
    "most_frequent_count = merged_df43['v54'].value_counts()\n",
    "most_frequent_count"
   ]
  },
  {
   "cell_type": "code",
   "execution_count": null,
   "id": "8b922d3d-bdef-495b-abc6-06ca77e04574",
   "metadata": {
    "id": "8b922d3d-bdef-495b-abc6-06ca77e04574",
    "outputId": "2dec07b9-609e-4c04-bef6-f51510ba4390"
   },
   "outputs": [
    {
     "data": {
      "text/plain": [
       "26511"
      ]
     },
     "execution_count": 35,
     "metadata": {},
     "output_type": "execute_result"
    }
   ],
   "source": [
    "merged_df43['v54'].isnull().sum()"
   ]
  },
  {
   "cell_type": "code",
   "execution_count": null,
   "id": "09e1135e-b812-4e1f-b04b-328b5971e642",
   "metadata": {
    "id": "09e1135e-b812-4e1f-b04b-328b5971e642"
   },
   "outputs": [],
   "source": [
    "merged_df43['v54'] = merged_df43['v54'].fillna('Male')"
   ]
  },
  {
   "cell_type": "code",
   "execution_count": null,
   "id": "61336727-86a5-45de-99ac-c61aa1ac4d6f",
   "metadata": {
    "id": "61336727-86a5-45de-99ac-c61aa1ac4d6f"
   },
   "outputs": [],
   "source": [
    "merged_df43['v54'] = merged_df43['v54'].replace(['MALE', 'Male', 'M'], 'Male')\n",
    "merged_df43['v54'] = merged_df43['v54'].replace(['FEMALE', 'Female', 'F'], 'Female')\n",
    "merged_df43['v54'] = merged_df43['v54'].replace(['C', 'OTHERS', 'THIRD GENDER','U','O'], 'Others')"
   ]
  },
  {
   "cell_type": "code",
   "execution_count": null,
   "id": "4bf55beb-f496-404f-bfba-237ccb170528",
   "metadata": {
    "id": "4bf55beb-f496-404f-bfba-237ccb170528",
    "outputId": "44357c65-7b2b-4b40-cbf5-69fd6d4e8815"
   },
   "outputs": [
    {
     "data": {
      "text/plain": [
       "v54\n",
       "Male      531255\n",
       "Female    113690\n",
       "Others       108\n",
       "Name: count, dtype: int64"
      ]
     },
     "execution_count": 38,
     "metadata": {},
     "output_type": "execute_result"
    }
   ],
   "source": [
    "most_frequent_count = merged_df43['v54'].value_counts()\n",
    "most_frequent_count"
   ]
  },
  {
   "cell_type": "code",
   "execution_count": null,
   "id": "d1344608-2bfc-43db-b29b-c36e996d4330",
   "metadata": {
    "id": "d1344608-2bfc-43db-b29b-c36e996d4330"
   },
   "outputs": [],
   "source": [
    "merged_df54 = pd.get_dummies(merged_df43, columns=['v54'], drop_first=False)"
   ]
  },
  {
   "cell_type": "code",
   "execution_count": null,
   "id": "13a5be83-3abd-450a-b3fb-ea5f42081493",
   "metadata": {
    "id": "13a5be83-3abd-450a-b3fb-ea5f42081493",
    "outputId": "985c4129-bdc4-45c2-fb74-35117b6464e5"
   },
   "outputs": [
    {
     "data": {
      "text/plain": [
       "Index(['target_slot', 'CUSTOMER_CODE', 'v5', 'v24', 'v32', 'v39', 'v40', 'v41',\n",
       "       'v44', 'v45',\n",
       "       ...\n",
       "       'v63_encoded', 'v36_FINNONE', 'v36_MDM', 'v36_MDM_CORP', 'v43_OTHERS',\n",
       "       'v43_SINGLE', 'v43_UNMARRIED', 'v54_Female', 'v54_Male', 'v54_Others'],\n",
       "      dtype='object', length=138)"
      ]
     },
     "execution_count": 40,
     "metadata": {},
     "output_type": "execute_result"
    }
   ],
   "source": [
    "merged_df54.columns"
   ]
  },
  {
   "cell_type": "code",
   "execution_count": null,
   "id": "72f74d83-74cf-4608-b970-d0725ec89ab4",
   "metadata": {
    "id": "72f74d83-74cf-4608-b970-d0725ec89ab4"
   },
   "outputs": [],
   "source": [
    "merged_df54=merged_df54.drop(columns=['v54_Others'])"
   ]
  },
  {
   "cell_type": "markdown",
   "id": "2037c336-e855-4c45-bb94-1f049e55bc64",
   "metadata": {
    "id": "2037c336-e855-4c45-bb94-1f049e55bc64",
    "jp-MarkdownHeadingCollapsed": true
   },
   "source": [
    "#### V55"
   ]
  },
  {
   "cell_type": "code",
   "execution_count": null,
   "id": "a5e4ddb4-f46a-478c-a4a3-4609b8820566",
   "metadata": {
    "id": "a5e4ddb4-f46a-478c-a4a3-4609b8820566",
    "outputId": "bd09022f-d9d5-4875-d3b2-36746f532e07"
   },
   "outputs": [
    {
     "data": {
      "text/plain": [
       "v55\n",
       "[GMAIL.COM]            272312\n",
       "[YAHOO.COM]              4065\n",
       "[HOTMAIL.COM]            2123\n",
       "[YAHOO.CO.IN]            2012\n",
       "[OUTLOOK.COM]             691\n",
       "                        ...  \n",
       "[KNOWBAL.COM.AU]            1\n",
       "[GMQIL.COM]                 1\n",
       "[HETERO.COM]                1\n",
       "[METROSOLUTIONS.IN]         1\n",
       "[BRIVAS.COM]                1\n",
       "Name: count, Length: 1167, dtype: int64"
      ]
     },
     "execution_count": 42,
     "metadata": {},
     "output_type": "execute_result"
    }
   ],
   "source": [
    "most_frequent_count = merged_df54['v55'].value_counts()\n",
    "most_frequent_count"
   ]
  },
  {
   "cell_type": "code",
   "execution_count": null,
   "id": "c0a96eef-7d90-4706-b8e7-3f1d6b1596a4",
   "metadata": {
    "id": "c0a96eef-7d90-4706-b8e7-3f1d6b1596a4"
   },
   "outputs": [],
   "source": [
    "merged_df54=merged_df54.drop(columns=['v55'])"
   ]
  },
  {
   "cell_type": "markdown",
   "id": "a64b8ece-94f2-4d19-a0db-1621613292f1",
   "metadata": {
    "id": "a64b8ece-94f2-4d19-a0db-1621613292f1",
    "jp-MarkdownHeadingCollapsed": true
   },
   "source": [
    "#### V99"
   ]
  },
  {
   "cell_type": "code",
   "execution_count": null,
   "id": "2554a81b-91de-4e28-9e56-5b279db348e5",
   "metadata": {
    "id": "2554a81b-91de-4e28-9e56-5b279db348e5",
    "outputId": "613e07d8-5e82-4a3a-eb0a-84b92a952977"
   },
   "outputs": [
    {
     "data": {
      "text/plain": [
       "array([nan, 'ios', 'and'], dtype=object)"
      ]
     },
     "execution_count": 44,
     "metadata": {},
     "output_type": "execute_result"
    }
   ],
   "source": [
    "merged_df54['v99'].unique()"
   ]
  },
  {
   "cell_type": "code",
   "execution_count": null,
   "id": "6152d56c-254f-4d0a-b5bd-224dd3ce9758",
   "metadata": {
    "id": "6152d56c-254f-4d0a-b5bd-224dd3ce9758",
    "outputId": "f2317a8b-88de-4471-a18a-a50c7e77b045"
   },
   "outputs": [
    {
     "data": {
      "text/plain": [
       "v99\n",
       "and    239727\n",
       "ios    119061\n",
       "Name: count, dtype: int64"
      ]
     },
     "execution_count": 45,
     "metadata": {},
     "output_type": "execute_result"
    }
   ],
   "source": [
    "most_frequent_count = merged_df54['v99'].value_counts()\n",
    "most_frequent_count"
   ]
  },
  {
   "cell_type": "code",
   "execution_count": null,
   "id": "64a06013-c092-4eca-8073-c5221fb09a5a",
   "metadata": {
    "id": "64a06013-c092-4eca-8073-c5221fb09a5a"
   },
   "outputs": [],
   "source": [
    "merged_df54['v99'] = merged_df54['v99'].fillna('Nan')"
   ]
  },
  {
   "cell_type": "code",
   "execution_count": null,
   "id": "1a1cf8a2-cc14-442f-8f50-e6bfebd49337",
   "metadata": {
    "id": "1a1cf8a2-cc14-442f-8f50-e6bfebd49337"
   },
   "outputs": [],
   "source": [
    "merged_df99 = pd.get_dummies(merged_df54, columns=['v99'], drop_first=True)"
   ]
  },
  {
   "cell_type": "code",
   "execution_count": null,
   "id": "d49e5f7d-3f16-4697-8b94-676096e485d9",
   "metadata": {
    "id": "d49e5f7d-3f16-4697-8b94-676096e485d9",
    "outputId": "af0c7b2c-e32a-40f4-d4e5-9eb3b33c7fae"
   },
   "outputs": [
    {
     "data": {
      "text/plain": [
       "Index(['target_slot', 'CUSTOMER_CODE', 'v5', 'v24', 'v32', 'v39', 'v40', 'v41',\n",
       "       'v44', 'v45',\n",
       "       ...\n",
       "       'v36_FINNONE', 'v36_MDM', 'v36_MDM_CORP', 'v43_OTHERS', 'v43_SINGLE',\n",
       "       'v43_UNMARRIED', 'v54_Female', 'v54_Male', 'v99_and', 'v99_ios'],\n",
       "      dtype='object', length=137)"
      ]
     },
     "execution_count": 48,
     "metadata": {},
     "output_type": "execute_result"
    }
   ],
   "source": [
    "merged_df99.columns"
   ]
  },
  {
   "cell_type": "markdown",
   "id": "d3056b24-ced2-4ba2-91d1-671d626bff45",
   "metadata": {
    "id": "d3056b24-ced2-4ba2-91d1-671d626bff45",
    "jp-MarkdownHeadingCollapsed": true
   },
   "source": [
    "#### V101"
   ]
  },
  {
   "cell_type": "code",
   "execution_count": null,
   "id": "9dd13da5-5ba3-4884-a418-0533e2cfe237",
   "metadata": {
    "id": "9dd13da5-5ba3-4884-a418-0533e2cfe237",
    "outputId": "93d2362f-9817-49fd-ba1b-60f27a76b508"
   },
   "outputs": [
    {
     "data": {
      "text/plain": [
       "array(['Tier 1', nan, 'Tier 5', 'Tier 7', 'Rural', 'Tier 2', 'Tier 6',\n",
       "       'Tier 8', 'Tier 4', 'Tier 3'], dtype=object)"
      ]
     },
     "execution_count": 49,
     "metadata": {},
     "output_type": "execute_result"
    }
   ],
   "source": [
    "merged_df99['v101'].unique()"
   ]
  },
  {
   "cell_type": "code",
   "execution_count": null,
   "id": "6faa66d4-a030-4594-bed6-86635e3b1f1d",
   "metadata": {
    "id": "6faa66d4-a030-4594-bed6-86635e3b1f1d",
    "outputId": "cd4f222e-fe5e-438c-e59d-430c6ccf31ec"
   },
   "outputs": [
    {
     "data": {
      "text/plain": [
       "v101\n",
       "Tier 1    274965\n",
       "Rural      75706\n",
       "Tier 3     53869\n",
       "Tier 8     53062\n",
       "Tier 2     47496\n",
       "Tier 7     43387\n",
       "Tier 6     37176\n",
       "Tier 5     27699\n",
       "Tier 4     15390\n",
       "Name: count, dtype: int64"
      ]
     },
     "execution_count": 50,
     "metadata": {},
     "output_type": "execute_result"
    }
   ],
   "source": [
    "most_frequent_count = merged_df99['v101'].value_counts()\n",
    "most_frequent_count"
   ]
  },
  {
   "cell_type": "code",
   "execution_count": null,
   "id": "b8ab3db6-b7c3-42cd-8cf3-5886b94aa185",
   "metadata": {
    "id": "b8ab3db6-b7c3-42cd-8cf3-5886b94aa185",
    "outputId": "66923ced-4892-443c-8b4f-da9a890677db"
   },
   "outputs": [
    {
     "data": {
      "text/plain": [
       "16303"
      ]
     },
     "execution_count": 51,
     "metadata": {},
     "output_type": "execute_result"
    }
   ],
   "source": [
    "merged_df99['v101'].isnull().sum()"
   ]
  },
  {
   "cell_type": "code",
   "execution_count": null,
   "id": "81a71f70-9f43-4a42-85ba-1d662520e7c0",
   "metadata": {
    "id": "81a71f70-9f43-4a42-85ba-1d662520e7c0"
   },
   "outputs": [],
   "source": [
    "merged_df99['v101'] = merged_df99['v101'].fillna(\"Tier 1\")"
   ]
  },
  {
   "cell_type": "code",
   "execution_count": null,
   "id": "9975f07a-2bbf-46a3-bb9e-e1c429696565",
   "metadata": {
    "id": "9975f07a-2bbf-46a3-bb9e-e1c429696565"
   },
   "outputs": [],
   "source": [
    "merged_df101 = pd.get_dummies(merged_df99, columns=['v101'], drop_first=False)"
   ]
  },
  {
   "cell_type": "code",
   "execution_count": null,
   "id": "12dbb487-95b8-4e6a-8686-a3fde4ea2263",
   "metadata": {
    "id": "12dbb487-95b8-4e6a-8686-a3fde4ea2263",
    "outputId": "012d683b-6d41-45bd-9049-c2fb91d3af96"
   },
   "outputs": [
    {
     "data": {
      "text/plain": [
       "Index(['target_slot', 'CUSTOMER_CODE', 'v5', 'v24', 'v32', 'v39', 'v40', 'v41',\n",
       "       'v44', 'v45',\n",
       "       ...\n",
       "       'v99_and', 'v99_ios', 'v101_Rural', 'v101_Tier 1', 'v101_Tier 2',\n",
       "       'v101_Tier 3', 'v101_Tier 4', 'v101_Tier 5', 'v101_Tier 6',\n",
       "       'v101_Tier 7'],\n",
       "      dtype='object', length=144)"
      ]
     },
     "execution_count": 54,
     "metadata": {},
     "output_type": "execute_result"
    }
   ],
   "source": [
    "merged_df101=merged_df101.drop(columns=['v101_Tier 8'])\n",
    "merged_df101.columns"
   ]
  },
  {
   "cell_type": "markdown",
   "id": "db6275cf-9873-4fef-91be-7c24b2ead29e",
   "metadata": {
    "id": "db6275cf-9873-4fef-91be-7c24b2ead29e",
    "jp-MarkdownHeadingCollapsed": true
   },
   "source": [
    "#### V278"
   ]
  },
  {
   "cell_type": "code",
   "execution_count": null,
   "id": "ee8b81f7-7779-419b-b814-3c5ddc41a5c9",
   "metadata": {
    "id": "ee8b81f7-7779-419b-b814-3c5ddc41a5c9",
    "outputId": "9939acca-3d96-4b68-8cec-f75c370d03c7"
   },
   "outputs": [
    {
     "data": {
      "text/plain": [
       "array(['MORNING', nan, 'EVENING'], dtype=object)"
      ]
     },
     "execution_count": 55,
     "metadata": {},
     "output_type": "execute_result"
    }
   ],
   "source": [
    "merged_df101['v278'].unique()"
   ]
  },
  {
   "cell_type": "code",
   "execution_count": null,
   "id": "075b150a-6b4f-4270-b913-16f8b117e17e",
   "metadata": {
    "id": "075b150a-6b4f-4270-b913-16f8b117e17e",
    "outputId": "f574d578-f40e-43e4-8750-fac562ebe0d2"
   },
   "outputs": [
    {
     "data": {
      "text/plain": [
       "191291"
      ]
     },
     "execution_count": 56,
     "metadata": {},
     "output_type": "execute_result"
    }
   ],
   "source": [
    "merged_df101['v278'].isnull().sum()"
   ]
  },
  {
   "cell_type": "code",
   "execution_count": null,
   "id": "efcfa8b6-03ed-4742-b921-cdeb8b387271",
   "metadata": {
    "id": "efcfa8b6-03ed-4742-b921-cdeb8b387271"
   },
   "outputs": [],
   "source": [
    "merged_df101['v278'] = merged_df101['v278'].fillna(\"Other\")"
   ]
  },
  {
   "cell_type": "code",
   "execution_count": null,
   "id": "8534b766-c4a5-41c4-9be8-15d04c63887f",
   "metadata": {
    "id": "8534b766-c4a5-41c4-9be8-15d04c63887f"
   },
   "outputs": [],
   "source": [
    "merged_df278 = pd.get_dummies(merged_df101, columns=['v278'], drop_first=False)"
   ]
  },
  {
   "cell_type": "code",
   "execution_count": null,
   "id": "06ab6b85-2395-43c9-aade-0f3ba03b6b61",
   "metadata": {
    "id": "06ab6b85-2395-43c9-aade-0f3ba03b6b61",
    "outputId": "a1b75a16-ce69-48ee-caa7-249ac6702450"
   },
   "outputs": [
    {
     "data": {
      "text/plain": [
       "Index(['target_slot', 'CUSTOMER_CODE', 'v5', 'v24', 'v32', 'v39', 'v40', 'v41',\n",
       "       'v44', 'v45',\n",
       "       ...\n",
       "       'v101_Rural', 'v101_Tier 1', 'v101_Tier 2', 'v101_Tier 3',\n",
       "       'v101_Tier 4', 'v101_Tier 5', 'v101_Tier 6', 'v101_Tier 7',\n",
       "       'v278_EVENING', 'v278_MORNING'],\n",
       "      dtype='object', length=145)"
      ]
     },
     "execution_count": 59,
     "metadata": {},
     "output_type": "execute_result"
    }
   ],
   "source": [
    "merged_df278=merged_df278.drop(columns=['v278_Other'])\n",
    "merged_df278.columns"
   ]
  },
  {
   "cell_type": "markdown",
   "id": "aa1ef732-81fd-4fe2-8e0e-f8d8c78801d4",
   "metadata": {
    "id": "aa1ef732-81fd-4fe2-8e0e-f8d8c78801d4"
   },
   "source": [
    "#### V286"
   ]
  },
  {
   "cell_type": "code",
   "execution_count": null,
   "id": "5422d256-fc40-4391-9500-4edb258ef52e",
   "metadata": {
    "id": "5422d256-fc40-4391-9500-4edb258ef52e",
    "outputId": "359103f3-64ac-480e-fa4a-335dc10cf63e"
   },
   "outputs": [
    {
     "data": {
      "text/plain": [
       "array(['WEEKEND', nan, 'WEEKDAY', 'FRIDAY'], dtype=object)"
      ]
     },
     "execution_count": 60,
     "metadata": {},
     "output_type": "execute_result"
    }
   ],
   "source": [
    "merged_df278['v286'].unique()"
   ]
  },
  {
   "cell_type": "code",
   "execution_count": null,
   "id": "faa7252f-4d3c-4cad-ae2a-74577bdba140",
   "metadata": {
    "id": "faa7252f-4d3c-4cad-ae2a-74577bdba140",
    "outputId": "2a17e915-b626-444f-9170-6f6a44de9ac1"
   },
   "outputs": [
    {
     "data": {
      "text/plain": [
       "191291"
      ]
     },
     "execution_count": 61,
     "metadata": {},
     "output_type": "execute_result"
    }
   ],
   "source": [
    "merged_df278['v286'].isnull().sum()"
   ]
  },
  {
   "cell_type": "code",
   "execution_count": null,
   "id": "ccb0e022-e26e-4f2c-8434-468be4784243",
   "metadata": {
    "id": "ccb0e022-e26e-4f2c-8434-468be4784243",
    "outputId": "0cdc5620-e89a-4f7e-a230-d6ee940a31cb"
   },
   "outputs": [
    {
     "data": {
      "text/plain": [
       "v286\n",
       "WEEKEND    359052\n",
       "WEEKDAY     83258\n",
       "FRIDAY      11452\n",
       "Name: count, dtype: int64"
      ]
     },
     "execution_count": 62,
     "metadata": {},
     "output_type": "execute_result"
    }
   ],
   "source": [
    "most_frequent_count = merged_df278['v286'].value_counts()\n",
    "most_frequent_count"
   ]
  },
  {
   "cell_type": "code",
   "execution_count": null,
   "id": "b4b46fcf-d4e3-42ee-8b11-9d30428fc3f2",
   "metadata": {
    "id": "b4b46fcf-d4e3-42ee-8b11-9d30428fc3f2"
   },
   "outputs": [],
   "source": [
    "merged_df278['v286'] = merged_df278['v286'].fillna(\"Other\")"
   ]
  },
  {
   "cell_type": "code",
   "execution_count": null,
   "id": "e9c589da-c111-41f6-8291-0237d6dba43a",
   "metadata": {
    "id": "e9c589da-c111-41f6-8291-0237d6dba43a"
   },
   "outputs": [],
   "source": [
    "merged_df286 = pd.get_dummies(merged_df278, columns=['v286'], drop_first=False)"
   ]
  },
  {
   "cell_type": "code",
   "execution_count": null,
   "id": "902fdda6-5478-4612-80fd-7ea8c7b39119",
   "metadata": {
    "id": "902fdda6-5478-4612-80fd-7ea8c7b39119",
    "outputId": "648c8314-a9f3-4bc9-d639-bb6ae605c4ac"
   },
   "outputs": [
    {
     "data": {
      "text/plain": [
       "Index(['target_slot', 'CUSTOMER_CODE', 'v5', 'v24', 'v32', 'v39', 'v40', 'v41',\n",
       "       'v44', 'v45',\n",
       "       ...\n",
       "       'v101_Tier 3', 'v101_Tier 4', 'v101_Tier 5', 'v101_Tier 6',\n",
       "       'v101_Tier 7', 'v278_EVENING', 'v278_MORNING', 'v286_FRIDAY',\n",
       "       'v286_WEEKDAY', 'v286_WEEKEND'],\n",
       "      dtype='object', length=147)"
      ]
     },
     "execution_count": 65,
     "metadata": {},
     "output_type": "execute_result"
    }
   ],
   "source": [
    "merged_df286=merged_df286.drop(columns=['v286_Other'])\n",
    "merged_df286.columns"
   ]
  },
  {
   "cell_type": "code",
   "execution_count": null,
   "id": "a557fbcf-6682-4004-9acd-4f695f4434f6",
   "metadata": {
    "id": "a557fbcf-6682-4004-9acd-4f695f4434f6",
    "outputId": "c3ce5574-b5c9-4c6d-df42-08dd8d921278"
   },
   "outputs": [
    {
     "data": {
      "text/plain": [
       "Index(['v39', 'v40', 'v41', 'v45', 'v49', 'v50', 'v51', 'v52', 'v53',\n",
       "       'v36_FINNONE', 'v36_MDM', 'v36_MDM_CORP', 'v43_OTHERS', 'v43_SINGLE',\n",
       "       'v43_UNMARRIED', 'v54_Female', 'v54_Male', 'v99_and', 'v99_ios',\n",
       "       'v101_Rural', 'v101_Tier 1', 'v101_Tier 2', 'v101_Tier 3',\n",
       "       'v101_Tier 4', 'v101_Tier 5', 'v101_Tier 6', 'v101_Tier 7',\n",
       "       'v278_EVENING', 'v278_MORNING', 'v286_FRIDAY', 'v286_WEEKDAY',\n",
       "       'v286_WEEKEND'],\n",
       "      dtype='object')"
      ]
     },
     "execution_count": 66,
     "metadata": {},
     "output_type": "execute_result"
    }
   ],
   "source": [
    "bool_columns = merged_df286.select_dtypes(include='bool').columns\n",
    "bool_columns"
   ]
  },
  {
   "cell_type": "code",
   "execution_count": null,
   "id": "a2459e50-225d-468b-b693-ba2024f8b674",
   "metadata": {
    "id": "a2459e50-225d-468b-b693-ba2024f8b674"
   },
   "outputs": [],
   "source": [
    "merged_df286[bool_columns] =  merged_df286[bool_columns].astype(int)"
   ]
  },
  {
   "cell_type": "code",
   "execution_count": null,
   "id": "74dde272-4964-4565-ab41-e10d9be4e643",
   "metadata": {
    "id": "74dde272-4964-4565-ab41-e10d9be4e643",
    "outputId": "60e1b2b5-8956-463a-b5e1-30738e00081f"
   },
   "outputs": [
    {
     "data": {
      "text/html": [
       "<div>\n",
       "<style scoped>\n",
       "    .dataframe tbody tr th:only-of-type {\n",
       "        vertical-align: middle;\n",
       "    }\n",
       "\n",
       "    .dataframe tbody tr th {\n",
       "        vertical-align: top;\n",
       "    }\n",
       "\n",
       "    .dataframe thead th {\n",
       "        text-align: right;\n",
       "    }\n",
       "</style>\n",
       "<table border=\"1\" class=\"dataframe\">\n",
       "  <thead>\n",
       "    <tr style=\"text-align: right;\">\n",
       "      <th></th>\n",
       "      <th>target_slot</th>\n",
       "      <th>v5</th>\n",
       "      <th>v24</th>\n",
       "      <th>v32</th>\n",
       "      <th>v39</th>\n",
       "      <th>v40</th>\n",
       "      <th>v41</th>\n",
       "      <th>v44</th>\n",
       "      <th>v45</th>\n",
       "      <th>v49</th>\n",
       "      <th>...</th>\n",
       "      <th>v101_Tier 3</th>\n",
       "      <th>v101_Tier 4</th>\n",
       "      <th>v101_Tier 5</th>\n",
       "      <th>v101_Tier 6</th>\n",
       "      <th>v101_Tier 7</th>\n",
       "      <th>v278_EVENING</th>\n",
       "      <th>v278_MORNING</th>\n",
       "      <th>v286_FRIDAY</th>\n",
       "      <th>v286_WEEKDAY</th>\n",
       "      <th>v286_WEEKEND</th>\n",
       "    </tr>\n",
       "  </thead>\n",
       "  <tbody>\n",
       "    <tr>\n",
       "      <th>count</th>\n",
       "      <td>645053.000000</td>\n",
       "      <td>645053.000000</td>\n",
       "      <td>645053.000000</td>\n",
       "      <td>645053.000000</td>\n",
       "      <td>645053.0</td>\n",
       "      <td>645053.0</td>\n",
       "      <td>645053.0</td>\n",
       "      <td>645053.000000</td>\n",
       "      <td>645053.000000</td>\n",
       "      <td>645053.000000</td>\n",
       "      <td>...</td>\n",
       "      <td>645053.000000</td>\n",
       "      <td>645053.000000</td>\n",
       "      <td>645053.000000</td>\n",
       "      <td>645053.000000</td>\n",
       "      <td>645053.000000</td>\n",
       "      <td>645053.000000</td>\n",
       "      <td>645053.000000</td>\n",
       "      <td>645053.000000</td>\n",
       "      <td>645053.000000</td>\n",
       "      <td>645053.000000</td>\n",
       "    </tr>\n",
       "    <tr>\n",
       "      <th>mean</th>\n",
       "      <td>14.277128</td>\n",
       "      <td>98.766588</td>\n",
       "      <td>0.041170</td>\n",
       "      <td>54.087925</td>\n",
       "      <td>0.0</td>\n",
       "      <td>0.0</td>\n",
       "      <td>0.0</td>\n",
       "      <td>3.687821</td>\n",
       "      <td>0.933968</td>\n",
       "      <td>0.016580</td>\n",
       "      <td>...</td>\n",
       "      <td>0.083511</td>\n",
       "      <td>0.023859</td>\n",
       "      <td>0.042941</td>\n",
       "      <td>0.057632</td>\n",
       "      <td>0.067261</td>\n",
       "      <td>0.056902</td>\n",
       "      <td>0.646547</td>\n",
       "      <td>0.017754</td>\n",
       "      <td>0.129072</td>\n",
       "      <td>0.556624</td>\n",
       "    </tr>\n",
       "    <tr>\n",
       "      <th>std</th>\n",
       "      <td>6.920785</td>\n",
       "      <td>3.964724</td>\n",
       "      <td>0.198684</td>\n",
       "      <td>67.667081</td>\n",
       "      <td>0.0</td>\n",
       "      <td>0.0</td>\n",
       "      <td>0.0</td>\n",
       "      <td>0.622331</td>\n",
       "      <td>0.248338</td>\n",
       "      <td>0.127692</td>\n",
       "      <td>...</td>\n",
       "      <td>0.276653</td>\n",
       "      <td>0.152608</td>\n",
       "      <td>0.202724</td>\n",
       "      <td>0.233047</td>\n",
       "      <td>0.250474</td>\n",
       "      <td>0.231656</td>\n",
       "      <td>0.478042</td>\n",
       "      <td>0.132055</td>\n",
       "      <td>0.335279</td>\n",
       "      <td>0.496784</td>\n",
       "    </tr>\n",
       "    <tr>\n",
       "      <th>min</th>\n",
       "      <td>1.000000</td>\n",
       "      <td>1.000000</td>\n",
       "      <td>0.000000</td>\n",
       "      <td>1.000000</td>\n",
       "      <td>0.0</td>\n",
       "      <td>0.0</td>\n",
       "      <td>0.0</td>\n",
       "      <td>1.000000</td>\n",
       "      <td>0.000000</td>\n",
       "      <td>0.000000</td>\n",
       "      <td>...</td>\n",
       "      <td>0.000000</td>\n",
       "      <td>0.000000</td>\n",
       "      <td>0.000000</td>\n",
       "      <td>0.000000</td>\n",
       "      <td>0.000000</td>\n",
       "      <td>0.000000</td>\n",
       "      <td>0.000000</td>\n",
       "      <td>0.000000</td>\n",
       "      <td>0.000000</td>\n",
       "      <td>0.000000</td>\n",
       "    </tr>\n",
       "    <tr>\n",
       "      <th>25%</th>\n",
       "      <td>9.000000</td>\n",
       "      <td>99.000000</td>\n",
       "      <td>0.000000</td>\n",
       "      <td>29.000000</td>\n",
       "      <td>0.0</td>\n",
       "      <td>0.0</td>\n",
       "      <td>0.0</td>\n",
       "      <td>4.000000</td>\n",
       "      <td>1.000000</td>\n",
       "      <td>0.000000</td>\n",
       "      <td>...</td>\n",
       "      <td>0.000000</td>\n",
       "      <td>0.000000</td>\n",
       "      <td>0.000000</td>\n",
       "      <td>0.000000</td>\n",
       "      <td>0.000000</td>\n",
       "      <td>0.000000</td>\n",
       "      <td>0.000000</td>\n",
       "      <td>0.000000</td>\n",
       "      <td>0.000000</td>\n",
       "      <td>0.000000</td>\n",
       "    </tr>\n",
       "    <tr>\n",
       "      <th>50%</th>\n",
       "      <td>14.000000</td>\n",
       "      <td>99.000000</td>\n",
       "      <td>0.000000</td>\n",
       "      <td>50.000000</td>\n",
       "      <td>0.0</td>\n",
       "      <td>0.0</td>\n",
       "      <td>0.0</td>\n",
       "      <td>4.000000</td>\n",
       "      <td>1.000000</td>\n",
       "      <td>0.000000</td>\n",
       "      <td>...</td>\n",
       "      <td>0.000000</td>\n",
       "      <td>0.000000</td>\n",
       "      <td>0.000000</td>\n",
       "      <td>0.000000</td>\n",
       "      <td>0.000000</td>\n",
       "      <td>0.000000</td>\n",
       "      <td>1.000000</td>\n",
       "      <td>0.000000</td>\n",
       "      <td>0.000000</td>\n",
       "      <td>1.000000</td>\n",
       "    </tr>\n",
       "    <tr>\n",
       "      <th>75%</th>\n",
       "      <td>19.000000</td>\n",
       "      <td>99.000000</td>\n",
       "      <td>0.000000</td>\n",
       "      <td>60.000000</td>\n",
       "      <td>0.0</td>\n",
       "      <td>0.0</td>\n",
       "      <td>0.0</td>\n",
       "      <td>4.000000</td>\n",
       "      <td>1.000000</td>\n",
       "      <td>0.000000</td>\n",
       "      <td>...</td>\n",
       "      <td>0.000000</td>\n",
       "      <td>0.000000</td>\n",
       "      <td>0.000000</td>\n",
       "      <td>0.000000</td>\n",
       "      <td>0.000000</td>\n",
       "      <td>0.000000</td>\n",
       "      <td>1.000000</td>\n",
       "      <td>0.000000</td>\n",
       "      <td>0.000000</td>\n",
       "      <td>1.000000</td>\n",
       "    </tr>\n",
       "    <tr>\n",
       "      <th>max</th>\n",
       "      <td>28.000000</td>\n",
       "      <td>99.000000</td>\n",
       "      <td>1.000000</td>\n",
       "      <td>979.000000</td>\n",
       "      <td>0.0</td>\n",
       "      <td>0.0</td>\n",
       "      <td>0.0</td>\n",
       "      <td>4.000000</td>\n",
       "      <td>1.000000</td>\n",
       "      <td>1.000000</td>\n",
       "      <td>...</td>\n",
       "      <td>1.000000</td>\n",
       "      <td>1.000000</td>\n",
       "      <td>1.000000</td>\n",
       "      <td>1.000000</td>\n",
       "      <td>1.000000</td>\n",
       "      <td>1.000000</td>\n",
       "      <td>1.000000</td>\n",
       "      <td>1.000000</td>\n",
       "      <td>1.000000</td>\n",
       "      <td>1.000000</td>\n",
       "    </tr>\n",
       "  </tbody>\n",
       "</table>\n",
       "<p>8 rows × 145 columns</p>\n",
       "</div>"
      ],
      "text/plain": [
       "         target_slot             v5            v24            v32       v39  \\\n",
       "count  645053.000000  645053.000000  645053.000000  645053.000000  645053.0   \n",
       "mean       14.277128      98.766588       0.041170      54.087925       0.0   \n",
       "std         6.920785       3.964724       0.198684      67.667081       0.0   \n",
       "min         1.000000       1.000000       0.000000       1.000000       0.0   \n",
       "25%         9.000000      99.000000       0.000000      29.000000       0.0   \n",
       "50%        14.000000      99.000000       0.000000      50.000000       0.0   \n",
       "75%        19.000000      99.000000       0.000000      60.000000       0.0   \n",
       "max        28.000000      99.000000       1.000000     979.000000       0.0   \n",
       "\n",
       "            v40       v41            v44            v45            v49  ...  \\\n",
       "count  645053.0  645053.0  645053.000000  645053.000000  645053.000000  ...   \n",
       "mean        0.0       0.0       3.687821       0.933968       0.016580  ...   \n",
       "std         0.0       0.0       0.622331       0.248338       0.127692  ...   \n",
       "min         0.0       0.0       1.000000       0.000000       0.000000  ...   \n",
       "25%         0.0       0.0       4.000000       1.000000       0.000000  ...   \n",
       "50%         0.0       0.0       4.000000       1.000000       0.000000  ...   \n",
       "75%         0.0       0.0       4.000000       1.000000       0.000000  ...   \n",
       "max         0.0       0.0       4.000000       1.000000       1.000000  ...   \n",
       "\n",
       "         v101_Tier 3    v101_Tier 4    v101_Tier 5    v101_Tier 6  \\\n",
       "count  645053.000000  645053.000000  645053.000000  645053.000000   \n",
       "mean        0.083511       0.023859       0.042941       0.057632   \n",
       "std         0.276653       0.152608       0.202724       0.233047   \n",
       "min         0.000000       0.000000       0.000000       0.000000   \n",
       "25%         0.000000       0.000000       0.000000       0.000000   \n",
       "50%         0.000000       0.000000       0.000000       0.000000   \n",
       "75%         0.000000       0.000000       0.000000       0.000000   \n",
       "max         1.000000       1.000000       1.000000       1.000000   \n",
       "\n",
       "         v101_Tier 7   v278_EVENING   v278_MORNING    v286_FRIDAY  \\\n",
       "count  645053.000000  645053.000000  645053.000000  645053.000000   \n",
       "mean        0.067261       0.056902       0.646547       0.017754   \n",
       "std         0.250474       0.231656       0.478042       0.132055   \n",
       "min         0.000000       0.000000       0.000000       0.000000   \n",
       "25%         0.000000       0.000000       0.000000       0.000000   \n",
       "50%         0.000000       0.000000       1.000000       0.000000   \n",
       "75%         0.000000       0.000000       1.000000       0.000000   \n",
       "max         1.000000       1.000000       1.000000       1.000000   \n",
       "\n",
       "        v286_WEEKDAY   v286_WEEKEND  \n",
       "count  645053.000000  645053.000000  \n",
       "mean        0.129072       0.556624  \n",
       "std         0.335279       0.496784  \n",
       "min         0.000000       0.000000  \n",
       "25%         0.000000       0.000000  \n",
       "50%         0.000000       1.000000  \n",
       "75%         0.000000       1.000000  \n",
       "max         1.000000       1.000000  \n",
       "\n",
       "[8 rows x 145 columns]"
      ]
     },
     "execution_count": 68,
     "metadata": {},
     "output_type": "execute_result"
    }
   ],
   "source": [
    "describe_df=pd.DataFrame(merged_df286.describe())\n",
    "describe_df"
   ]
  },
  {
   "cell_type": "code",
   "execution_count": null,
   "id": "82545103-709f-4082-9896-81b4d649bb8b",
   "metadata": {
    "id": "82545103-709f-4082-9896-81b4d649bb8b",
    "outputId": "30a5c088-e9f7-48f1-8b2f-16bddb4ca729"
   },
   "outputs": [
    {
     "data": {
      "text/plain": [
       "(645053, 147)"
      ]
     },
     "execution_count": 69,
     "metadata": {},
     "output_type": "execute_result"
    }
   ],
   "source": [
    "merged_df286.shape"
   ]
  },
  {
   "cell_type": "code",
   "execution_count": null,
   "id": "49b3fa13-a808-4665-bb0a-ea10eb449e6e",
   "metadata": {
    "id": "49b3fa13-a808-4665-bb0a-ea10eb449e6e",
    "outputId": "c9e27cc9-cc47-4791-e09c-acaaae79bbae",
    "scrolled": true
   },
   "outputs": [
    {
     "name": "stdout",
     "output_type": "stream",
     "text": [
      "target_slot\n",
      "CUSTOMER_CODE\n",
      "v5\n",
      "v24\n",
      "v32\n",
      "v39\n",
      "v40\n",
      "v41\n",
      "v44\n",
      "v45\n",
      "v49\n",
      "v50\n",
      "v51\n",
      "v52\n",
      "v53\n",
      "v63\n",
      "v65\n",
      "v77\n",
      "v79\n",
      "v80\n",
      "v82\n",
      "v83\n",
      "v84\n",
      "v86\n",
      "v87\n",
      "v88\n",
      "v89\n",
      "v90\n",
      "v91\n",
      "v92\n",
      "v93\n",
      "v94\n",
      "v95\n",
      "v96\n",
      "v97\n",
      "v98\n",
      "v100\n",
      "v104\n",
      "v105\n",
      "v106\n",
      "v107\n",
      "v108\n",
      "v109\n",
      "v128\n",
      "v129\n",
      "v130\n",
      "v131\n",
      "v132\n",
      "v133\n",
      "v137\n",
      "v138\n",
      "v139\n",
      "v143\n",
      "v144\n",
      "v145\n",
      "v161\n",
      "v162\n",
      "v183\n",
      "v184\n",
      "v185\n",
      "v186\n",
      "v203\n",
      "v204\n",
      "v205\n",
      "v206\n",
      "v207\n",
      "v208\n",
      "v209\n",
      "v224\n",
      "v225\n",
      "v226\n",
      "v227\n",
      "v228\n",
      "v231\n",
      "v232\n",
      "v233\n",
      "v234\n",
      "v235\n",
      "v236\n",
      "v237\n",
      "v238\n",
      "v239\n",
      "v240\n",
      "v241\n",
      "v243\n",
      "v244\n",
      "v252\n",
      "v253\n",
      "v254\n",
      "v255\n",
      "v256\n",
      "v257\n",
      "v258\n",
      "v259\n",
      "v260\n",
      "v261\n",
      "v262\n",
      "v263\n",
      "v264\n",
      "v265\n",
      "v266\n",
      "v267\n",
      "v268\n",
      "v269\n",
      "v270\n",
      "v287\n",
      "v288\n",
      "v289\n",
      "v290\n",
      "v291\n",
      "v292\n",
      "v293\n",
      "v294\n",
      "v295\n",
      "v296\n",
      "v297\n",
      "v298\n",
      "v299\n",
      "v300\n",
      "v301\n",
      "v302\n",
      "batch_date\n",
      "age_mean\n",
      "v63_encoded\n",
      "v36_FINNONE\n",
      "v36_MDM\n",
      "v36_MDM_CORP\n",
      "v43_OTHERS\n",
      "v43_SINGLE\n",
      "v43_UNMARRIED\n",
      "v54_Female\n",
      "v54_Male\n",
      "v99_and\n",
      "v99_ios\n",
      "v101_Rural\n",
      "v101_Tier 1\n",
      "v101_Tier 2\n",
      "v101_Tier 3\n",
      "v101_Tier 4\n",
      "v101_Tier 5\n",
      "v101_Tier 6\n",
      "v101_Tier 7\n",
      "v278_EVENING\n",
      "v278_MORNING\n",
      "v286_FRIDAY\n",
      "v286_WEEKDAY\n",
      "v286_WEEKEND\n"
     ]
    }
   ],
   "source": [
    "for x in merged_df286.columns:\n",
    "    print(x)"
   ]
  },
  {
   "cell_type": "code",
   "execution_count": null,
   "id": "adde6291-fae4-4c5e-807e-b2401d807ff8",
   "metadata": {
    "id": "adde6291-fae4-4c5e-807e-b2401d807ff8"
   },
   "outputs": [],
   "source": [
    "null_count=pd.DataFrame(merged_df286.isnull().sum())\n",
    "null_count.columns=['count']\n",
    "for index, row in null_count.iterrows():\n",
    "    for col_name in null_count.columns:\n",
    "        if (row[col_name]!=0):\n",
    "            print(index,row[col_name])"
   ]
  },
  {
   "cell_type": "code",
   "execution_count": null,
   "id": "5062f057-f4bf-4356-8bcb-2c116ea82830",
   "metadata": {
    "id": "5062f057-f4bf-4356-8bcb-2c116ea82830",
    "outputId": "8528f7e5-4126-4f2d-f2c9-aa613c833dcf",
    "scrolled": true
   },
   "outputs": [
    {
     "name": "stdout",
     "output_type": "stream",
     "text": [
      "target_slot\n",
      "CUSTOMER_CODE\n",
      "v5\n",
      "v24\n",
      "v32\n",
      "v39\n",
      "v40\n",
      "v41\n",
      "v44\n",
      "v45\n",
      "v49\n",
      "v50\n",
      "v51\n",
      "v52\n",
      "v53\n",
      "v63\n",
      "v65\n",
      "v77\n",
      "v79\n",
      "v80\n",
      "v82\n",
      "v83\n",
      "v84\n",
      "v86\n",
      "v87\n",
      "v88\n",
      "v89\n",
      "v90\n",
      "v91\n",
      "v92\n",
      "v93\n",
      "v94\n",
      "v95\n",
      "v96\n",
      "v97\n",
      "v98\n",
      "v100\n",
      "v104\n",
      "v105\n",
      "v106\n",
      "v107\n",
      "v108\n",
      "v109\n",
      "v128\n",
      "v129\n",
      "v130\n",
      "v131\n",
      "v132\n",
      "v133\n",
      "v137\n",
      "v138\n",
      "v139\n",
      "v143\n",
      "v144\n",
      "v145\n",
      "v161\n",
      "v162\n",
      "v183\n",
      "v184\n",
      "v185\n",
      "v186\n",
      "v203\n",
      "v204\n",
      "v205\n",
      "v206\n",
      "v207\n",
      "v208\n",
      "v209\n",
      "v224\n",
      "v225\n",
      "v226\n",
      "v227\n",
      "v228\n",
      "v231\n",
      "v232\n",
      "v233\n",
      "v234\n",
      "v235\n",
      "v236\n",
      "v237\n",
      "v238\n",
      "v239\n",
      "v240\n",
      "v241\n",
      "v243\n",
      "v244\n",
      "v252\n",
      "v253\n",
      "v254\n",
      "v255\n",
      "v256\n",
      "v257\n",
      "v258\n",
      "v259\n",
      "v260\n",
      "v261\n",
      "v262\n",
      "v263\n",
      "v264\n",
      "v265\n",
      "v266\n",
      "v267\n",
      "v268\n",
      "v269\n",
      "v270\n",
      "v287\n",
      "v288\n",
      "v289\n",
      "v290\n",
      "v291\n",
      "v292\n",
      "v293\n",
      "v294\n",
      "v295\n",
      "v296\n",
      "v297\n",
      "v298\n",
      "v299\n",
      "v300\n",
      "v301\n",
      "v302\n",
      "batch_date\n",
      "age_mean\n",
      "v63_encoded\n",
      "v36_FINNONE\n",
      "v36_MDM\n",
      "v36_MDM_CORP\n",
      "v43_OTHERS\n",
      "v43_SINGLE\n",
      "v43_UNMARRIED\n",
      "v54_Female\n",
      "v54_Male\n",
      "v99_and\n",
      "v99_ios\n",
      "v101_Rural\n",
      "v101_Tier 1\n",
      "v101_Tier 2\n",
      "v101_Tier 3\n",
      "v101_Tier 4\n",
      "v101_Tier 5\n",
      "v101_Tier 6\n",
      "v101_Tier 7\n",
      "v278_EVENING\n",
      "v278_MORNING\n",
      "v286_FRIDAY\n",
      "v286_WEEKDAY\n",
      "v286_WEEKEND\n"
     ]
    }
   ],
   "source": [
    "for x in merged_df286.columns:\n",
    "    print(x)"
   ]
  },
  {
   "cell_type": "code",
   "execution_count": null,
   "id": "aa92b83b-dd92-4af6-904c-536923900bcf",
   "metadata": {
    "id": "aa92b83b-dd92-4af6-904c-536923900bcf",
    "outputId": "7e0bf80d-2607-44b5-a4d4-9f655baeb2ef"
   },
   "outputs": [
    {
     "data": {
      "text/html": [
       "<div>\n",
       "<style scoped>\n",
       "    .dataframe tbody tr th:only-of-type {\n",
       "        vertical-align: middle;\n",
       "    }\n",
       "\n",
       "    .dataframe tbody tr th {\n",
       "        vertical-align: top;\n",
       "    }\n",
       "\n",
       "    .dataframe thead th {\n",
       "        text-align: right;\n",
       "    }\n",
       "</style>\n",
       "<table border=\"1\" class=\"dataframe\">\n",
       "  <thead>\n",
       "    <tr style=\"text-align: right;\">\n",
       "      <th></th>\n",
       "      <th>target_slot</th>\n",
       "      <th>CUSTOMER_CODE</th>\n",
       "      <th>v5</th>\n",
       "      <th>v24</th>\n",
       "      <th>v32</th>\n",
       "      <th>v39</th>\n",
       "      <th>v40</th>\n",
       "      <th>v41</th>\n",
       "      <th>v44</th>\n",
       "      <th>v45</th>\n",
       "      <th>...</th>\n",
       "      <th>v101_Tier 3</th>\n",
       "      <th>v101_Tier 4</th>\n",
       "      <th>v101_Tier 5</th>\n",
       "      <th>v101_Tier 6</th>\n",
       "      <th>v101_Tier 7</th>\n",
       "      <th>v278_EVENING</th>\n",
       "      <th>v278_MORNING</th>\n",
       "      <th>v286_FRIDAY</th>\n",
       "      <th>v286_WEEKDAY</th>\n",
       "      <th>v286_WEEKEND</th>\n",
       "    </tr>\n",
       "  </thead>\n",
       "  <tbody>\n",
       "    <tr>\n",
       "      <th>0</th>\n",
       "      <td>19</td>\n",
       "      <td>00006eb623a7a335fb6fa7334939cca08c75e80e44e404...</td>\n",
       "      <td>99.0</td>\n",
       "      <td>0.0</td>\n",
       "      <td>7.0</td>\n",
       "      <td>0</td>\n",
       "      <td>0</td>\n",
       "      <td>0</td>\n",
       "      <td>4.0</td>\n",
       "      <td>1</td>\n",
       "      <td>...</td>\n",
       "      <td>0</td>\n",
       "      <td>0</td>\n",
       "      <td>0</td>\n",
       "      <td>0</td>\n",
       "      <td>0</td>\n",
       "      <td>0</td>\n",
       "      <td>1</td>\n",
       "      <td>0</td>\n",
       "      <td>0</td>\n",
       "      <td>1</td>\n",
       "    </tr>\n",
       "    <tr>\n",
       "      <th>1</th>\n",
       "      <td>9</td>\n",
       "      <td>0000b844339117db33d8dcc6ca4e97a8c989a918c8cf01...</td>\n",
       "      <td>99.0</td>\n",
       "      <td>0.0</td>\n",
       "      <td>20.0</td>\n",
       "      <td>0</td>\n",
       "      <td>0</td>\n",
       "      <td>0</td>\n",
       "      <td>3.0</td>\n",
       "      <td>1</td>\n",
       "      <td>...</td>\n",
       "      <td>0</td>\n",
       "      <td>0</td>\n",
       "      <td>0</td>\n",
       "      <td>0</td>\n",
       "      <td>0</td>\n",
       "      <td>0</td>\n",
       "      <td>1</td>\n",
       "      <td>0</td>\n",
       "      <td>0</td>\n",
       "      <td>1</td>\n",
       "    </tr>\n",
       "    <tr>\n",
       "      <th>2</th>\n",
       "      <td>14</td>\n",
       "      <td>00021bdab2ed517d593cce06bffe6a002d6ad363048e61...</td>\n",
       "      <td>99.0</td>\n",
       "      <td>0.0</td>\n",
       "      <td>50.0</td>\n",
       "      <td>0</td>\n",
       "      <td>0</td>\n",
       "      <td>0</td>\n",
       "      <td>4.0</td>\n",
       "      <td>0</td>\n",
       "      <td>...</td>\n",
       "      <td>0</td>\n",
       "      <td>0</td>\n",
       "      <td>0</td>\n",
       "      <td>0</td>\n",
       "      <td>0</td>\n",
       "      <td>0</td>\n",
       "      <td>0</td>\n",
       "      <td>0</td>\n",
       "      <td>0</td>\n",
       "      <td>0</td>\n",
       "    </tr>\n",
       "    <tr>\n",
       "      <th>3</th>\n",
       "      <td>14</td>\n",
       "      <td>00064e0390f08b415acc060257dd29bfed915bb4ff4fef...</td>\n",
       "      <td>99.0</td>\n",
       "      <td>0.0</td>\n",
       "      <td>50.0</td>\n",
       "      <td>0</td>\n",
       "      <td>0</td>\n",
       "      <td>0</td>\n",
       "      <td>4.0</td>\n",
       "      <td>0</td>\n",
       "      <td>...</td>\n",
       "      <td>0</td>\n",
       "      <td>0</td>\n",
       "      <td>1</td>\n",
       "      <td>0</td>\n",
       "      <td>0</td>\n",
       "      <td>0</td>\n",
       "      <td>1</td>\n",
       "      <td>0</td>\n",
       "      <td>0</td>\n",
       "      <td>1</td>\n",
       "    </tr>\n",
       "    <tr>\n",
       "      <th>4</th>\n",
       "      <td>14</td>\n",
       "      <td>0007274f2cbe775d59dadbbde24d10f935f466af1ce03a...</td>\n",
       "      <td>99.0</td>\n",
       "      <td>0.0</td>\n",
       "      <td>50.0</td>\n",
       "      <td>0</td>\n",
       "      <td>0</td>\n",
       "      <td>0</td>\n",
       "      <td>4.0</td>\n",
       "      <td>1</td>\n",
       "      <td>...</td>\n",
       "      <td>0</td>\n",
       "      <td>0</td>\n",
       "      <td>0</td>\n",
       "      <td>0</td>\n",
       "      <td>0</td>\n",
       "      <td>0</td>\n",
       "      <td>1</td>\n",
       "      <td>0</td>\n",
       "      <td>0</td>\n",
       "      <td>1</td>\n",
       "    </tr>\n",
       "  </tbody>\n",
       "</table>\n",
       "<p>5 rows × 147 columns</p>\n",
       "</div>"
      ],
      "text/plain": [
       "   target_slot                                      CUSTOMER_CODE    v5  v24  \\\n",
       "0           19  00006eb623a7a335fb6fa7334939cca08c75e80e44e404...  99.0  0.0   \n",
       "1            9  0000b844339117db33d8dcc6ca4e97a8c989a918c8cf01...  99.0  0.0   \n",
       "2           14  00021bdab2ed517d593cce06bffe6a002d6ad363048e61...  99.0  0.0   \n",
       "3           14  00064e0390f08b415acc060257dd29bfed915bb4ff4fef...  99.0  0.0   \n",
       "4           14  0007274f2cbe775d59dadbbde24d10f935f466af1ce03a...  99.0  0.0   \n",
       "\n",
       "    v32  v39  v40  v41  v44  v45  ...  v101_Tier 3  v101_Tier 4  v101_Tier 5  \\\n",
       "0   7.0    0    0    0  4.0    1  ...            0            0            0   \n",
       "1  20.0    0    0    0  3.0    1  ...            0            0            0   \n",
       "2  50.0    0    0    0  4.0    0  ...            0            0            0   \n",
       "3  50.0    0    0    0  4.0    0  ...            0            0            1   \n",
       "4  50.0    0    0    0  4.0    1  ...            0            0            0   \n",
       "\n",
       "   v101_Tier 6  v101_Tier 7  v278_EVENING  v278_MORNING  v286_FRIDAY  \\\n",
       "0            0            0             0             1            0   \n",
       "1            0            0             0             1            0   \n",
       "2            0            0             0             0            0   \n",
       "3            0            0             0             1            0   \n",
       "4            0            0             0             1            0   \n",
       "\n",
       "   v286_WEEKDAY  v286_WEEKEND  \n",
       "0             0             1  \n",
       "1             0             1  \n",
       "2             0             0  \n",
       "3             0             1  \n",
       "4             0             1  \n",
       "\n",
       "[5 rows x 147 columns]"
      ]
     },
     "execution_count": 72,
     "metadata": {},
     "output_type": "execute_result"
    }
   ],
   "source": [
    "merged_df286.head()"
   ]
  },
  {
   "cell_type": "code",
   "execution_count": null,
   "id": "c8a90b9f-dd6d-4c03-9e59-c8071526aa1e",
   "metadata": {
    "id": "c8a90b9f-dd6d-4c03-9e59-c8071526aa1e"
   },
   "outputs": [],
   "source": [
    "merged_df286.to_csv(\"merged_dataset_slots.csv\",index=False)"
   ]
  },
  {
   "cell_type": "markdown",
   "id": "5b237be5-07b0-4841-b153-d4a19a5d6a74",
   "metadata": {
    "id": "5b237be5-07b0-4841-b153-d4a19a5d6a74",
    "jp-MarkdownHeadingCollapsed": true
   },
   "source": [
    "# MODEL DEVELOPMENT AND TRAINING"
   ]
  },
  {
   "cell_type": "markdown",
   "id": "d9a33483-df62-48c6-ad51-ddfdd10ee4fb",
   "metadata": {
    "id": "d9a33483-df62-48c6-ad51-ddfdd10ee4fb"
   },
   "source": [
    "#### Splitting into X and Y"
   ]
  },
  {
   "cell_type": "code",
   "execution_count": null,
   "id": "cba06dad-0ce7-42f8-8c3c-fbc2fb887ede",
   "metadata": {
    "id": "cba06dad-0ce7-42f8-8c3c-fbc2fb887ede"
   },
   "outputs": [],
   "source": [
    "X = merged_df286.iloc[:, 2:]\n",
    "y = merged_df286['target_slot']\n",
    "X=X.drop(columns=['batch_date'])"
   ]
  },
  {
   "cell_type": "code",
   "execution_count": null,
   "id": "dae69935-46ea-458f-bd46-197559be6067",
   "metadata": {
    "id": "dae69935-46ea-458f-bd46-197559be6067"
   },
   "outputs": [],
   "source": [
    "X.to_csv(\"X.csv\", index=False)\n",
    "y.to_csv(\"y.csv\", index=False)"
   ]
  },
  {
   "cell_type": "code",
   "execution_count": null,
   "id": "f3d66a82-a850-43ac-a9f6-73c4caf0b249",
   "metadata": {
    "id": "f3d66a82-a850-43ac-a9f6-73c4caf0b249"
   },
   "outputs": [],
   "source": [
    "X=pd.read_csv(\"X.csv\")\n",
    "y=pd.read_csv(\"y.csv\")"
   ]
  },
  {
   "cell_type": "code",
   "execution_count": null,
   "id": "708b6840-58c8-458f-8d3f-f3a2f4dea9e5",
   "metadata": {
    "id": "708b6840-58c8-458f-8d3f-f3a2f4dea9e5"
   },
   "outputs": [],
   "source": [
    "X=X.drop(columns=['v63'])"
   ]
  },
  {
   "cell_type": "code",
   "execution_count": null,
   "id": "28b8d4da-4f2a-400d-82b5-5e94db95dfd0",
   "metadata": {
    "id": "28b8d4da-4f2a-400d-82b5-5e94db95dfd0"
   },
   "outputs": [],
   "source": [
    "X_train, X_test, y_train, y_test = train_test_split(X, y, test_size=0.20, random_state=42)"
   ]
  },
  {
   "cell_type": "markdown",
   "id": "c239e244-9a24-41ef-b0f6-5558fe60eea8",
   "metadata": {
    "id": "c239e244-9a24-41ef-b0f6-5558fe60eea8"
   },
   "source": [
    "#### Scaling and Encoding the Data"
   ]
  },
  {
   "cell_type": "code",
   "execution_count": null,
   "id": "5c8cf8ee-8ce6-496e-a34f-e24a30b3292e",
   "metadata": {
    "id": "5c8cf8ee-8ce6-496e-a34f-e24a30b3292e"
   },
   "outputs": [],
   "source": [
    "scaler = StandardScaler()\n",
    "X_train_scaled= scaler.fit_transform(X_train)\n",
    "X_test_scaled=scaler.transform(X_test)"
   ]
  },
  {
   "cell_type": "markdown",
   "id": "a15ebce2-93b4-42a3-bd71-65d0b59e9ce6",
   "metadata": {
    "id": "a15ebce2-93b4-42a3-bd71-65d0b59e9ce6"
   },
   "source": [
    "XGBoost num_class parameter expects values from 0 o 27 if num_classes=28 that is why we have encoded the target column in the suitable range."
   ]
  },
  {
   "cell_type": "code",
   "execution_count": null,
   "id": "e2361362-adef-4a12-842b-f103e425ed57",
   "metadata": {
    "id": "e2361362-adef-4a12-842b-f103e425ed57"
   },
   "outputs": [],
   "source": [
    "from sklearn.preprocessing import LabelEncoder\n",
    "encoder = LabelEncoder()\n",
    "y_train_encoded = encoder.fit_transform(y_train)\n",
    "y_test_encoded = encoder.transform(y_test)"
   ]
  },
  {
   "cell_type": "markdown",
   "id": "5d6e4b59-71ed-46b6-ad6b-eacce4e693b8",
   "metadata": {
    "id": "5d6e4b59-71ed-46b6-ad6b-eacce4e693b8"
   },
   "source": [
    "### Model Training"
   ]
  },
  {
   "cell_type": "code",
   "execution_count": null,
   "id": "02deede2-bd22-47fc-b294-9530af9112d8",
   "metadata": {
    "id": "02deede2-bd22-47fc-b294-9530af9112d8"
   },
   "outputs": [],
   "source": [
    "class_weights = compute_class_weight('balanced', classes=np.unique(y_train_encoded), y=y_train_encoded)\n",
    "weights = np.array([class_weights[c] for c in y_train_encoded])"
   ]
  },
  {
   "cell_type": "code",
   "execution_count": null,
   "id": "7db9f407-caa3-4a65-bc5f-3a3792994bad",
   "metadata": {
    "id": "7db9f407-caa3-4a65-bc5f-3a3792994bad"
   },
   "outputs": [],
   "source": [
    "xgb_model = xgb.XGBClassifier(\n",
    "    objective='multi:softmax',  # Use 'multi:softmax' for multi-class classification\n",
    "    num_class=28,              # Specify the number of classes\n",
    "    eval_metric='mlogloss',    # Multi-class log loss\n",
    "    use_label_encoder=False,# Avoid unnecessary warnings\n",
    "    max_depth=10,\n",
    "    n_estimators=10\n",
    ")"
   ]
  },
  {
   "cell_type": "code",
   "execution_count": null,
   "id": "2f9461a0-16f9-40b6-9201-5240994e0e6f",
   "metadata": {
    "id": "2f9461a0-16f9-40b6-9201-5240994e0e6f",
    "scrolled": true
   },
   "outputs": [],
   "source": [
    "# Train the model on the entire training data\n",
    "xgb_model.fit(\n",
    "    X_train_scaled,\n",
    "    y_train_encoded,# Add eval set to monitor progress\n",
    "    verbose=True,\n",
    ")"
   ]
  },
  {
   "cell_type": "code",
   "execution_count": null,
   "id": "b78d9454-5dcf-41d8-8524-cd8fb6c9ed88",
   "metadata": {
    "id": "b78d9454-5dcf-41d8-8524-cd8fb6c9ed88",
    "outputId": "773b54c6-90c8-416e-f712-26768d20a265"
   },
   "outputs": [
    {
     "name": "stdout",
     "output_type": "stream",
     "text": [
      "Test set accuracy: 0.07321856275821442\n"
     ]
    }
   ],
   "source": [
    "y_pred_transformed = xgb_model.predict(X_test_scaled)\n",
    "\n",
    "# Convert predictions back to original labels (1-28)\n",
    "y_pred = encoder.inverse_transform(y_pred_transformed)\n",
    "\n",
    "# Convert test labels back to original labels for comparison\n",
    "y_test_original = encoder.inverse_transform(y_test_encoded)\n",
    "\n",
    "# Evaluate accuracy\n",
    "accuracy = accuracy_score(y_test_original, y_pred)\n",
    "print(\"Test set accuracy:\", accuracy)"
   ]
  },
  {
   "cell_type": "code",
   "execution_count": null,
   "id": "5ad6c7b6-868a-40bc-9d61-ff6569845565",
   "metadata": {
    "id": "5ad6c7b6-868a-40bc-9d61-ff6569845565",
    "outputId": "f245e34c-2edb-4d2c-8965-d90a386071a5"
   },
   "outputs": [
    {
     "name": "stdout",
     "output_type": "stream",
     "text": [
      "Mean Absolute Error (MAE): 6.31\n"
     ]
    }
   ],
   "source": [
    "from sklearn.metrics import mean_absolute_error\n",
    "mae = mean_absolute_error(y_test_original, y_pred)\n",
    "print(f\"Mean Absolute Error (MAE): {mae:.2f}\")"
   ]
  },
  {
   "cell_type": "code",
   "execution_count": null,
   "id": "95c031fb-b2ac-4278-8cc1-e76d7f24b710",
   "metadata": {
    "id": "95c031fb-b2ac-4278-8cc1-e76d7f24b710",
    "outputId": "5b3fe608-797e-4d5c-a6af-a8b1f52ae1eb"
   },
   "outputs": [
    {
     "name": "stdout",
     "output_type": "stream",
     "text": [
      "Predictions: [ 7  7  6  7 19  7  5  7  7  7  7  7 20  7  7  7  7  7  7  7  7  7  7  7\n",
      "  7  7  7  7  7  6 22  7 12  7 16  7  7  7  7 20]\n",
      "Actual labels: [15  9 25 11 28 26 25 14 15  3  6 21 19  7  8 15 28  7  9 10  3 16 24  3\n",
      " 10 12  5 15 22 24 18  9  8  6  5  7 15  8 14  7]\n"
     ]
    }
   ],
   "source": [
    "# Predict on a small subset of the test data\n",
    "sample_X = X_test[:40]\n",
    "sample_y_pred_transformed = xgb_model.predict(sample_X)\n",
    "sample_y_pred = encoder.inverse_transform(sample_y_pred_transformed)\n",
    "sample_y_test = encoder.inverse_transform(y_test[:40])\n",
    "\n",
    "print(\"Predictions:\", sample_y_pred)\n",
    "print(\"Actual labels:\", sample_y_test)"
   ]
  },
  {
   "cell_type": "code",
   "execution_count": null,
   "id": "a1069aff-443a-477b-bbcc-47fa52c1b2e5",
   "metadata": {
    "id": "a1069aff-443a-477b-bbcc-47fa52c1b2e5",
    "outputId": "fc3e7229-a98e-4634-98e5-76e828828554"
   },
   "outputs": [
    {
     "name": "stdout",
     "output_type": "stream",
     "text": [
      "Training Accuracy: 0.18\n"
     ]
    }
   ],
   "source": [
    "train_accuracy =xgb_model.score(X_train_scaled, y_train_encoded)\n",
    "print(f\"Training Accuracy: {train_accuracy:.2f}\")"
   ]
  },
  {
   "cell_type": "code",
   "execution_count": null,
   "id": "78265cf8-b2e2-4bff-bf80-e73fd9eb8ba2",
   "metadata": {
    "id": "78265cf8-b2e2-4bff-bf80-e73fd9eb8ba2"
   },
   "outputs": [],
   "source": [
    "model = Sequential([\n",
    "    Dense(512, input_dim=X_train.shape[1], activation='relu'),  # First hidden layer\n",
    "    Dropout(0.3),                                               # Dropout for regularization\n",
    "    Dense(256, activation='relu'),                              # Second hidden layer\n",
    "    Dropout(0.3),\n",
    "    Dense(128, activation='relu'),                              # Third hidden layer\n",
    "    Dropout(0.3),\n",
    "    Dense(64, activation='relu'),                               # Fourth hidden layer\n",
    "    Dropout(0.3),\n",
    "    Dense(28, activation='softmax')                             # Output layer for 28 classes\n",
    "])\n",
    "\n",
    "# Compile the model\n",
    "model.compile(\n",
    "    optimizer='adam',                         \n",
    "    loss='categorical_crossentropy',         \n",
    "    metrics=['accuracy']\n",
    ")\n",
    "\n",
    "# Train the model\n",
    "history = model.fit(\n",
    "    X_train_scaled, y_train_encoded,\n",
    "    validation_data=(X_test, y_test),\n",
    "    epochs=10,                               \n",
    "    batch_size=128,                           \n",
    "    verbose=1                               \n",
    ")"
   ]
  },
  {
   "cell_type": "code",
   "execution_count": null,
   "id": "678361c7-6ef3-4032-8a2d-8672fb444f46",
   "metadata": {},
   "outputs": [],
   "source": [
    "y_pred_transformed = model.predict(X_test_scaled)\n",
    "\n",
    "# Convert predictions back to original labels (1-28)\n",
    "y_pred = encoder.inverse_transform(y_pred_transformed)\n",
    "\n",
    "# Convert test labels back to original labels for comparison\n",
    "y_test_original = encoder.inverse_transform(y_test_encoded)"
   ]
  },
  {
   "cell_type": "code",
   "execution_count": null,
   "id": "1ec1d322-8aff-4c3e-b8df-27b7f20dfe2d",
   "metadata": {},
   "outputs": [],
   "source": [
    "mae = mean_absolute_error(y_test_original, y_pred)\n",
    "print(f\"Mean Absolute Error (MAE): {mae:.2f}\")"
   ]
  },
  {
   "cell_type": "markdown",
   "id": "adf3a8b2-7534-4703-a83d-841f340c3ab1",
   "metadata": {
    "id": "adf3a8b2-7534-4703-a83d-841f340c3ab1",
    "jp-MarkdownHeadingCollapsed": true
   },
   "source": [
    "# TESTING DATA ANALYSIS AND PREPARATION"
   ]
  },
  {
   "cell_type": "markdown",
   "id": "e2ace5b3-b490-49f9-9be5-1e90e4cf7fb3",
   "metadata": {
    "id": "e2ace5b3-b490-49f9-9be5-1e90e4cf7fb3"
   },
   "source": [
    "### Loading Data"
   ]
  },
  {
   "cell_type": "code",
   "execution_count": null,
   "id": "230763a2-72c9-44c6-bf7b-9f14aac89738",
   "metadata": {
    "id": "230763a2-72c9-44c6-bf7b-9f14aac89738",
    "outputId": "b465d059-0635-40e7-ea53-84f32cc63d9d"
   },
   "outputs": [
    {
     "data": {
      "text/plain": [
       "64700"
      ]
     },
     "execution_count": 184,
     "metadata": {},
     "output_type": "execute_result"
    }
   ],
   "source": [
    "test_history=pd.read_csv(\"test_action_history.csv\")\n",
    "test_cdna=pd.read_csv(\"test_cdna_data.csv\")\n",
    "test_cdna['CUSTOMER_CODE'].nunique()\n",
    "test_history['customer_code'].nunique()"
   ]
  },
  {
   "cell_type": "code",
   "execution_count": null,
   "id": "0b82d6cb-ada3-45c5-9a0e-7c65580fbf73",
   "metadata": {
    "id": "0b82d6cb-ada3-45c5-9a0e-7c65580fbf73",
    "outputId": "601f1702-fbfa-46eb-838f-ed5596c66a93"
   },
   "outputs": [
    {
     "data": {
      "text/plain": [
       "68450"
      ]
     },
     "execution_count": 185,
     "metadata": {},
     "output_type": "execute_result"
    }
   ],
   "source": [
    "test_cdna['CUSTOMER_CODE'].nunique()"
   ]
  },
  {
   "cell_type": "markdown",
   "id": "0ebaa749-d5da-448b-8e24-1784d6f0fe43",
   "metadata": {
    "id": "0ebaa749-d5da-448b-8e24-1784d6f0fe43"
   },
   "source": [
    "Since test_cdna number of customers is more than test_history customers upon merge customers to whom no mails have been sent will be eliminated."
   ]
  },
  {
   "cell_type": "markdown",
   "id": "d9ff5c90-4f6a-4e86-a199-f31bac9b3730",
   "metadata": {
    "id": "d9ff5c90-4f6a-4e86-a199-f31bac9b3730"
   },
   "source": [
    "### Cleaning test_cdna data as done for train_cdna"
   ]
  },
  {
   "cell_type": "code",
   "execution_count": null,
   "id": "80793fa2-82bd-4780-bc47-121ace269b4c",
   "metadata": {
    "id": "80793fa2-82bd-4780-bc47-121ace269b4c",
    "outputId": "6a57c0bd-9fc9-4493-a2e8-37ff794d2be5"
   },
   "outputs": [
    {
     "name": "stdout",
     "output_type": "stream",
     "text": [
      "\n",
      "Processed Age Range into Mean:\n"
     ]
    }
   ],
   "source": [
    "if 'v2' in test_cdna.columns:\n",
    "    test_cdna['age_mean'] = test_cdna['v2'].str.split('-').apply(lambda x: (int(x[0]) + int(x[1])) / 2 if isinstance(x, list) else np.nan)\n",
    "    test_cdna.drop('v2', axis=1, inplace=True)\n",
    "    print(\"\\nProcessed Age Range into Mean:\")"
   ]
  },
  {
   "cell_type": "code",
   "execution_count": null,
   "id": "87df0af7-3665-43bb-beac-672b9bb37930",
   "metadata": {
    "id": "87df0af7-3665-43bb-beac-672b9bb37930",
    "outputId": "41a3f1b4-d754-455e-f72c-48cb362c7ea5"
   },
   "outputs": [
    {
     "data": {
      "text/plain": [
       "0        42.0\n",
       "1        42.0\n",
       "2        37.0\n",
       "3        32.0\n",
       "4        27.0\n",
       "         ... \n",
       "68445    37.0\n",
       "68446    42.0\n",
       "68447    22.0\n",
       "68448    47.0\n",
       "68449    27.0\n",
       "Name: age_mean, Length: 68450, dtype: float64"
      ]
     },
     "execution_count": 187,
     "metadata": {},
     "output_type": "execute_result"
    }
   ],
   "source": [
    "test_cdna['age_mean']"
   ]
  },
  {
   "cell_type": "code",
   "execution_count": null,
   "id": "3b39cf2b-4ca2-43d5-842b-3638c3711359",
   "metadata": {
    "id": "3b39cf2b-4ca2-43d5-842b-3638c3711359"
   },
   "outputs": [],
   "source": [
    "for col in categorical_cols_90_95:\n",
    "    # Create a new numerical column based on the categorical column\n",
    "    new_col = col + \"_num\"\n",
    "    test_cdna[new_col] = test_dna[col].apply(lambda x: 1 if pd.notnull(x) else 0)\n",
    "\n",
    "    # Drop the original categorical column\n",
    "    test_cdna= test_cdna.drop(columns=[col])\n",
    "\n",
    "    print(f\"Processed and dropped categorical column: {col}\")"
   ]
  },
  {
   "cell_type": "code",
   "execution_count": null,
   "id": "3391c283-37e7-4925-a915-8e38f3ea8ac4",
   "metadata": {
    "id": "3391c283-37e7-4925-a915-8e38f3ea8ac4",
    "outputId": "b8e0748d-23a3-4375-9249-3aa0982bf60e"
   },
   "outputs": [
    {
     "data": {
      "text/plain": [
       "Index(['CUSTOMER_CODE', 'v3', 'v4', 'v5', 'v6', 'v7', 'v8', 'v9', 'v10', 'v11',\n",
       "       ...\n",
       "       'v295', 'v296', 'v297', 'v298', 'v299', 'v300', 'v301', 'v302',\n",
       "       'batch_date', 'age_mean'],\n",
       "      dtype='object', length=303)"
      ]
     },
     "execution_count": 189,
     "metadata": {},
     "output_type": "execute_result"
    }
   ],
   "source": [
    "test_cdna.columns"
   ]
  },
  {
   "cell_type": "code",
   "execution_count": null,
   "id": "b80ebcca-051d-47c4-89a9-becb54e714cb",
   "metadata": {
    "id": "b80ebcca-051d-47c4-89a9-becb54e714cb",
    "outputId": "4703f0ed-88fe-4930-a295-de7408f7a5cf"
   },
   "outputs": [
    {
     "name": "stdout",
     "output_type": "stream",
     "text": [
      "Cleaned Dataset: Missing values in 'v63': 40732\n",
      "Cleaned Dataset: Missing values in 'v63_encoded': 0\n"
     ]
    }
   ],
   "source": [
    "range_mapping = {\n",
    "    '0': 0,\n",
    "    '0 to 1L': 0.5,\n",
    "    '100001 to 5L': 2.5,\n",
    "    '5L to 10L': 7.5,\n",
    "    '10L to 25L': 17.5,\n",
    "    '25L to 50L': 37.5,\n",
    "    '50L to 3Crore': 175,\n",
    "    '3Crore to 5Crore': 400,\n",
    "    '5Crore to 10Crore': 750,\n",
    "    '10Crore to 15Crore': 1250,\n",
    "    '15Crore to 20Crore': 1750,\n",
    "    '20Crore to 35Crore': 2750,\n",
    "    '35Crore to 50Crore': 4250,\n",
    "}\n",
    "\n",
    "# 1. Map the string values in 'v63' to numeric values\n",
    "test_cdna['v63_encoded'] = test_cdna['v63'].map(range_mapping)\n",
    "\n",
    "# 2. Calculate the median for the encoded numeric column\n",
    "median_v63_encoded = test_cdna['v63_encoded'].median()\n",
    "\n",
    "# 3. Fill missing values in the encoded column with the median value\n",
    "test_cdna['v63_encoded'] = test_cdna['v63_encoded'].fillna(median_v63_encoded)\n",
    "\n",
    "# Validate the results\n",
    "print(\"Cleaned Dataset: Missing values in 'v63':\", test_cdna['v63'].isna().sum())\n",
    "print(\"Cleaned Dataset: Missing values in 'v63_encoded':\", test_cdna['v63_encoded'].isna().sum())"
   ]
  },
  {
   "cell_type": "code",
   "execution_count": null,
   "id": "daf7763c-d489-4566-a6e2-3137c2728701",
   "metadata": {
    "id": "daf7763c-d489-4566-a6e2-3137c2728701"
   },
   "outputs": [],
   "source": [
    "test_cdna=test_cdna.drop(columns=['v63'])"
   ]
  },
  {
   "cell_type": "code",
   "execution_count": null,
   "id": "3a0e067d-a3b0-47d1-88d7-4b9bbf859c33",
   "metadata": {
    "id": "3a0e067d-a3b0-47d1-88d7-4b9bbf859c33"
   },
   "outputs": [],
   "source": [
    "cleaned_cdna_df.drop(columns=['v63'],inplace=True)"
   ]
  },
  {
   "cell_type": "code",
   "execution_count": null,
   "id": "c2f3d76a-021d-478c-a978-48809ab61307",
   "metadata": {
    "id": "c2f3d76a-021d-478c-a978-48809ab61307"
   },
   "outputs": [],
   "source": [
    "test_cdna=test_cdna[cleaned_cdna_df.columns]"
   ]
  },
  {
   "cell_type": "code",
   "execution_count": null,
   "id": "f1c6e399-d3f8-42c7-a3c4-7490bd26941b",
   "metadata": {
    "id": "f1c6e399-d3f8-42c7-a3c4-7490bd26941b"
   },
   "outputs": [],
   "source": [
    "# Step 1: Convert numerical strings to integers where possible\n",
    "test_cdna['v5'] = pd.to_numeric(test_cdna['v5'], errors='coerce')\n",
    "\n",
    "# Step 2: Replace 'ZZ' and NaN with the median of the column\n",
    "median_v5 = test_cdna['v5'].median()\n",
    "test_cdna['v5'].fillna(median_v5, inplace=True)\n"
   ]
  },
  {
   "cell_type": "code",
   "execution_count": null,
   "id": "ab6bb349-d32c-4765-8c20-5afe3118763d",
   "metadata": {
    "id": "ab6bb349-d32c-4765-8c20-5afe3118763d"
   },
   "outputs": [],
   "source": [
    "numerical_columns = test_cdna.select_dtypes(include=['number']).columns\n",
    "numerical_columns_with_nan = [col for col in numerical_columns if test_cdna[col].isna().any()]\n",
    "\n",
    "# Replace NaN values with the median of each column in numerical_columns_with_nan\n",
    "for col in numerical_columns_with_nan:\n",
    "    median_value = test_cdna[col].median()  # Calculate the median of the column\n",
    "    test_cdna[col] = test_cdna[col].fillna(median_value)  # Replace NaN with median\n"
   ]
  },
  {
   "cell_type": "code",
   "execution_count": null,
   "id": "27e74d3d-b5d7-4c66-a948-2c63f94891a9",
   "metadata": {
    "id": "27e74d3d-b5d7-4c66-a948-2c63f94891a9"
   },
   "outputs": [],
   "source": [
    "test_cdna = pd.get_dummies(test_cdna, columns=['v36'], drop_first=False)"
   ]
  },
  {
   "cell_type": "code",
   "execution_count": null,
   "id": "db5e5805-62ff-4cd7-875f-18e1fa90d604",
   "metadata": {
    "id": "db5e5805-62ff-4cd7-875f-18e1fa90d604",
    "outputId": "056eaa00-ec83-4123-9a85-445198db012d"
   },
   "outputs": [
    {
     "data": {
      "text/plain": [
       "Index(['CUSTOMER_CODE', 'v5', 'v6', 'v11', 'v24', 'v27', 'v29', 'v32', 'v33',\n",
       "       'v34',\n",
       "       ...\n",
       "       'v299', 'v300', 'v301', 'v302', 'batch_date', 'age_mean', 'v63_encoded',\n",
       "       'v36_FINNONE', 'v36_MDM', 'v36_MDM_CORP'],\n",
       "      dtype='object', length=165)"
      ]
     },
     "execution_count": 197,
     "metadata": {},
     "output_type": "execute_result"
    }
   ],
   "source": [
    "test_cdna.columns"
   ]
  },
  {
   "cell_type": "code",
   "execution_count": null,
   "id": "3eb2ae50-9e94-49af-8137-e6b8f8b9344f",
   "metadata": {
    "id": "3eb2ae50-9e94-49af-8137-e6b8f8b9344f"
   },
   "outputs": [],
   "source": [
    "test_cdna['v43'] = test_cdna['v43'].fillna('OTHERS')"
   ]
  },
  {
   "cell_type": "code",
   "execution_count": null,
   "id": "b65fda8c-ee6e-46b6-8c91-3baf7b030a7b",
   "metadata": {
    "id": "b65fda8c-ee6e-46b6-8c91-3baf7b030a7b"
   },
   "outputs": [],
   "source": [
    "test_cdna = pd.get_dummies(test_cdna, columns=['v43'], drop_first=True)"
   ]
  },
  {
   "cell_type": "code",
   "execution_count": null,
   "id": "cbc4af1b-08da-4496-9fd9-19b02d489436",
   "metadata": {
    "id": "cbc4af1b-08da-4496-9fd9-19b02d489436"
   },
   "outputs": [],
   "source": [
    "test_cdna['v54'] = test_cdna['v54'].fillna('Male')"
   ]
  },
  {
   "cell_type": "code",
   "execution_count": null,
   "id": "84acacaf-2e28-4b64-be9f-36b4c4c83fd8",
   "metadata": {
    "id": "84acacaf-2e28-4b64-be9f-36b4c4c83fd8"
   },
   "outputs": [],
   "source": [
    "test_cdna['v54'] = test_cdna['v54'].replace(['MALE', 'Male', 'M'], 'Male')\n",
    "test_cdna['v54'] = test_cdna['v54'].replace(['FEMALE', 'Female', 'F'], 'Female')\n",
    "test_cdna['v54'] = test_cdna['v54'].replace(['C', 'OTHERS', 'THIRD GENDER','U','O'], 'Others')"
   ]
  },
  {
   "cell_type": "code",
   "execution_count": null,
   "id": "29b2c38d-dc1e-46db-8c8c-f89f8cb358cf",
   "metadata": {
    "id": "29b2c38d-dc1e-46db-8c8c-f89f8cb358cf"
   },
   "outputs": [],
   "source": [
    "test_cdna = pd.get_dummies(test_cdna, columns=['v54'], drop_first=False)"
   ]
  },
  {
   "cell_type": "code",
   "execution_count": null,
   "id": "71d65d15-458f-4d49-bf8c-ccaa186c4e23",
   "metadata": {
    "id": "71d65d15-458f-4d49-bf8c-ccaa186c4e23"
   },
   "outputs": [],
   "source": [
    "test_cdna=test_cdna.drop(columns=['v54_Others'])"
   ]
  },
  {
   "cell_type": "code",
   "execution_count": null,
   "id": "aca47f41-8fcf-4dc2-b6ef-333fd1cb1ed6",
   "metadata": {
    "id": "aca47f41-8fcf-4dc2-b6ef-333fd1cb1ed6"
   },
   "outputs": [],
   "source": [
    "test_cdna['v99'] = test_cdna['v99'].fillna('Nan')"
   ]
  },
  {
   "cell_type": "code",
   "execution_count": null,
   "id": "9449eaeb-b763-4553-99dc-fc4ee85a0d1f",
   "metadata": {
    "id": "9449eaeb-b763-4553-99dc-fc4ee85a0d1f"
   },
   "outputs": [],
   "source": [
    "test_cdna = pd.get_dummies(test_cdna, columns=['v99'], drop_first=True)"
   ]
  },
  {
   "cell_type": "code",
   "execution_count": null,
   "id": "d2181d5c-6674-4818-aa35-a0355a609d84",
   "metadata": {
    "id": "d2181d5c-6674-4818-aa35-a0355a609d84"
   },
   "outputs": [],
   "source": [
    "test_cdna['v101'] = test_cdna['v101'].fillna(\"Tier 1\")"
   ]
  },
  {
   "cell_type": "code",
   "execution_count": null,
   "id": "c5c550a3-988c-49d2-a3a7-8fe995d93d08",
   "metadata": {
    "id": "c5c550a3-988c-49d2-a3a7-8fe995d93d08"
   },
   "outputs": [],
   "source": [
    "test_cdna = pd.get_dummies(test_cdna, columns=['v101'], drop_first=False)"
   ]
  },
  {
   "cell_type": "code",
   "execution_count": null,
   "id": "19064f6b-be80-4cbc-9d32-d0611e029f0d",
   "metadata": {
    "id": "19064f6b-be80-4cbc-9d32-d0611e029f0d"
   },
   "outputs": [],
   "source": [
    "test_cdna=test_cdna.drop(columns=['v101_Tier 8'])"
   ]
  },
  {
   "cell_type": "code",
   "execution_count": null,
   "id": "14125ce7-f407-4b75-9a72-1a0e0e2df483",
   "metadata": {
    "id": "14125ce7-f407-4b75-9a72-1a0e0e2df483"
   },
   "outputs": [],
   "source": [
    "test_cdna['v278'] = test_cdna['v278'].fillna(\"Other\")"
   ]
  },
  {
   "cell_type": "code",
   "execution_count": null,
   "id": "d65e896b-ac3e-4946-922a-7051894e18e9",
   "metadata": {
    "id": "d65e896b-ac3e-4946-922a-7051894e18e9"
   },
   "outputs": [],
   "source": [
    "test_cdna = pd.get_dummies(test_cdna, columns=['v278'], drop_first=False)"
   ]
  },
  {
   "cell_type": "code",
   "execution_count": null,
   "id": "0f4315ab-92e5-4006-8114-9f1eb09a472e",
   "metadata": {
    "id": "0f4315ab-92e5-4006-8114-9f1eb09a472e"
   },
   "outputs": [],
   "source": [
    "test_cdna=test_cdna.drop(columns=['v278_Other'])"
   ]
  },
  {
   "cell_type": "code",
   "execution_count": null,
   "id": "ae44f6f5-ae77-48f8-8ec8-f7ed35c9c203",
   "metadata": {
    "id": "ae44f6f5-ae77-48f8-8ec8-f7ed35c9c203"
   },
   "outputs": [],
   "source": [
    "test_cdna['v286'] = test_cdna['v286'].fillna(\"Other\")"
   ]
  },
  {
   "cell_type": "code",
   "execution_count": null,
   "id": "1fe0fe9f-7947-4523-bfc8-19f8b2c3ca4b",
   "metadata": {
    "id": "1fe0fe9f-7947-4523-bfc8-19f8b2c3ca4b"
   },
   "outputs": [],
   "source": [
    "test_cdna = pd.get_dummies(test_cdna, columns=['v286'], drop_first=False)"
   ]
  },
  {
   "cell_type": "code",
   "execution_count": null,
   "id": "a9c5098b-a6de-45a5-9d5a-2a950ff5bef8",
   "metadata": {
    "id": "a9c5098b-a6de-45a5-9d5a-2a950ff5bef8",
    "outputId": "bf31d435-8ae1-45c0-9ea7-35b0bce88167"
   },
   "outputs": [
    {
     "data": {
      "text/plain": [
       "Index(['v39', 'v40', 'v41', 'v45', 'v49', 'v50', 'v51', 'v52', 'v53',\n",
       "       'v36_FINNONE', 'v36_MDM', 'v36_MDM_CORP', 'v43_OTHERS', 'v43_SINGLE',\n",
       "       'v43_UNMARRIED', 'v54_Female', 'v54_Male', 'v99_and', 'v99_ios',\n",
       "       'v101_Rural', 'v101_Tier 1', 'v101_Tier 2', 'v101_Tier 3',\n",
       "       'v101_Tier 4', 'v101_Tier 5', 'v101_Tier 6', 'v101_Tier 7',\n",
       "       'v278_EVENING', 'v278_MORNING', 'v286_FRIDAY', 'v286_Other',\n",
       "       'v286_WEEKDAY', 'v286_WEEKEND'],\n",
       "      dtype='object')"
      ]
     },
     "execution_count": 214,
     "metadata": {},
     "output_type": "execute_result"
    }
   ],
   "source": [
    "bool_columns = test_cdna.select_dtypes(include='bool').columns\n",
    "bool_columns"
   ]
  },
  {
   "cell_type": "code",
   "execution_count": null,
   "id": "ba89b3da-ae6e-4223-91c2-4e0bcbe617a7",
   "metadata": {
    "id": "ba89b3da-ae6e-4223-91c2-4e0bcbe617a7"
   },
   "outputs": [],
   "source": [
    "test_cdna[bool_columns] =  test_cdna[bool_columns].astype(int)"
   ]
  },
  {
   "cell_type": "code",
   "execution_count": null,
   "id": "6eab6168-dcd9-43b7-8574-dffb304c2cd7",
   "metadata": {
    "id": "6eab6168-dcd9-43b7-8574-dffb304c2cd7",
    "outputId": "39f608fa-ce32-498c-f798-770e0f466f23",
    "scrolled": true
   },
   "outputs": [
    {
     "name": "stdout",
     "output_type": "stream",
     "text": [
      "v6 75\n",
      "v11 1\n",
      "v27 4022\n",
      "v29 11701\n",
      "v33 13541\n",
      "v34 12693\n",
      "v35 16899\n",
      "v42 34142\n",
      "v55 41458\n",
      "v56 2011\n",
      "v60 24705\n",
      "v66 40871\n",
      "v68 40871\n",
      "v69 40871\n",
      "v71 40871\n",
      "v73 10082\n",
      "v74 40871\n",
      "v81 8\n",
      "v102 11909\n",
      "v103 41109\n",
      "v271 22289\n",
      "v272 22289\n",
      "v273 22289\n",
      "v274 22289\n",
      "v275 22289\n",
      "v276 22289\n",
      "v277 22289\n",
      "v279 22289\n",
      "v280 22289\n",
      "v281 22289\n",
      "v282 22289\n",
      "v283 22289\n",
      "v284 22289\n",
      "v285 22289\n"
     ]
    }
   ],
   "source": [
    "null_count=pd.DataFrame(test_cdna.isnull().sum())\n",
    "null_count.columns=['count']\n",
    "for index, row in null_count.iterrows():\n",
    "    for col_name in null_count.columns:\n",
    "        if (row[col_name]!=0):\n",
    "            print(index,row[col_name])"
   ]
  },
  {
   "cell_type": "code",
   "execution_count": null,
   "id": "8a40f19f-7446-4f86-887f-b8718fe4550a",
   "metadata": {
    "id": "8a40f19f-7446-4f86-887f-b8718fe4550a"
   },
   "outputs": [],
   "source": [
    "X=X.drop(columns=['v63'])\n",
    "X_test_data=test_cdna[X.columns]"
   ]
  },
  {
   "cell_type": "code",
   "execution_count": null,
   "id": "7d02e636-8925-44a1-8366-b4b2c2dc62e8",
   "metadata": {
    "id": "7d02e636-8925-44a1-8366-b4b2c2dc62e8"
   },
   "outputs": [],
   "source": [
    "null_count=pd.DataFrame(X.isnull().sum())\n",
    "null_count.columns=['count']\n",
    "for index, row in null_count.iterrows():\n",
    "    for col_name in null_count.columns:\n",
    "        if (row[col_name]!=0):\n",
    "            print(index,row[col_name])"
   ]
  },
  {
   "cell_type": "code",
   "execution_count": null,
   "id": "071e00bb-8fd5-4605-b19f-27d62a6a258c",
   "metadata": {
    "id": "071e00bb-8fd5-4605-b19f-27d62a6a258c",
    "outputId": "2f2db9d7-0c5f-46e7-f5fb-50e7e7076b4e"
   },
   "outputs": [
    {
     "data": {
      "text/plain": [
       "68450"
      ]
     },
     "execution_count": 244,
     "metadata": {},
     "output_type": "execute_result"
    }
   ],
   "source": [
    "test_cdna['CUSTOMER_CODE'].nunique()"
   ]
  },
  {
   "cell_type": "markdown",
   "id": "905c4cc8-76c3-4afa-8221-a42c6d557574",
   "metadata": {
    "id": "905c4cc8-76c3-4afa-8221-a42c6d557574",
    "jp-MarkdownHeadingCollapsed": true
   },
   "source": [
    "# MODEL PREDICTION ON TEST DATA"
   ]
  },
  {
   "cell_type": "code",
   "execution_count": null,
   "id": "43c00266-bd13-457e-9a72-5ee8beae7d95",
   "metadata": {
    "id": "43c00266-bd13-457e-9a72-5ee8beae7d95"
   },
   "outputs": [],
   "source": [
    "import pandas as pd\n",
    "import numpy as np\n",
    "\n",
    "predicted_probs = xgb_model.predict_proba(X_test_data)  # Shape: (n_samples, n_classes)\n",
    "\n",
    "# Decode the class labels\n",
    "decoded_labels = label_encoder.inverse_transform(range(predicted_probs.shape[1]))  # Decode class indices to original labels\n",
    "\n",
    "# Create a DataFrame to hold the probabilities with decoded class labels as columns\n",
    "probs_df = pd.DataFrame(predicted_probs, columns=decoded_labels)\n",
    "\n",
    "# Add a column for the original row index (optional, for tracking)\n",
    "probs_df['row_index'] = np.arange(len(predicted_probs))\n",
    "\n",
    "# Sort probabilities for each row and store only the sorted slot names in a new column\n",
    "probs_df['sorted_slots'] = probs_df.iloc[:, :-1].apply(\n",
    "    lambda row: [label for label, _ in sorted(\n",
    "        zip(decoded_labels, row),  # Pair decoded labels with probabilities\n",
    "        key=lambda x: x[1],       # Sort by probability\n",
    "        reverse=True              # Descending order\n",
    "    )],\n",
    "    axis=1\n",
    ")\n",
    "\n",
    "# Display the sorted slot names\n",
    "print(probs_df[['row_index', 'sorted_slots']])"
   ]
  },
  {
   "cell_type": "code",
   "execution_count": null,
   "id": "02386b41-9037-42c7-a762-d22c6f7f289d",
   "metadata": {
    "id": "02386b41-9037-42c7-a762-d22c6f7f289d"
   },
   "outputs": [],
   "source": [
    "predicted_probs=xgb_model.predict_proba(X_test_data)\n"
   ]
  },
  {
   "cell_type": "code",
   "execution_count": null,
   "id": "953b7425-7425-42a8-8b70-df22b38cc542",
   "metadata": {
    "id": "953b7425-7425-42a8-8b70-df22b38cc542",
    "outputId": "968c6a8c-5bb1-437d-f647-825fd37cf519"
   },
   "outputs": [
    {
     "data": {
      "text/plain": [
       "array([[0.02582023, 0.0303061 , 0.04168471, ..., 0.02688157, 0.01872486,\n",
       "        0.01967617],\n",
       "       [0.02160028, 0.02569463, 0.02624833, ..., 0.00786475, 0.01903203,\n",
       "        0.00639428],\n",
       "       [0.02004275, 0.02204629, 0.03278297, ..., 0.01393569, 0.02410397,\n",
       "        0.00757504],\n",
       "       ...,\n",
       "       [0.02557364, 0.02504365, 0.03894158, ..., 0.01075028, 0.02321499,\n",
       "        0.01975087],\n",
       "       [0.024902  , 0.02735749, 0.016374  , ..., 0.01648688, 0.02816274,\n",
       "        0.00936789],\n",
       "       [0.01011964, 0.0221534 , 0.02787501, ..., 0.02029005, 0.02053578,\n",
       "        0.00761185]], dtype=float32)"
      ]
     },
     "execution_count": 249,
     "metadata": {},
     "output_type": "execute_result"
    }
   ],
   "source": [
    "predicted_probs"
   ]
  },
  {
   "cell_type": "code",
   "execution_count": null,
   "id": "baa6ffbf-139b-4795-a0c8-a68506fa0a16",
   "metadata": {
    "id": "baa6ffbf-139b-4795-a0c8-a68506fa0a16",
    "outputId": "af4aad1d-92f9-4399-f302-cdddaccfd4ba"
   },
   "outputs": [
    {
     "name": "stdout",
     "output_type": "stream",
     "text": [
      "       row_index                                       sorted_slots\n",
      "0              0  [slot_7, slot_23, slot_6, slot_22, slot_20, sl...\n",
      "1              1  [slot_7, slot_22, slot_14, slot_19, slot_6, sl...\n",
      "2              2  [slot_7, slot_20, slot_5, slot_22, slot_17, sl...\n",
      "3              3  [slot_6, slot_7, slot_14, slot_19, slot_22, sl...\n",
      "4              4  [slot_6, slot_17, slot_7, slot_22, slot_20, sl...\n",
      "...          ...                                                ...\n",
      "68445      68445  [slot_6, slot_7, slot_23, slot_16, slot_20, sl...\n",
      "68446      68446  [slot_23, slot_6, slot_20, slot_17, slot_7, sl...\n",
      "68447      68447  [slot_23, slot_7, slot_14, slot_6, slot_20, sl...\n",
      "68448      68448  [slot_7, slot_16, slot_14, slot_5, slot_20, sl...\n",
      "68449      68449  [slot_7, slot_22, slot_19, slot_14, slot_5, sl...\n",
      "\n",
      "[68450 rows x 2 columns]\n"
     ]
    }
   ],
   "source": [
    "# Decode class indices to original labels\n",
    "decoded_labels = encoder.inverse_transform(range(predicted_probs.shape[1]))  # Decoded labels like 'slot_1', 'slot_2'\n",
    "\n",
    "# Create a DataFrame with predicted probabilities\n",
    "probs_df = pd.DataFrame(predicted_probs, columns=decoded_labels)\n",
    "\n",
    "# Add row index as a separate column (optional)\n",
    "probs_df['row_index'] = np.arange(len(predicted_probs))\n",
    "\n",
    "# Sort probabilities for each row and store sorted slot names with 'slot_' prefix\n",
    "probs_df['sorted_slots'] = probs_df[decoded_labels].apply(\n",
    "    lambda row: [f\"slot_{label}\" for label, _ in sorted(\n",
    "        zip(range(1, len(decoded_labels) + 1), row),  # Pair slot numbers (1-based index) with probabilities\n",
    "        key=lambda x: x[1],                           # Sort by probability\n",
    "        reverse=True                                  # Descending order\n",
    "    )],\n",
    "    axis=1\n",
    ")\n",
    "\n",
    "# Display the sorted slot names\n",
    "print(probs_df[['row_index', 'sorted_slots']])\n",
    "\n"
   ]
  },
  {
   "cell_type": "markdown",
   "id": "908698be-3a41-4a1a-b50a-6170237e2a67",
   "metadata": {
    "id": "908698be-3a41-4a1a-b50a-6170237e2a67"
   },
   "source": [
    "### Creating Final CSV for submission"
   ]
  },
  {
   "cell_type": "code",
   "execution_count": null,
   "id": "96e5bd14-602e-4ad0-8d9d-d093d705faad",
   "metadata": {
    "id": "96e5bd14-602e-4ad0-8d9d-d093d705faad"
   },
   "outputs": [],
   "source": [
    "test_cdna['predicted_slots_order']=probs_df['sorted_slots']"
   ]
  },
  {
   "cell_type": "code",
   "execution_count": null,
   "id": "0f5f9050-1db7-4442-8b02-5953ead7f5bd",
   "metadata": {
    "id": "0f5f9050-1db7-4442-8b02-5953ead7f5bd",
    "outputId": "0dbc5ef7-780a-45e7-d96d-5ab4fe66b928"
   },
   "outputs": [
    {
     "data": {
      "text/html": [
       "<div>\n",
       "<style scoped>\n",
       "    .dataframe tbody tr th:only-of-type {\n",
       "        vertical-align: middle;\n",
       "    }\n",
       "\n",
       "    .dataframe tbody tr th {\n",
       "        vertical-align: top;\n",
       "    }\n",
       "\n",
       "    .dataframe thead th {\n",
       "        text-align: right;\n",
       "    }\n",
       "</style>\n",
       "<table border=\"1\" class=\"dataframe\">\n",
       "  <thead>\n",
       "    <tr style=\"text-align: right;\">\n",
       "      <th></th>\n",
       "      <th>CUSTOMER_CODE</th>\n",
       "      <th>v5</th>\n",
       "      <th>v6</th>\n",
       "      <th>v11</th>\n",
       "      <th>v24</th>\n",
       "      <th>v27</th>\n",
       "      <th>v29</th>\n",
       "      <th>v32</th>\n",
       "      <th>v33</th>\n",
       "      <th>v34</th>\n",
       "      <th>...</th>\n",
       "      <th>v101_Tier 5</th>\n",
       "      <th>v101_Tier 6</th>\n",
       "      <th>v101_Tier 7</th>\n",
       "      <th>v278_EVENING</th>\n",
       "      <th>v278_MORNING</th>\n",
       "      <th>v286_FRIDAY</th>\n",
       "      <th>v286_Other</th>\n",
       "      <th>v286_WEEKDAY</th>\n",
       "      <th>v286_WEEKEND</th>\n",
       "      <th>predicted_slots_order</th>\n",
       "    </tr>\n",
       "  </thead>\n",
       "  <tbody>\n",
       "    <tr>\n",
       "      <th>0</th>\n",
       "      <td>635c3a7b6c89528607944fa312096e48c9f54dfaf821f5...</td>\n",
       "      <td>99.0</td>\n",
       "      <td>THANE</td>\n",
       "      <td>2018-04-26T00:00:00.000Z</td>\n",
       "      <td>0.0</td>\n",
       "      <td>Married</td>\n",
       "      <td>Self Employed Business</td>\n",
       "      <td>60.0</td>\n",
       "      <td>294cd6e2886c568796d89c66ccdaea76dbf52e44d7598d...</td>\n",
       "      <td>MUMBAI</td>\n",
       "      <td>...</td>\n",
       "      <td>0</td>\n",
       "      <td>0</td>\n",
       "      <td>0</td>\n",
       "      <td>0</td>\n",
       "      <td>1</td>\n",
       "      <td>0</td>\n",
       "      <td>0</td>\n",
       "      <td>0</td>\n",
       "      <td>1</td>\n",
       "      <td>[slot_7, slot_23, slot_6, slot_22, slot_20, sl...</td>\n",
       "    </tr>\n",
       "    <tr>\n",
       "      <th>1</th>\n",
       "      <td>970ef77e5a753f82ed9ee1e4446db1dd29d237ed0f64c7...</td>\n",
       "      <td>99.0</td>\n",
       "      <td>KOLKATA</td>\n",
       "      <td>2017-11-20T00:00:00.000Z</td>\n",
       "      <td>0.0</td>\n",
       "      <td>MARRIED</td>\n",
       "      <td>SALARIED</td>\n",
       "      <td>39.0</td>\n",
       "      <td>678edf6b584a6a19c6cc9c684b56579c4348ae8468c9aa...</td>\n",
       "      <td>KOLKATA</td>\n",
       "      <td>...</td>\n",
       "      <td>1</td>\n",
       "      <td>0</td>\n",
       "      <td>0</td>\n",
       "      <td>0</td>\n",
       "      <td>0</td>\n",
       "      <td>0</td>\n",
       "      <td>1</td>\n",
       "      <td>0</td>\n",
       "      <td>0</td>\n",
       "      <td>[slot_7, slot_22, slot_14, slot_19, slot_6, sl...</td>\n",
       "    </tr>\n",
       "    <tr>\n",
       "      <th>2</th>\n",
       "      <td>ccc36bb7c74601863c7328faa90ade2d806bccea2a3c51...</td>\n",
       "      <td>99.0</td>\n",
       "      <td>KOLAR</td>\n",
       "      <td>2022-10-03T00:00:00.000Z</td>\n",
       "      <td>0.0</td>\n",
       "      <td>Unmarried</td>\n",
       "      <td>Salaried</td>\n",
       "      <td>84.0</td>\n",
       "      <td>902fb49da19d011962ab0fef97a954af7e6515bfe940aa...</td>\n",
       "      <td>CHINTAMANI</td>\n",
       "      <td>...</td>\n",
       "      <td>0</td>\n",
       "      <td>0</td>\n",
       "      <td>0</td>\n",
       "      <td>0</td>\n",
       "      <td>1</td>\n",
       "      <td>0</td>\n",
       "      <td>0</td>\n",
       "      <td>0</td>\n",
       "      <td>1</td>\n",
       "      <td>[slot_7, slot_20, slot_5, slot_22, slot_17, sl...</td>\n",
       "    </tr>\n",
       "    <tr>\n",
       "      <th>3</th>\n",
       "      <td>3c34d39288675fb3033d5f24bfccf427f1ee97e8c4bbb3...</td>\n",
       "      <td>99.0</td>\n",
       "      <td>BUNDI</td>\n",
       "      <td>2022-08-25T12:02:11.000Z</td>\n",
       "      <td>0.0</td>\n",
       "      <td>Married</td>\n",
       "      <td>Self Employed Business</td>\n",
       "      <td>50.0</td>\n",
       "      <td>38054c0d3abba40082cf35b11b4089b5e1581b756e3750...</td>\n",
       "      <td>BUNDI</td>\n",
       "      <td>...</td>\n",
       "      <td>1</td>\n",
       "      <td>0</td>\n",
       "      <td>0</td>\n",
       "      <td>0</td>\n",
       "      <td>0</td>\n",
       "      <td>0</td>\n",
       "      <td>1</td>\n",
       "      <td>0</td>\n",
       "      <td>0</td>\n",
       "      <td>[slot_6, slot_7, slot_14, slot_19, slot_22, sl...</td>\n",
       "    </tr>\n",
       "    <tr>\n",
       "      <th>4</th>\n",
       "      <td>cb353c7e0419b7b9194979ba250e0dfd1fa19a41b01cb1...</td>\n",
       "      <td>99.0</td>\n",
       "      <td>HAPUR</td>\n",
       "      <td>2022-09-23T00:00:00.000Z</td>\n",
       "      <td>0.0</td>\n",
       "      <td>MARRIED</td>\n",
       "      <td>NaN</td>\n",
       "      <td>39.0</td>\n",
       "      <td>f425e5991d132be3f040c9b7d10fbd7a9501e5c3fa1dd9...</td>\n",
       "      <td>HAPUR</td>\n",
       "      <td>...</td>\n",
       "      <td>1</td>\n",
       "      <td>0</td>\n",
       "      <td>0</td>\n",
       "      <td>0</td>\n",
       "      <td>1</td>\n",
       "      <td>0</td>\n",
       "      <td>0</td>\n",
       "      <td>0</td>\n",
       "      <td>1</td>\n",
       "      <td>[slot_6, slot_17, slot_7, slot_22, slot_20, sl...</td>\n",
       "    </tr>\n",
       "  </tbody>\n",
       "</table>\n",
       "<p>5 rows × 181 columns</p>\n",
       "</div>"
      ],
      "text/plain": [
       "                                       CUSTOMER_CODE    v5       v6  \\\n",
       "0  635c3a7b6c89528607944fa312096e48c9f54dfaf821f5...  99.0    THANE   \n",
       "1  970ef77e5a753f82ed9ee1e4446db1dd29d237ed0f64c7...  99.0  KOLKATA   \n",
       "2  ccc36bb7c74601863c7328faa90ade2d806bccea2a3c51...  99.0    KOLAR   \n",
       "3  3c34d39288675fb3033d5f24bfccf427f1ee97e8c4bbb3...  99.0    BUNDI   \n",
       "4  cb353c7e0419b7b9194979ba250e0dfd1fa19a41b01cb1...  99.0    HAPUR   \n",
       "\n",
       "                        v11  v24        v27                     v29   v32  \\\n",
       "0  2018-04-26T00:00:00.000Z  0.0    Married  Self Employed Business  60.0   \n",
       "1  2017-11-20T00:00:00.000Z  0.0    MARRIED                SALARIED  39.0   \n",
       "2  2022-10-03T00:00:00.000Z  0.0  Unmarried                Salaried  84.0   \n",
       "3  2022-08-25T12:02:11.000Z  0.0    Married  Self Employed Business  50.0   \n",
       "4  2022-09-23T00:00:00.000Z  0.0    MARRIED                     NaN  39.0   \n",
       "\n",
       "                                                 v33         v34  ...  \\\n",
       "0  294cd6e2886c568796d89c66ccdaea76dbf52e44d7598d...      MUMBAI  ...   \n",
       "1  678edf6b584a6a19c6cc9c684b56579c4348ae8468c9aa...     KOLKATA  ...   \n",
       "2  902fb49da19d011962ab0fef97a954af7e6515bfe940aa...  CHINTAMANI  ...   \n",
       "3  38054c0d3abba40082cf35b11b4089b5e1581b756e3750...       BUNDI  ...   \n",
       "4  f425e5991d132be3f040c9b7d10fbd7a9501e5c3fa1dd9...       HAPUR  ...   \n",
       "\n",
       "  v101_Tier 5  v101_Tier 6  v101_Tier 7  v278_EVENING v278_MORNING  \\\n",
       "0           0            0            0             0            1   \n",
       "1           1            0            0             0            0   \n",
       "2           0            0            0             0            1   \n",
       "3           1            0            0             0            0   \n",
       "4           1            0            0             0            1   \n",
       "\n",
       "   v286_FRIDAY  v286_Other  v286_WEEKDAY  v286_WEEKEND  \\\n",
       "0            0           0             0             1   \n",
       "1            0           1             0             0   \n",
       "2            0           0             0             1   \n",
       "3            0           1             0             0   \n",
       "4            0           0             0             1   \n",
       "\n",
       "                               predicted_slots_order  \n",
       "0  [slot_7, slot_23, slot_6, slot_22, slot_20, sl...  \n",
       "1  [slot_7, slot_22, slot_14, slot_19, slot_6, sl...  \n",
       "2  [slot_7, slot_20, slot_5, slot_22, slot_17, sl...  \n",
       "3  [slot_6, slot_7, slot_14, slot_19, slot_22, sl...  \n",
       "4  [slot_6, slot_17, slot_7, slot_22, slot_20, sl...  \n",
       "\n",
       "[5 rows x 181 columns]"
      ]
     },
     "execution_count": 257,
     "metadata": {},
     "output_type": "execute_result"
    }
   ],
   "source": [
    "test_cdna.head()"
   ]
  },
  {
   "cell_type": "code",
   "execution_count": null,
   "id": "ad877482-970c-4bb0-80f9-56f7165ffdc7",
   "metadata": {
    "id": "ad877482-970c-4bb0-80f9-56f7165ffdc7",
    "outputId": "c5bedfc6-aa82-4849-ba5b-05adf5efd0c2"
   },
   "outputs": [
    {
     "data": {
      "text/html": [
       "<div>\n",
       "<style scoped>\n",
       "    .dataframe tbody tr th:only-of-type {\n",
       "        vertical-align: middle;\n",
       "    }\n",
       "\n",
       "    .dataframe tbody tr th {\n",
       "        vertical-align: top;\n",
       "    }\n",
       "\n",
       "    .dataframe thead th {\n",
       "        text-align: right;\n",
       "    }\n",
       "</style>\n",
       "<table border=\"1\" class=\"dataframe\">\n",
       "  <thead>\n",
       "    <tr style=\"text-align: right;\">\n",
       "      <th></th>\n",
       "      <th>CUSTOMER_CODE</th>\n",
       "      <th>predicted_slots_order</th>\n",
       "    </tr>\n",
       "  </thead>\n",
       "  <tbody>\n",
       "    <tr>\n",
       "      <th>0</th>\n",
       "      <td>635c3a7b6c89528607944fa312096e48c9f54dfaf821f5...</td>\n",
       "      <td>[slot_7, slot_23, slot_6, slot_22, slot_20, sl...</td>\n",
       "    </tr>\n",
       "    <tr>\n",
       "      <th>1</th>\n",
       "      <td>970ef77e5a753f82ed9ee1e4446db1dd29d237ed0f64c7...</td>\n",
       "      <td>[slot_7, slot_22, slot_14, slot_19, slot_6, sl...</td>\n",
       "    </tr>\n",
       "    <tr>\n",
       "      <th>2</th>\n",
       "      <td>ccc36bb7c74601863c7328faa90ade2d806bccea2a3c51...</td>\n",
       "      <td>[slot_7, slot_20, slot_5, slot_22, slot_17, sl...</td>\n",
       "    </tr>\n",
       "    <tr>\n",
       "      <th>3</th>\n",
       "      <td>3c34d39288675fb3033d5f24bfccf427f1ee97e8c4bbb3...</td>\n",
       "      <td>[slot_6, slot_7, slot_14, slot_19, slot_22, sl...</td>\n",
       "    </tr>\n",
       "    <tr>\n",
       "      <th>4</th>\n",
       "      <td>cb353c7e0419b7b9194979ba250e0dfd1fa19a41b01cb1...</td>\n",
       "      <td>[slot_6, slot_17, slot_7, slot_22, slot_20, sl...</td>\n",
       "    </tr>\n",
       "  </tbody>\n",
       "</table>\n",
       "</div>"
      ],
      "text/plain": [
       "                                       CUSTOMER_CODE  \\\n",
       "0  635c3a7b6c89528607944fa312096e48c9f54dfaf821f5...   \n",
       "1  970ef77e5a753f82ed9ee1e4446db1dd29d237ed0f64c7...   \n",
       "2  ccc36bb7c74601863c7328faa90ade2d806bccea2a3c51...   \n",
       "3  3c34d39288675fb3033d5f24bfccf427f1ee97e8c4bbb3...   \n",
       "4  cb353c7e0419b7b9194979ba250e0dfd1fa19a41b01cb1...   \n",
       "\n",
       "                               predicted_slots_order  \n",
       "0  [slot_7, slot_23, slot_6, slot_22, slot_20, sl...  \n",
       "1  [slot_7, slot_22, slot_14, slot_19, slot_6, sl...  \n",
       "2  [slot_7, slot_20, slot_5, slot_22, slot_17, sl...  \n",
       "3  [slot_6, slot_7, slot_14, slot_19, slot_22, sl...  \n",
       "4  [slot_6, slot_17, slot_7, slot_22, slot_20, sl...  "
      ]
     },
     "execution_count": 258,
     "metadata": {},
     "output_type": "execute_result"
    }
   ],
   "source": [
    "df_to_submit=test_cdna[['CUSTOMER_CODE','predicted_slots_order']]\n",
    "df_to_submit.head()"
   ]
  },
  {
   "cell_type": "code",
   "execution_count": null,
   "id": "c04f91e3-ec12-495a-8620-88d1d4410f85",
   "metadata": {
    "id": "c04f91e3-ec12-495a-8620-88d1d4410f85",
    "outputId": "ba2dc982-7763-49cd-b823-e49f3ee4e0df"
   },
   "outputs": [
    {
     "data": {
      "text/html": [
       "<div>\n",
       "<style scoped>\n",
       "    .dataframe tbody tr th:only-of-type {\n",
       "        vertical-align: middle;\n",
       "    }\n",
       "\n",
       "    .dataframe tbody tr th {\n",
       "        vertical-align: top;\n",
       "    }\n",
       "\n",
       "    .dataframe thead th {\n",
       "        text-align: right;\n",
       "    }\n",
       "</style>\n",
       "<table border=\"1\" class=\"dataframe\">\n",
       "  <thead>\n",
       "    <tr style=\"text-align: right;\">\n",
       "      <th></th>\n",
       "      <th>customer_code</th>\n",
       "      <th>predicted_slots_order</th>\n",
       "    </tr>\n",
       "  </thead>\n",
       "  <tbody>\n",
       "    <tr>\n",
       "      <th>0</th>\n",
       "      <td>635c3a7b6c89528607944fa312096e48c9f54dfaf821f5...</td>\n",
       "      <td>[slot_7, slot_23, slot_6, slot_22, slot_20, sl...</td>\n",
       "    </tr>\n",
       "    <tr>\n",
       "      <th>1</th>\n",
       "      <td>970ef77e5a753f82ed9ee1e4446db1dd29d237ed0f64c7...</td>\n",
       "      <td>[slot_7, slot_22, slot_14, slot_19, slot_6, sl...</td>\n",
       "    </tr>\n",
       "    <tr>\n",
       "      <th>2</th>\n",
       "      <td>ccc36bb7c74601863c7328faa90ade2d806bccea2a3c51...</td>\n",
       "      <td>[slot_7, slot_20, slot_5, slot_22, slot_17, sl...</td>\n",
       "    </tr>\n",
       "    <tr>\n",
       "      <th>3</th>\n",
       "      <td>3c34d39288675fb3033d5f24bfccf427f1ee97e8c4bbb3...</td>\n",
       "      <td>[slot_6, slot_7, slot_14, slot_19, slot_22, sl...</td>\n",
       "    </tr>\n",
       "    <tr>\n",
       "      <th>4</th>\n",
       "      <td>cb353c7e0419b7b9194979ba250e0dfd1fa19a41b01cb1...</td>\n",
       "      <td>[slot_6, slot_17, slot_7, slot_22, slot_20, sl...</td>\n",
       "    </tr>\n",
       "    <tr>\n",
       "      <th>...</th>\n",
       "      <td>...</td>\n",
       "      <td>...</td>\n",
       "    </tr>\n",
       "    <tr>\n",
       "      <th>68445</th>\n",
       "      <td>4cde59d5b42a2d221037cb2fca0de4b017b92486881c72...</td>\n",
       "      <td>[slot_6, slot_7, slot_23, slot_16, slot_20, sl...</td>\n",
       "    </tr>\n",
       "    <tr>\n",
       "      <th>68446</th>\n",
       "      <td>537705bf6fab6b290248264b5b34cc3f59352740d98964...</td>\n",
       "      <td>[slot_23, slot_6, slot_20, slot_17, slot_7, sl...</td>\n",
       "    </tr>\n",
       "    <tr>\n",
       "      <th>68447</th>\n",
       "      <td>48d22d3e52065cb6d54e1b88ec4d5a41b99f19be0427a2...</td>\n",
       "      <td>[slot_23, slot_7, slot_14, slot_6, slot_20, sl...</td>\n",
       "    </tr>\n",
       "    <tr>\n",
       "      <th>68448</th>\n",
       "      <td>5d8e50df07ecaeb2da40b588aab824e9d33a705e005a2b...</td>\n",
       "      <td>[slot_7, slot_16, slot_14, slot_5, slot_20, sl...</td>\n",
       "    </tr>\n",
       "    <tr>\n",
       "      <th>68449</th>\n",
       "      <td>20863dbfd150c3d127a9b7cc49f90828b68e26d0ef563e...</td>\n",
       "      <td>[slot_7, slot_22, slot_19, slot_14, slot_5, sl...</td>\n",
       "    </tr>\n",
       "  </tbody>\n",
       "</table>\n",
       "<p>68450 rows × 2 columns</p>\n",
       "</div>"
      ],
      "text/plain": [
       "                                           customer_code  \\\n",
       "0      635c3a7b6c89528607944fa312096e48c9f54dfaf821f5...   \n",
       "1      970ef77e5a753f82ed9ee1e4446db1dd29d237ed0f64c7...   \n",
       "2      ccc36bb7c74601863c7328faa90ade2d806bccea2a3c51...   \n",
       "3      3c34d39288675fb3033d5f24bfccf427f1ee97e8c4bbb3...   \n",
       "4      cb353c7e0419b7b9194979ba250e0dfd1fa19a41b01cb1...   \n",
       "...                                                  ...   \n",
       "68445  4cde59d5b42a2d221037cb2fca0de4b017b92486881c72...   \n",
       "68446  537705bf6fab6b290248264b5b34cc3f59352740d98964...   \n",
       "68447  48d22d3e52065cb6d54e1b88ec4d5a41b99f19be0427a2...   \n",
       "68448  5d8e50df07ecaeb2da40b588aab824e9d33a705e005a2b...   \n",
       "68449  20863dbfd150c3d127a9b7cc49f90828b68e26d0ef563e...   \n",
       "\n",
       "                                   predicted_slots_order  \n",
       "0      [slot_7, slot_23, slot_6, slot_22, slot_20, sl...  \n",
       "1      [slot_7, slot_22, slot_14, slot_19, slot_6, sl...  \n",
       "2      [slot_7, slot_20, slot_5, slot_22, slot_17, sl...  \n",
       "3      [slot_6, slot_7, slot_14, slot_19, slot_22, sl...  \n",
       "4      [slot_6, slot_17, slot_7, slot_22, slot_20, sl...  \n",
       "...                                                  ...  \n",
       "68445  [slot_6, slot_7, slot_23, slot_16, slot_20, sl...  \n",
       "68446  [slot_23, slot_6, slot_20, slot_17, slot_7, sl...  \n",
       "68447  [slot_23, slot_7, slot_14, slot_6, slot_20, sl...  \n",
       "68448  [slot_7, slot_16, slot_14, slot_5, slot_20, sl...  \n",
       "68449  [slot_7, slot_22, slot_19, slot_14, slot_5, sl...  \n",
       "\n",
       "[68450 rows x 2 columns]"
      ]
     },
     "execution_count": 259,
     "metadata": {},
     "output_type": "execute_result"
    }
   ],
   "source": [
    "df_to_submit.rename(columns={'CUSTOMER_CODE': 'customer_code'}, inplace=True)\n",
    "df_to_submit"
   ]
  },
  {
   "cell_type": "markdown",
   "id": "023f9816-0ec9-48d1-9d81-2e832fba462f",
   "metadata": {
    "id": "023f9816-0ec9-48d1-9d81-2e832fba462f"
   },
   "source": [
    "### Loading Customer Codes from the test_customers"
   ]
  },
  {
   "cell_type": "code",
   "execution_count": null,
   "id": "d844bcaf-c628-41b7-9247-3b3cde09cee6",
   "metadata": {
    "id": "d844bcaf-c628-41b7-9247-3b3cde09cee6"
   },
   "outputs": [],
   "source": [
    "df_customers=pd.read_csv(\"test_customers.csv\")"
   ]
  },
  {
   "cell_type": "code",
   "execution_count": null,
   "id": "931d8d50-8c6b-4100-838b-bb005e07960d",
   "metadata": {
    "id": "931d8d50-8c6b-4100-838b-bb005e07960d"
   },
   "outputs": [],
   "source": []
  },
  {
   "cell_type": "code",
   "execution_count": null,
   "id": "d81d0846-6406-4624-b594-79f0dc7aaf5a",
   "metadata": {
    "id": "d81d0846-6406-4624-b594-79f0dc7aaf5a",
    "outputId": "4fb66fe2-cd6d-4b3c-e4f3-3ae536106c37"
   },
   "outputs": [
    {
     "data": {
      "text/plain": [
       "(65182, 2)"
      ]
     },
     "execution_count": 261,
     "metadata": {},
     "output_type": "execute_result"
    }
   ],
   "source": [
    "df_submission_final = pd.merge(\n",
    "    df_to_submit,\n",
    "    df_customers,\n",
    "    left_on='customer_code',\n",
    "    right_on='CUSTOMER_CODE',\n",
    "    how='inner'  # Keeps only rows that are present in both DataFrames\n",
    ")\n",
    "df_submission_final.drop(columns=['CUSTOMER_CODE'], inplace=True)\n",
    "df_submission_final.shape"
   ]
  },
  {
   "cell_type": "code",
   "execution_count": null,
   "id": "b30183b1-82ab-405e-9986-ea4da09ebd76",
   "metadata": {
    "id": "b30183b1-82ab-405e-9986-ea4da09ebd76"
   },
   "outputs": [],
   "source": [
    "df_submission_final.to_csv(\"convolve_round2_submission.csv\",index=False)"
   ]
  },
  {
   "cell_type": "code",
   "execution_count": null,
   "id": "e19921e4-1762-467f-b381-9b59733d4000",
   "metadata": {
    "id": "e19921e4-1762-467f-b381-9b59733d4000",
    "outputId": "e50ddc20-84f8-464c-ea6f-5a13ab8eadc2"
   },
   "outputs": [
    {
     "data": {
      "text/html": [
       "<div>\n",
       "<style scoped>\n",
       "    .dataframe tbody tr th:only-of-type {\n",
       "        vertical-align: middle;\n",
       "    }\n",
       "\n",
       "    .dataframe tbody tr th {\n",
       "        vertical-align: top;\n",
       "    }\n",
       "\n",
       "    .dataframe thead th {\n",
       "        text-align: right;\n",
       "    }\n",
       "</style>\n",
       "<table border=\"1\" class=\"dataframe\">\n",
       "  <thead>\n",
       "    <tr style=\"text-align: right;\">\n",
       "      <th></th>\n",
       "      <th>customer_code</th>\n",
       "      <th>predicted_slots_order</th>\n",
       "    </tr>\n",
       "  </thead>\n",
       "  <tbody>\n",
       "    <tr>\n",
       "      <th>0</th>\n",
       "      <td>635c3a7b6c89528607944fa312096e48c9f54dfaf821f5...</td>\n",
       "      <td>[slot_7, slot_23, slot_6, slot_22, slot_20, sl...</td>\n",
       "    </tr>\n",
       "    <tr>\n",
       "      <th>1</th>\n",
       "      <td>970ef77e5a753f82ed9ee1e4446db1dd29d237ed0f64c7...</td>\n",
       "      <td>[slot_7, slot_22, slot_14, slot_19, slot_6, sl...</td>\n",
       "    </tr>\n",
       "    <tr>\n",
       "      <th>2</th>\n",
       "      <td>ccc36bb7c74601863c7328faa90ade2d806bccea2a3c51...</td>\n",
       "      <td>[slot_7, slot_20, slot_5, slot_22, slot_17, sl...</td>\n",
       "    </tr>\n",
       "    <tr>\n",
       "      <th>3</th>\n",
       "      <td>3c34d39288675fb3033d5f24bfccf427f1ee97e8c4bbb3...</td>\n",
       "      <td>[slot_6, slot_7, slot_14, slot_19, slot_22, sl...</td>\n",
       "    </tr>\n",
       "    <tr>\n",
       "      <th>4</th>\n",
       "      <td>cb353c7e0419b7b9194979ba250e0dfd1fa19a41b01cb1...</td>\n",
       "      <td>[slot_6, slot_17, slot_7, slot_22, slot_20, sl...</td>\n",
       "    </tr>\n",
       "    <tr>\n",
       "      <th>...</th>\n",
       "      <td>...</td>\n",
       "      <td>...</td>\n",
       "    </tr>\n",
       "    <tr>\n",
       "      <th>65177</th>\n",
       "      <td>6d859ea95f4d7da20ac2aa66e86d0ace5eeb8171b5cbfc...</td>\n",
       "      <td>[slot_7, slot_22, slot_14, slot_19, slot_6, sl...</td>\n",
       "    </tr>\n",
       "    <tr>\n",
       "      <th>65178</th>\n",
       "      <td>4cde59d5b42a2d221037cb2fca0de4b017b92486881c72...</td>\n",
       "      <td>[slot_6, slot_7, slot_23, slot_16, slot_20, sl...</td>\n",
       "    </tr>\n",
       "    <tr>\n",
       "      <th>65179</th>\n",
       "      <td>537705bf6fab6b290248264b5b34cc3f59352740d98964...</td>\n",
       "      <td>[slot_23, slot_6, slot_20, slot_17, slot_7, sl...</td>\n",
       "    </tr>\n",
       "    <tr>\n",
       "      <th>65180</th>\n",
       "      <td>48d22d3e52065cb6d54e1b88ec4d5a41b99f19be0427a2...</td>\n",
       "      <td>[slot_23, slot_7, slot_14, slot_6, slot_20, sl...</td>\n",
       "    </tr>\n",
       "    <tr>\n",
       "      <th>65181</th>\n",
       "      <td>5d8e50df07ecaeb2da40b588aab824e9d33a705e005a2b...</td>\n",
       "      <td>[slot_7, slot_16, slot_14, slot_5, slot_20, sl...</td>\n",
       "    </tr>\n",
       "  </tbody>\n",
       "</table>\n",
       "<p>65182 rows × 2 columns</p>\n",
       "</div>"
      ],
      "text/plain": [
       "                                           customer_code  \\\n",
       "0      635c3a7b6c89528607944fa312096e48c9f54dfaf821f5...   \n",
       "1      970ef77e5a753f82ed9ee1e4446db1dd29d237ed0f64c7...   \n",
       "2      ccc36bb7c74601863c7328faa90ade2d806bccea2a3c51...   \n",
       "3      3c34d39288675fb3033d5f24bfccf427f1ee97e8c4bbb3...   \n",
       "4      cb353c7e0419b7b9194979ba250e0dfd1fa19a41b01cb1...   \n",
       "...                                                  ...   \n",
       "65177  6d859ea95f4d7da20ac2aa66e86d0ace5eeb8171b5cbfc...   \n",
       "65178  4cde59d5b42a2d221037cb2fca0de4b017b92486881c72...   \n",
       "65179  537705bf6fab6b290248264b5b34cc3f59352740d98964...   \n",
       "65180  48d22d3e52065cb6d54e1b88ec4d5a41b99f19be0427a2...   \n",
       "65181  5d8e50df07ecaeb2da40b588aab824e9d33a705e005a2b...   \n",
       "\n",
       "                                   predicted_slots_order  \n",
       "0      [slot_7, slot_23, slot_6, slot_22, slot_20, sl...  \n",
       "1      [slot_7, slot_22, slot_14, slot_19, slot_6, sl...  \n",
       "2      [slot_7, slot_20, slot_5, slot_22, slot_17, sl...  \n",
       "3      [slot_6, slot_7, slot_14, slot_19, slot_22, sl...  \n",
       "4      [slot_6, slot_17, slot_7, slot_22, slot_20, sl...  \n",
       "...                                                  ...  \n",
       "65177  [slot_7, slot_22, slot_14, slot_19, slot_6, sl...  \n",
       "65178  [slot_6, slot_7, slot_23, slot_16, slot_20, sl...  \n",
       "65179  [slot_23, slot_6, slot_20, slot_17, slot_7, sl...  \n",
       "65180  [slot_23, slot_7, slot_14, slot_6, slot_20, sl...  \n",
       "65181  [slot_7, slot_16, slot_14, slot_5, slot_20, sl...  \n",
       "\n",
       "[65182 rows x 2 columns]"
      ]
     },
     "execution_count": 263,
     "metadata": {},
     "output_type": "execute_result"
    }
   ],
   "source": [
    "df_submission_final"
   ]
  },
  {
   "cell_type": "code",
   "execution_count": null,
   "id": "7e5be2d3-9651-4657-85fc-a327cf7a4cb6",
   "metadata": {
    "id": "7e5be2d3-9651-4657-85fc-a327cf7a4cb6"
   },
   "outputs": [],
   "source": []
  }
 ],
 "metadata": {
  "colab": {
   "provenance": []
  },
  "kernelspec": {
   "display_name": "Python 3 (ipykernel)",
   "language": "python",
   "name": "python3"
  },
  "language_info": {
   "codemirror_mode": {
    "name": "ipython",
    "version": 3
   },
   "file_extension": ".py",
   "mimetype": "text/x-python",
   "name": "python",
   "nbconvert_exporter": "python",
   "pygments_lexer": "ipython3",
   "version": "3.11.9"
  }
 },
 "nbformat": 4,
 "nbformat_minor": 5
}
